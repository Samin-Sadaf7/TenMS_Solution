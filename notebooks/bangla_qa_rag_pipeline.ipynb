{
 "cells": [
  {
   "cell_type": "code",
   "execution_count": 92,
   "id": "281f0c86",
   "metadata": {},
   "outputs": [],
   "source": [
    "import fitz  # PyMuPDF\n",
    "import re\n",
    "from langdetect import detect\n",
    "from typing import List,Tuple\n",
    "import pandas as pd\n",
    "from IPython.display import display, Image "
   ]
  },
  {
   "cell_type": "code",
   "execution_count": 93,
   "id": "5362599a",
   "metadata": {},
   "outputs": [
    {
     "name": "stdout",
     "output_type": "stream",
     "text": [
      "PDF Path: ../data/HSC26-Bangla1st-Paper.pdf\n",
      "Chunk Size: 150 words\n",
      "Overlap: 50 words\n",
      "Model: sentence-transformers/paraphrase-multilingual-MiniLM-L12-v2\n"
     ]
    }
   ],
   "source": [
    "# Configuration\n",
    "PDF_PATH = \"../data/HSC26-Bangla1st-Paper.pdf\"     #PDF Path\n",
    "COLLECTION_NAME = \"bangla_book\"\n",
    "CHUNK_SIZE = 150  # words\n",
    "CHUNK_OVERLAP = 50  # words\n",
    "MODEL_NAME = \"sentence-transformers/paraphrase-multilingual-MiniLM-L12-v2\"\n",
    "\n",
    "print(f\"PDF Path: {PDF_PATH}\")\n",
    "print(f\"Chunk Size: {CHUNK_SIZE} words\")\n",
    "print(f\"Overlap: {CHUNK_OVERLAP} words\")\n",
    "print(f\"Model: {MODEL_NAME}\")"
   ]
  },
  {
   "cell_type": "code",
   "execution_count": 94,
   "id": "8d371c7a",
   "metadata": {},
   "outputs": [],
   "source": [
    "# Text cleaning functions\n",
    "def clean_extracted_text(text: str) -> str:\n",
    "    \"\"\"Clean and normalize extracted text\"\"\"\n",
    "    # Remove extra whitespaces\n",
    "    text = re.sub(r'\\s+', ' ', text)\n",
    "    \n",
    "    # Remove page numbers and headers/footers\n",
    "    lines = text.split('\\n')\n",
    "    cleaned_lines = []\n",
    "    \n",
    "    for line in lines:\n",
    "        line = line.strip()\n",
    "        # Skip very short lines that might be page numbers or artifacts\n",
    "        if len(line) > 3 and not line.isdigit():\n",
    "            cleaned_lines.append(line)\n",
    "    \n",
    "    text = ' '.join(cleaned_lines)\n",
    "    \n",
    "    # Normalize Bangla punctuation\n",
    "    text = re.sub(r'[।]{2,}', '।', text)\n",
    "    \n",
    "    return text.strip()      "
   ]
  },
  {
   "cell_type": "code",
   "execution_count": 95,
   "id": "49f65678",
   "metadata": {},
   "outputs": [],
   "source": [
    "def detect_language_segments(text: str) -> List[Tuple[str, str]]:\n",
    "    \"\"\"Detect language segments in mixed Bangla-English text\"\"\"\n",
    "    # Split by sentences using both Bangla and English sentence endings\n",
    "    sentences = re.split(r'[।.!?]+', text)\n",
    "    segments = []\n",
    "    \n",
    "    for sentence in sentences:\n",
    "        sentence = sentence.strip()\n",
    "        if len(sentence) < 5:  # Skip very short segments\n",
    "            continue\n",
    "            \n",
    "        try:\n",
    "            # Detect language\n",
    "            lang = detect(sentence)\n",
    "            # Map language codes\n",
    "            if lang == 'bn':\n",
    "                lang = 'bangla'\n",
    "            elif lang == 'en':\n",
    "                lang = 'english'\n",
    "            else:\n",
    "                lang = 'mixed'\n",
    "                \n",
    "            segments.append((sentence, lang))\n",
    "        except:\n",
    "            # If detection fails, mark as mixed\n",
    "            segments.append((sentence, 'mixed'))\n",
    "    \n",
    "    return segments\n"
   ]
  },
  {
   "cell_type": "code",
   "execution_count": 96,
   "id": "feaa6da2",
   "metadata": {},
   "outputs": [
    {
     "name": "stdout",
     "output_type": "stream",
     "text": [
      "Extracting text from: ../data/HSC26-Bangla1st-Paper.pdf\n",
      "Extracted text from 49 pages\n"
     ]
    }
   ],
   "source": [
    "# Extract text from PDF\n",
    "print(f\"Extracting text from: {PDF_PATH}\")\n",
    "\n",
    "doc = fitz.open(PDF_PATH)\n",
    "pages_data = []\n",
    "\n",
    "for page_num in range(len(doc)):\n",
    "    page = doc.load_page(page_num)\n",
    "    text = page.get_text()\n",
    "    \n",
    "    # Clean extracted text\n",
    "    text = clean_extracted_text(text)\n",
    "    \n",
    "    if text.strip():  # Only add non-empty pages\n",
    "        pages_data.append({\n",
    "            'page_number': page_num + 1,\n",
    "            'text': text,\n",
    "            'word_count': len(text.split())\n",
    "        })\n",
    "\n",
    "doc.close()\n",
    "\n",
    "print(f\"Extracted text from {len(pages_data)} pages\")"
   ]
  },
  {
   "cell_type": "code",
   "execution_count": 97,
   "id": "fc2c2272",
   "metadata": {},
   "outputs": [
    {
     "name": "stdout",
     "output_type": "stream",
     "text": [
      "\n",
      "Sample from Page 1 (14 words):\n",
      "'অনলাইন ব্যাচ সম্পর্কিত যেককাকনা জিজ্ঞাাসা , অপরিরিতা আল ািয রিষয় িাাং া ১ম পত্র...'\n"
     ]
    }
   ],
   "source": [
    "# Display sample page\n",
    "if pages_data:\n",
    "    sample_page = pages_data[0]\n",
    "    print(f\"\\nSample from Page {sample_page['page_number']} ({sample_page['word_count']} words):\")\n",
    "    print(f\"'{sample_page['text'][:200]}...'\")"
   ]
  },
  {
   "cell_type": "code",
   "execution_count": 98,
   "id": "2d007d72",
   "metadata": {},
   "outputs": [
    {
     "name": "stdout",
     "output_type": "stream",
     "text": [
      "Content Analysis:\n",
      "   Total Pages: 49\n",
      "   Total Words: 7261\n",
      "   Average Words per Page: 148.2\n"
     ]
    },
    {
     "data": {
      "text/html": [
       "<div>\n",
       "<style scoped>\n",
       "    .dataframe tbody tr th:only-of-type {\n",
       "        vertical-align: middle;\n",
       "    }\n",
       "\n",
       "    .dataframe tbody tr th {\n",
       "        vertical-align: top;\n",
       "    }\n",
       "\n",
       "    .dataframe thead th {\n",
       "        text-align: right;\n",
       "    }\n",
       "</style>\n",
       "<table border=\"1\" class=\"dataframe\">\n",
       "  <thead>\n",
       "    <tr style=\"text-align: right;\">\n",
       "      <th></th>\n",
       "      <th>page_number</th>\n",
       "      <th>text</th>\n",
       "      <th>word_count</th>\n",
       "    </tr>\n",
       "  </thead>\n",
       "  <tbody>\n",
       "    <tr>\n",
       "      <th>0</th>\n",
       "      <td>1</td>\n",
       "      <td>অনলাইন ব্যাচ সম্পর্কিত যেককাকনা জিজ্ঞাাসা , অপ...</td>\n",
       "      <td>14</td>\n",
       "    </tr>\n",
       "    <tr>\n",
       "      <th>1</th>\n",
       "      <td>2</td>\n",
       "      <td>১। অনুপলেি িািা কী কলি জীরিকা রনিবাহ কিলতন? ক)...</td>\n",
       "      <td>202</td>\n",
       "    </tr>\n",
       "    <tr>\n",
       "      <th>2</th>\n",
       "      <td>3</td>\n",
       "      <td>শব্দার্ব ও টীকা েূ শব্দ শলব্দি অর্ব ও িযাখ্যা ...</td>\n",
       "      <td>271</td>\n",
       "    </tr>\n",
       "    <tr>\n",
       "      <th>3</th>\n",
       "      <td>4</td>\n",
       "      <td>শব্দার্ব ও টীকা েূ শব্দ শলব্দি অর্ব ও িযাখ্যা ...</td>\n",
       "      <td>210</td>\n",
       "    </tr>\n",
       "    <tr>\n",
       "      <th>4</th>\n",
       "      <td>5</td>\n",
       "      <td>শব্দার্ব ও টীকা েূ শব্দ শলব্দি অর্ব ও িযাখ্যা ...</td>\n",
       "      <td>72</td>\n",
       "    </tr>\n",
       "    <tr>\n",
       "      <th>5</th>\n",
       "      <td>6</td>\n",
       "      <td>েূ গ্ে আিআমািব্ সসাতািমাত্র।এিীব্নটানাদদকঘিযির...</td>\n",
       "      <td>112</td>\n",
       "    </tr>\n",
       "    <tr>\n",
       "      <th>6</th>\n",
       "      <td>7</td>\n",
       "      <td>আমািহর্িিকানপুকিকািককি।যসিুটিকতকজলকাতা আর্স াআ...</td>\n",
       "      <td>120</td>\n",
       "    </tr>\n",
       "    <tr>\n",
       "      <th>7</th>\n",
       "      <td>8</td>\n",
       "      <td>“মন্দন যহ! খাটিযসানা ব্কট!” র্ব্নুদাদািভাষাটাঅ...</td>\n",
       "      <td>143</td>\n",
       "    </tr>\n",
       "    <tr>\n",
       "      <th>8</th>\n",
       "      <td>9</td>\n",
       "      <td>মামার্ব্ব্াহ-ব্ার়্েকত ুর্ক াখুর্িহইকলননা।এককয...</td>\n",
       "      <td>121</td>\n",
       "    </tr>\n",
       "    <tr>\n",
       "      <th>9</th>\n",
       "      <td>10</td>\n",
       "      <td>এইব্জল াযেমকিমুখাযমাটাএকখানাব্ালা একটুচাপর্দ া...</td>\n",
       "      <td>104</td>\n",
       "    </tr>\n",
       "  </tbody>\n",
       "</table>\n",
       "</div>"
      ],
      "text/plain": [
       "   page_number                                               text  word_count\n",
       "0            1  অনলাইন ব্যাচ সম্পর্কিত যেককাকনা জিজ্ঞাাসা , অপ...          14\n",
       "1            2  ১। অনুপলেি িািা কী কলি জীরিকা রনিবাহ কিলতন? ক)...         202\n",
       "2            3  শব্দার্ব ও টীকা েূ শব্দ শলব্দি অর্ব ও িযাখ্যা ...         271\n",
       "3            4  শব্দার্ব ও টীকা েূ শব্দ শলব্দি অর্ব ও িযাখ্যা ...         210\n",
       "4            5  শব্দার্ব ও টীকা েূ শব্দ শলব্দি অর্ব ও িযাখ্যা ...          72\n",
       "5            6  েূ গ্ে আিআমািব্ সসাতািমাত্র।এিীব্নটানাদদকঘিযির...         112\n",
       "6            7  আমািহর্িিকানপুকিকািককি।যসিুটিকতকজলকাতা আর্স াআ...         120\n",
       "7            8  “মন্দন যহ! খাটিযসানা ব্কট!” র্ব্নুদাদািভাষাটাঅ...         143\n",
       "8            9  মামার্ব্ব্াহ-ব্ার়্েকত ুর্ক াখুর্িহইকলননা।এককয...         121\n",
       "9           10  এইব্জল াযেমকিমুখাযমাটাএকখানাব্ালা একটুচাপর্দ া...         104"
      ]
     },
     "metadata": {},
     "output_type": "display_data"
    }
   ],
   "source": [
    "# Analyze extracted content\n",
    "total_words = sum(page['word_count'] for page in pages_data)\n",
    "avg_words_per_page = total_words / len(pages_data) if pages_data else 0\n",
    "\n",
    "print(f\"Content Analysis:\")\n",
    "print(f\"   Total Pages: {len(pages_data)}\")\n",
    "print(f\"   Total Words: {total_words}\")\n",
    "print(f\"   Average Words per Page: {avg_words_per_page:.1f}\")\n",
    "\n",
    "# Create a quick visualization\n",
    "page_stats = pd.DataFrame(pages_data)\n",
    "display(page_stats.head(10))"
   ]
  },
  {
   "cell_type": "code",
   "execution_count": 99,
   "id": "cb5d5adc",
   "metadata": {},
   "outputs": [
    {
     "data": {
      "text/plain": [
       "\"১। অনুপলেি িািা কী কলি জীরিকা রনিবাহ কিলতন? ক) ডাক্তার্ি খ) ওকালর্ত গ) মাস্টার্ি ঘ) ব্যব্সা ২। োোলক ভাগ্য দেিতাি প্রধান এলজন্ট ি াি কািণ, তাি- ক) প্রর্তপজি খ) প্রভাব্ গ) র্ব্চক্ষণতা ঘ) কূট ব্ুর্ি র্নকচি অনুকেদটি পক়ে ৩ ও ৪ সংখযক প্রকেি উিি দাও। র্পতৃহীন দীপুি চাচাই র্িকলন পর্িব্াকিি কতিা। দীপু র্িজক্ষত হকলও তাি র্সিান্ত যনও াি ক্ষমতা র্িল না। চাচা তাি র্ব্ক ি উকদযাগ র্নকলও যেৌতুক র্নক ব্া়োব্ার়্ে কিাি কািকণ কনযাি র্পতা অপমার্নত যব্াধ ককি র্ব্ক ি আকলাচনা যভকে যদন। দীপু যমক টিি ির্ব্ যদকখ মুগ্ধ হকলও তাি চাচাকক র্কিুই ব্লকত পাকিনর্ন। ৩। েীপুি িািাি সলে ‘অপরিরিতা' গ্লেি দকান িরিলেি রে আলে? ক) হর্িকিি খ) মামাি গ) র্িক্ষককি ঘ) র্ব্নুি ৪। উক্ত িরিলে প্রাধানয দপলয়লে - i) যদৌিাত্ম ii) হীনম্মনযতা iii) যলাভ র্নকচি যকানটি ঠিক? ক। i ও ii খ। ii ও iii গ। i ও iii ঘ। i, ii ও iii ৫. অনুপলেি িয়স কত িেি? ক) পঁর্চি খ) িাব্বিি গ) সাতাি ঘ) আটাি প্রাক-মূলযা ন কতগুকলা প্রকেি সঠিক উিি র্দকত পািকল? SL Ans SL Ans SL Ans SL Ans SL Ans ১ খ ২ গ ৩ খ ৪ ক ৫ গ ✓র্নম্নর্ব্িব্যজক্তিহঠাৎর্ব্িিালীহক ওঠািফকলসমাকিপর্িচ সংকটসম্পককিধািণালাভকিকব্। ✓তৎকালীনসমাি-সভযতাওমানব্তািঅব্মাননাসম্পককিিানকতপািকব্। ✓তৎকালীনসমাকিিপণপ্রথািকুপ্রভাব্সম্পককিিানকতপািকব্। ✓তৎকাকলসমাকিভদ্রকলাককিস্বভাব্বব্র্িষ্ট্যসম্পককিজ্ঞাানলাভকিকব্। ✓নািীযকামলঠিক, র্কন্তুদুব্িলন - কলযাণীিিীব্নচর্িতদ্বািাপ্রর্তজিতএইসতযঅনুধাব্নকিকত পািকব্। ✓মানুষআিার্নক যব্ঁকচথাকক- অনুপকমিদৃষ্ট্াকন্তমানব্িীব্কনিএইর্চিন্তনসতযদিনসম্পককি জ্ঞাানলাভকিকব্। র্িখনফল 2\""
      ]
     },
     "execution_count": 99,
     "metadata": {},
     "output_type": "execute_result"
    }
   ],
   "source": [
    "pages_data[1]['text']\n"
   ]
  },
  {
   "cell_type": "markdown",
   "id": "53e6a914",
   "metadata": {},
   "source": [
    "Extracted text is severly corrupted and PyMUDF library fails to recognize the texts correctly. So, better approach is using ocr and extract using Pytesseract"
   ]
  },
  {
   "cell_type": "code",
   "execution_count": 100,
   "id": "d5558216",
   "metadata": {},
   "outputs": [],
   "source": [
    "# Import libraries\n",
    "from pdf2image import convert_from_path\n",
    "import cv2\n",
    "import numpy as np\n",
    "import re\n",
    "import pandas as pd\n",
    "from IPython.display import display\n",
    "from PIL import Image\n",
    "import pytesseract"
   ]
  },
  {
   "cell_type": "code",
   "execution_count": 101,
   "id": "16c0f664",
   "metadata": {},
   "outputs": [],
   "source": [
    "TESS_LANG = \"ben\"\n",
    "DPI = 300"
   ]
  },
  {
   "cell_type": "code",
   "execution_count": 102,
   "id": "618c3694",
   "metadata": {},
   "outputs": [],
   "source": [
    "# OCR-based text extraction functions\n",
    "def preprocess_image_for_ocr(image):\n",
    "    \"\"\"Preprocess image for better OCR results\"\"\"\n",
    "    # Convert PIL image to numpy array\n",
    "    img = np.array(image)\n",
    "    \n",
    "    # Convert to grayscale\n",
    "    gray = cv2.cvtColor(img, cv2.COLOR_RGB2GRAY)\n",
    "    \n",
    "    # Apply slight Gaussian blur to reduce noise\n",
    "    blurred = cv2.GaussianBlur(gray, (1, 1), 0)\n",
    "    \n",
    "    # Increase contrast\n",
    "    contrast = cv2.convertScaleAbs(blurred, alpha=1.2, beta=10)\n",
    "    \n",
    "    return contrast\n"
   ]
  },
  {
   "cell_type": "code",
   "execution_count": 103,
   "id": "acc2b59f",
   "metadata": {},
   "outputs": [],
   "source": [
    "def extract_text_tesseract(image: Image.Image) -> str:\n",
    "    \"\"\"Extract Bangla text using Tesseract\"\"\"\n",
    "    return pytesseract.image_to_string(image, lang=TESS_LANG)"
   ]
  },
  {
   "cell_type": "code",
   "execution_count": 104,
   "id": "a78b8128",
   "metadata": {},
   "outputs": [],
   "source": [
    "def clean_bangla_text(text: str) -> str:\n",
    "    \"\"\"Clean Bangla OCR output\"\"\"\n",
    "    text = re.sub(r'[^\\u0980-\\u09FF\\s।,!?]', '', text)  # Keep Bangla and punctuation\n",
    "    text = re.sub(r'\\s+', ' ', text)\n",
    "    return text.strip()"
   ]
  },
  {
   "cell_type": "code",
   "execution_count": 105,
   "id": "358efc27",
   "metadata": {},
   "outputs": [
    {
     "name": "stderr",
     "output_type": "stream",
     "text": [
      "huggingface/tokenizers: The current process just got forked, after parallelism has already been used. Disabling parallelism to avoid deadlocks...\n",
      "To disable this warning, you can either:\n",
      "\t- Avoid using `tokenizers` before the fork if possible\n",
      "\t- Explicitly set the environment variable TOKENIZERS_PARALLELISM=(true | false)\n",
      "huggingface/tokenizers: The current process just got forked, after parallelism has already been used. Disabling parallelism to avoid deadlocks...\n",
      "To disable this warning, you can either:\n",
      "\t- Avoid using `tokenizers` before the fork if possible\n",
      "\t- Explicitly set the environment variable TOKENIZERS_PARALLELISM=(true | false)\n",
      "huggingface/tokenizers: The current process just got forked, after parallelism has already been used. Disabling parallelism to avoid deadlocks...\n",
      "To disable this warning, you can either:\n",
      "\t- Avoid using `tokenizers` before the fork if possible\n",
      "\t- Explicitly set the environment variable TOKENIZERS_PARALLELISM=(true | false)\n"
     ]
    },
    {
     "name": "stdout",
     "output_type": "stream",
     "text": [
      "Converted 49 pages to images\n"
     ]
    }
   ],
   "source": [
    "try:\n",
    "    # Convert PDF pages to images\n",
    "    images = convert_from_path(PDF_PATH, dpi=DPI) \n",
    "    print(f\"Converted {len(images)} pages to images\")\n",
    "except Exception as e:\n",
    "    print(f\"Error converting PDF: {e}\")\n",
    "    raise"
   ]
  },
  {
   "cell_type": "code",
   "execution_count": 106,
   "id": "e1cd42fb",
   "metadata": {},
   "outputs": [
    {
     "name": "stdout",
     "output_type": "stream",
     "text": [
      "🔍 Processing page 1/49... "
     ]
    },
    {
     "name": "stderr",
     "output_type": "stream",
     "text": [
      "huggingface/tokenizers: The current process just got forked, after parallelism has already been used. Disabling parallelism to avoid deadlocks...\n",
      "To disable this warning, you can either:\n",
      "\t- Avoid using `tokenizers` before the fork if possible\n",
      "\t- Explicitly set the environment variable TOKENIZERS_PARALLELISM=(true | false)\n"
     ]
    },
    {
     "name": "stdout",
     "output_type": "stream",
     "text": [
      "✅ (13 words)\n",
      "🔍 Processing page 2/49... "
     ]
    },
    {
     "name": "stderr",
     "output_type": "stream",
     "text": [
      "huggingface/tokenizers: The current process just got forked, after parallelism has already been used. Disabling parallelism to avoid deadlocks...\n",
      "To disable this warning, you can either:\n",
      "\t- Avoid using `tokenizers` before the fork if possible\n",
      "\t- Explicitly set the environment variable TOKENIZERS_PARALLELISM=(true | false)\n"
     ]
    },
    {
     "name": "stdout",
     "output_type": "stream",
     "text": [
      "✅ (214 words)\n",
      "🔍 Processing page 3/49... "
     ]
    },
    {
     "name": "stderr",
     "output_type": "stream",
     "text": [
      "huggingface/tokenizers: The current process just got forked, after parallelism has already been used. Disabling parallelism to avoid deadlocks...\n",
      "To disable this warning, you can either:\n",
      "\t- Avoid using `tokenizers` before the fork if possible\n",
      "\t- Explicitly set the environment variable TOKENIZERS_PARALLELISM=(true | false)\n"
     ]
    },
    {
     "name": "stdout",
     "output_type": "stream",
     "text": [
      "✅ (163 words)\n",
      "🔍 Processing page 4/49... "
     ]
    },
    {
     "name": "stderr",
     "output_type": "stream",
     "text": [
      "huggingface/tokenizers: The current process just got forked, after parallelism has already been used. Disabling parallelism to avoid deadlocks...\n",
      "To disable this warning, you can either:\n",
      "\t- Avoid using `tokenizers` before the fork if possible\n",
      "\t- Explicitly set the environment variable TOKENIZERS_PARALLELISM=(true | false)\n"
     ]
    },
    {
     "name": "stdout",
     "output_type": "stream",
     "text": [
      "✅ (145 words)\n",
      "🔍 Processing page 5/49... "
     ]
    },
    {
     "name": "stderr",
     "output_type": "stream",
     "text": [
      "huggingface/tokenizers: The current process just got forked, after parallelism has already been used. Disabling parallelism to avoid deadlocks...\n",
      "To disable this warning, you can either:\n",
      "\t- Avoid using `tokenizers` before the fork if possible\n",
      "\t- Explicitly set the environment variable TOKENIZERS_PARALLELISM=(true | false)\n"
     ]
    },
    {
     "name": "stdout",
     "output_type": "stream",
     "text": [
      "✅ (42 words)\n",
      "🔍 Processing page 6/49... "
     ]
    },
    {
     "name": "stderr",
     "output_type": "stream",
     "text": [
      "huggingface/tokenizers: The current process just got forked, after parallelism has already been used. Disabling parallelism to avoid deadlocks...\n",
      "To disable this warning, you can either:\n",
      "\t- Avoid using `tokenizers` before the fork if possible\n",
      "\t- Explicitly set the environment variable TOKENIZERS_PARALLELISM=(true | false)\n"
     ]
    },
    {
     "name": "stdout",
     "output_type": "stream",
     "text": [
      "✅ (318 words)\n",
      "🔍 Processing page 7/49... "
     ]
    },
    {
     "name": "stderr",
     "output_type": "stream",
     "text": [
      "huggingface/tokenizers: The current process just got forked, after parallelism has already been used. Disabling parallelism to avoid deadlocks...\n",
      "To disable this warning, you can either:\n",
      "\t- Avoid using `tokenizers` before the fork if possible\n",
      "\t- Explicitly set the environment variable TOKENIZERS_PARALLELISM=(true | false)\n"
     ]
    },
    {
     "name": "stdout",
     "output_type": "stream",
     "text": [
      "✅ (294 words)\n",
      "🔍 Processing page 8/49... "
     ]
    },
    {
     "name": "stderr",
     "output_type": "stream",
     "text": [
      "huggingface/tokenizers: The current process just got forked, after parallelism has already been used. Disabling parallelism to avoid deadlocks...\n",
      "To disable this warning, you can either:\n",
      "\t- Avoid using `tokenizers` before the fork if possible\n",
      "\t- Explicitly set the environment variable TOKENIZERS_PARALLELISM=(true | false)\n"
     ]
    },
    {
     "name": "stdout",
     "output_type": "stream",
     "text": [
      "✅ (404 words)\n",
      "🔍 Processing page 9/49... "
     ]
    },
    {
     "name": "stderr",
     "output_type": "stream",
     "text": [
      "huggingface/tokenizers: The current process just got forked, after parallelism has already been used. Disabling parallelism to avoid deadlocks...\n",
      "To disable this warning, you can either:\n",
      "\t- Avoid using `tokenizers` before the fork if possible\n",
      "\t- Explicitly set the environment variable TOKENIZERS_PARALLELISM=(true | false)\n"
     ]
    },
    {
     "name": "stdout",
     "output_type": "stream",
     "text": [
      "✅ (264 words)\n",
      "🔍 Processing page 10/49... "
     ]
    },
    {
     "name": "stderr",
     "output_type": "stream",
     "text": [
      "huggingface/tokenizers: The current process just got forked, after parallelism has already been used. Disabling parallelism to avoid deadlocks...\n",
      "To disable this warning, you can either:\n",
      "\t- Avoid using `tokenizers` before the fork if possible\n",
      "\t- Explicitly set the environment variable TOKENIZERS_PARALLELISM=(true | false)\n"
     ]
    },
    {
     "name": "stdout",
     "output_type": "stream",
     "text": [
      "✅ (211 words)\n",
      "🔍 Processing page 11/49... "
     ]
    },
    {
     "name": "stderr",
     "output_type": "stream",
     "text": [
      "huggingface/tokenizers: The current process just got forked, after parallelism has already been used. Disabling parallelism to avoid deadlocks...\n",
      "To disable this warning, you can either:\n",
      "\t- Avoid using `tokenizers` before the fork if possible\n",
      "\t- Explicitly set the environment variable TOKENIZERS_PARALLELISM=(true | false)\n"
     ]
    },
    {
     "name": "stdout",
     "output_type": "stream",
     "text": [
      "✅ (225 words)\n",
      "🔍 Processing page 12/49... "
     ]
    },
    {
     "name": "stderr",
     "output_type": "stream",
     "text": [
      "huggingface/tokenizers: The current process just got forked, after parallelism has already been used. Disabling parallelism to avoid deadlocks...\n",
      "To disable this warning, you can either:\n",
      "\t- Avoid using `tokenizers` before the fork if possible\n",
      "\t- Explicitly set the environment variable TOKENIZERS_PARALLELISM=(true | false)\n"
     ]
    },
    {
     "name": "stdout",
     "output_type": "stream",
     "text": [
      "✅ (372 words)\n",
      "🔍 Processing page 13/49... "
     ]
    },
    {
     "name": "stderr",
     "output_type": "stream",
     "text": [
      "huggingface/tokenizers: The current process just got forked, after parallelism has already been used. Disabling parallelism to avoid deadlocks...\n",
      "To disable this warning, you can either:\n",
      "\t- Avoid using `tokenizers` before the fork if possible\n",
      "\t- Explicitly set the environment variable TOKENIZERS_PARALLELISM=(true | false)\n"
     ]
    },
    {
     "name": "stdout",
     "output_type": "stream",
     "text": [
      "✅ (291 words)\n",
      "🔍 Processing page 14/49... "
     ]
    },
    {
     "name": "stderr",
     "output_type": "stream",
     "text": [
      "huggingface/tokenizers: The current process just got forked, after parallelism has already been used. Disabling parallelism to avoid deadlocks...\n",
      "To disable this warning, you can either:\n",
      "\t- Avoid using `tokenizers` before the fork if possible\n",
      "\t- Explicitly set the environment variable TOKENIZERS_PARALLELISM=(true | false)\n"
     ]
    },
    {
     "name": "stdout",
     "output_type": "stream",
     "text": [
      "✅ (304 words)\n",
      "🔍 Processing page 15/49... "
     ]
    },
    {
     "name": "stderr",
     "output_type": "stream",
     "text": [
      "huggingface/tokenizers: The current process just got forked, after parallelism has already been used. Disabling parallelism to avoid deadlocks...\n",
      "To disable this warning, you can either:\n",
      "\t- Avoid using `tokenizers` before the fork if possible\n",
      "\t- Explicitly set the environment variable TOKENIZERS_PARALLELISM=(true | false)\n"
     ]
    },
    {
     "name": "stdout",
     "output_type": "stream",
     "text": [
      "✅ (347 words)\n",
      "🔍 Processing page 16/49... "
     ]
    },
    {
     "name": "stderr",
     "output_type": "stream",
     "text": [
      "huggingface/tokenizers: The current process just got forked, after parallelism has already been used. Disabling parallelism to avoid deadlocks...\n",
      "To disable this warning, you can either:\n",
      "\t- Avoid using `tokenizers` before the fork if possible\n",
      "\t- Explicitly set the environment variable TOKENIZERS_PARALLELISM=(true | false)\n"
     ]
    },
    {
     "name": "stdout",
     "output_type": "stream",
     "text": [
      "✅ (148 words)\n",
      "🔍 Processing page 17/49... "
     ]
    },
    {
     "name": "stderr",
     "output_type": "stream",
     "text": [
      "huggingface/tokenizers: The current process just got forked, after parallelism has already been used. Disabling parallelism to avoid deadlocks...\n",
      "To disable this warning, you can either:\n",
      "\t- Avoid using `tokenizers` before the fork if possible\n",
      "\t- Explicitly set the environment variable TOKENIZERS_PARALLELISM=(true | false)\n"
     ]
    },
    {
     "name": "stdout",
     "output_type": "stream",
     "text": [
      "✅ (207 words)\n",
      "🔍 Processing page 18/49... "
     ]
    },
    {
     "name": "stderr",
     "output_type": "stream",
     "text": [
      "huggingface/tokenizers: The current process just got forked, after parallelism has already been used. Disabling parallelism to avoid deadlocks...\n",
      "To disable this warning, you can either:\n",
      "\t- Avoid using `tokenizers` before the fork if possible\n",
      "\t- Explicitly set the environment variable TOKENIZERS_PARALLELISM=(true | false)\n"
     ]
    },
    {
     "name": "stdout",
     "output_type": "stream",
     "text": [
      "✅ (219 words)\n",
      "🔍 Processing page 19/49... "
     ]
    },
    {
     "name": "stderr",
     "output_type": "stream",
     "text": [
      "huggingface/tokenizers: The current process just got forked, after parallelism has already been used. Disabling parallelism to avoid deadlocks...\n",
      "To disable this warning, you can either:\n",
      "\t- Avoid using `tokenizers` before the fork if possible\n",
      "\t- Explicitly set the environment variable TOKENIZERS_PARALLELISM=(true | false)\n"
     ]
    },
    {
     "name": "stdout",
     "output_type": "stream",
     "text": [
      "✅ (229 words)\n",
      "🔍 Processing page 20/49... "
     ]
    },
    {
     "name": "stderr",
     "output_type": "stream",
     "text": [
      "huggingface/tokenizers: The current process just got forked, after parallelism has already been used. Disabling parallelism to avoid deadlocks...\n",
      "To disable this warning, you can either:\n",
      "\t- Avoid using `tokenizers` before the fork if possible\n",
      "\t- Explicitly set the environment variable TOKENIZERS_PARALLELISM=(true | false)\n"
     ]
    },
    {
     "name": "stdout",
     "output_type": "stream",
     "text": [
      "✅ (195 words)\n",
      "🔍 Processing page 21/49... "
     ]
    },
    {
     "name": "stderr",
     "output_type": "stream",
     "text": [
      "huggingface/tokenizers: The current process just got forked, after parallelism has already been used. Disabling parallelism to avoid deadlocks...\n",
      "To disable this warning, you can either:\n",
      "\t- Avoid using `tokenizers` before the fork if possible\n",
      "\t- Explicitly set the environment variable TOKENIZERS_PARALLELISM=(true | false)\n"
     ]
    },
    {
     "name": "stdout",
     "output_type": "stream",
     "text": [
      "✅ (326 words)\n",
      "🔍 Processing page 22/49... "
     ]
    },
    {
     "name": "stderr",
     "output_type": "stream",
     "text": [
      "huggingface/tokenizers: The current process just got forked, after parallelism has already been used. Disabling parallelism to avoid deadlocks...\n",
      "To disable this warning, you can either:\n",
      "\t- Avoid using `tokenizers` before the fork if possible\n",
      "\t- Explicitly set the environment variable TOKENIZERS_PARALLELISM=(true | false)\n"
     ]
    },
    {
     "name": "stdout",
     "output_type": "stream",
     "text": [
      "✅ (243 words)\n",
      "🔍 Processing page 23/49... "
     ]
    },
    {
     "name": "stderr",
     "output_type": "stream",
     "text": [
      "huggingface/tokenizers: The current process just got forked, after parallelism has already been used. Disabling parallelism to avoid deadlocks...\n",
      "To disable this warning, you can either:\n",
      "\t- Avoid using `tokenizers` before the fork if possible\n",
      "\t- Explicitly set the environment variable TOKENIZERS_PARALLELISM=(true | false)\n"
     ]
    },
    {
     "name": "stdout",
     "output_type": "stream",
     "text": [
      "✅ (324 words)\n",
      "🔍 Processing page 24/49... "
     ]
    },
    {
     "name": "stderr",
     "output_type": "stream",
     "text": [
      "huggingface/tokenizers: The current process just got forked, after parallelism has already been used. Disabling parallelism to avoid deadlocks...\n",
      "To disable this warning, you can either:\n",
      "\t- Avoid using `tokenizers` before the fork if possible\n",
      "\t- Explicitly set the environment variable TOKENIZERS_PARALLELISM=(true | false)\n"
     ]
    },
    {
     "name": "stdout",
     "output_type": "stream",
     "text": [
      "✅ (328 words)\n",
      "🔍 Processing page 25/49... "
     ]
    },
    {
     "name": "stderr",
     "output_type": "stream",
     "text": [
      "huggingface/tokenizers: The current process just got forked, after parallelism has already been used. Disabling parallelism to avoid deadlocks...\n",
      "To disable this warning, you can either:\n",
      "\t- Avoid using `tokenizers` before the fork if possible\n",
      "\t- Explicitly set the environment variable TOKENIZERS_PARALLELISM=(true | false)\n"
     ]
    },
    {
     "name": "stdout",
     "output_type": "stream",
     "text": [
      "✅ (255 words)\n",
      "🔍 Processing page 26/49... "
     ]
    },
    {
     "name": "stderr",
     "output_type": "stream",
     "text": [
      "huggingface/tokenizers: The current process just got forked, after parallelism has already been used. Disabling parallelism to avoid deadlocks...\n",
      "To disable this warning, you can either:\n",
      "\t- Avoid using `tokenizers` before the fork if possible\n",
      "\t- Explicitly set the environment variable TOKENIZERS_PARALLELISM=(true | false)\n"
     ]
    },
    {
     "name": "stdout",
     "output_type": "stream",
     "text": [
      "✅ (266 words)\n",
      "🔍 Processing page 27/49... "
     ]
    },
    {
     "name": "stderr",
     "output_type": "stream",
     "text": [
      "huggingface/tokenizers: The current process just got forked, after parallelism has already been used. Disabling parallelism to avoid deadlocks...\n",
      "To disable this warning, you can either:\n",
      "\t- Avoid using `tokenizers` before the fork if possible\n",
      "\t- Explicitly set the environment variable TOKENIZERS_PARALLELISM=(true | false)\n"
     ]
    },
    {
     "name": "stdout",
     "output_type": "stream",
     "text": [
      "✅ (244 words)\n",
      "🔍 Processing page 28/49... "
     ]
    },
    {
     "name": "stderr",
     "output_type": "stream",
     "text": [
      "huggingface/tokenizers: The current process just got forked, after parallelism has already been used. Disabling parallelism to avoid deadlocks...\n",
      "To disable this warning, you can either:\n",
      "\t- Avoid using `tokenizers` before the fork if possible\n",
      "\t- Explicitly set the environment variable TOKENIZERS_PARALLELISM=(true | false)\n"
     ]
    },
    {
     "name": "stdout",
     "output_type": "stream",
     "text": [
      "✅ (243 words)\n",
      "🔍 Processing page 29/49... "
     ]
    },
    {
     "name": "stderr",
     "output_type": "stream",
     "text": [
      "huggingface/tokenizers: The current process just got forked, after parallelism has already been used. Disabling parallelism to avoid deadlocks...\n",
      "To disable this warning, you can either:\n",
      "\t- Avoid using `tokenizers` before the fork if possible\n",
      "\t- Explicitly set the environment variable TOKENIZERS_PARALLELISM=(true | false)\n"
     ]
    },
    {
     "name": "stdout",
     "output_type": "stream",
     "text": [
      "✅ (169 words)\n",
      "🔍 Processing page 30/49... "
     ]
    },
    {
     "name": "stderr",
     "output_type": "stream",
     "text": [
      "huggingface/tokenizers: The current process just got forked, after parallelism has already been used. Disabling parallelism to avoid deadlocks...\n",
      "To disable this warning, you can either:\n",
      "\t- Avoid using `tokenizers` before the fork if possible\n",
      "\t- Explicitly set the environment variable TOKENIZERS_PARALLELISM=(true | false)\n"
     ]
    },
    {
     "name": "stdout",
     "output_type": "stream",
     "text": [
      "✅ (273 words)\n",
      "🔍 Processing page 31/49... "
     ]
    },
    {
     "name": "stderr",
     "output_type": "stream",
     "text": [
      "huggingface/tokenizers: The current process just got forked, after parallelism has already been used. Disabling parallelism to avoid deadlocks...\n",
      "To disable this warning, you can either:\n",
      "\t- Avoid using `tokenizers` before the fork if possible\n",
      "\t- Explicitly set the environment variable TOKENIZERS_PARALLELISM=(true | false)\n"
     ]
    },
    {
     "name": "stdout",
     "output_type": "stream",
     "text": [
      "✅ (322 words)\n",
      "🔍 Processing page 32/49... "
     ]
    },
    {
     "name": "stderr",
     "output_type": "stream",
     "text": [
      "huggingface/tokenizers: The current process just got forked, after parallelism has already been used. Disabling parallelism to avoid deadlocks...\n",
      "To disable this warning, you can either:\n",
      "\t- Avoid using `tokenizers` before the fork if possible\n",
      "\t- Explicitly set the environment variable TOKENIZERS_PARALLELISM=(true | false)\n"
     ]
    },
    {
     "name": "stdout",
     "output_type": "stream",
     "text": [
      "✅ (260 words)\n",
      "🔍 Processing page 33/49... "
     ]
    },
    {
     "name": "stderr",
     "output_type": "stream",
     "text": [
      "huggingface/tokenizers: The current process just got forked, after parallelism has already been used. Disabling parallelism to avoid deadlocks...\n",
      "To disable this warning, you can either:\n",
      "\t- Avoid using `tokenizers` before the fork if possible\n",
      "\t- Explicitly set the environment variable TOKENIZERS_PARALLELISM=(true | false)\n"
     ]
    },
    {
     "name": "stdout",
     "output_type": "stream",
     "text": [
      "✅ (247 words)\n",
      "🔍 Processing page 34/49... "
     ]
    },
    {
     "name": "stderr",
     "output_type": "stream",
     "text": [
      "huggingface/tokenizers: The current process just got forked, after parallelism has already been used. Disabling parallelism to avoid deadlocks...\n",
      "To disable this warning, you can either:\n",
      "\t- Avoid using `tokenizers` before the fork if possible\n",
      "\t- Explicitly set the environment variable TOKENIZERS_PARALLELISM=(true | false)\n"
     ]
    },
    {
     "name": "stdout",
     "output_type": "stream",
     "text": [
      "✅ (230 words)\n",
      "🔍 Processing page 35/49... "
     ]
    },
    {
     "name": "stderr",
     "output_type": "stream",
     "text": [
      "huggingface/tokenizers: The current process just got forked, after parallelism has already been used. Disabling parallelism to avoid deadlocks...\n",
      "To disable this warning, you can either:\n",
      "\t- Avoid using `tokenizers` before the fork if possible\n",
      "\t- Explicitly set the environment variable TOKENIZERS_PARALLELISM=(true | false)\n"
     ]
    },
    {
     "name": "stdout",
     "output_type": "stream",
     "text": [
      "✅ (255 words)\n",
      "🔍 Processing page 36/49... "
     ]
    },
    {
     "name": "stderr",
     "output_type": "stream",
     "text": [
      "huggingface/tokenizers: The current process just got forked, after parallelism has already been used. Disabling parallelism to avoid deadlocks...\n",
      "To disable this warning, you can either:\n",
      "\t- Avoid using `tokenizers` before the fork if possible\n",
      "\t- Explicitly set the environment variable TOKENIZERS_PARALLELISM=(true | false)\n"
     ]
    },
    {
     "name": "stdout",
     "output_type": "stream",
     "text": [
      "✅ (258 words)\n",
      "🔍 Processing page 37/49... "
     ]
    },
    {
     "name": "stderr",
     "output_type": "stream",
     "text": [
      "huggingface/tokenizers: The current process just got forked, after parallelism has already been used. Disabling parallelism to avoid deadlocks...\n",
      "To disable this warning, you can either:\n",
      "\t- Avoid using `tokenizers` before the fork if possible\n",
      "\t- Explicitly set the environment variable TOKENIZERS_PARALLELISM=(true | false)\n"
     ]
    },
    {
     "name": "stdout",
     "output_type": "stream",
     "text": [
      "✅ (293 words)\n",
      "🔍 Processing page 38/49... "
     ]
    },
    {
     "name": "stderr",
     "output_type": "stream",
     "text": [
      "huggingface/tokenizers: The current process just got forked, after parallelism has already been used. Disabling parallelism to avoid deadlocks...\n",
      "To disable this warning, you can either:\n",
      "\t- Avoid using `tokenizers` before the fork if possible\n",
      "\t- Explicitly set the environment variable TOKENIZERS_PARALLELISM=(true | false)\n"
     ]
    },
    {
     "name": "stdout",
     "output_type": "stream",
     "text": [
      "✅ (200 words)\n",
      "🔍 Processing page 39/49... "
     ]
    },
    {
     "name": "stderr",
     "output_type": "stream",
     "text": [
      "huggingface/tokenizers: The current process just got forked, after parallelism has already been used. Disabling parallelism to avoid deadlocks...\n",
      "To disable this warning, you can either:\n",
      "\t- Avoid using `tokenizers` before the fork if possible\n",
      "\t- Explicitly set the environment variable TOKENIZERS_PARALLELISM=(true | false)\n"
     ]
    },
    {
     "name": "stdout",
     "output_type": "stream",
     "text": [
      "✅ (128 words)\n",
      "🔍 Processing page 40/49... "
     ]
    },
    {
     "name": "stderr",
     "output_type": "stream",
     "text": [
      "huggingface/tokenizers: The current process just got forked, after parallelism has already been used. Disabling parallelism to avoid deadlocks...\n",
      "To disable this warning, you can either:\n",
      "\t- Avoid using `tokenizers` before the fork if possible\n",
      "\t- Explicitly set the environment variable TOKENIZERS_PARALLELISM=(true | false)\n"
     ]
    },
    {
     "name": "stdout",
     "output_type": "stream",
     "text": [
      "✅ (102 words)\n",
      "🔍 Processing page 41/49... "
     ]
    },
    {
     "name": "stderr",
     "output_type": "stream",
     "text": [
      "huggingface/tokenizers: The current process just got forked, after parallelism has already been used. Disabling parallelism to avoid deadlocks...\n",
      "To disable this warning, you can either:\n",
      "\t- Avoid using `tokenizers` before the fork if possible\n",
      "\t- Explicitly set the environment variable TOKENIZERS_PARALLELISM=(true | false)\n"
     ]
    },
    {
     "name": "stdout",
     "output_type": "stream",
     "text": [
      "✅ (80 words)\n",
      "🔍 Processing page 42/49... "
     ]
    },
    {
     "name": "stderr",
     "output_type": "stream",
     "text": [
      "huggingface/tokenizers: The current process just got forked, after parallelism has already been used. Disabling parallelism to avoid deadlocks...\n",
      "To disable this warning, you can either:\n",
      "\t- Avoid using `tokenizers` before the fork if possible\n",
      "\t- Explicitly set the environment variable TOKENIZERS_PARALLELISM=(true | false)\n"
     ]
    },
    {
     "name": "stdout",
     "output_type": "stream",
     "text": [
      "✅ (305 words)\n",
      "🔍 Processing page 43/49... "
     ]
    },
    {
     "name": "stderr",
     "output_type": "stream",
     "text": [
      "huggingface/tokenizers: The current process just got forked, after parallelism has already been used. Disabling parallelism to avoid deadlocks...\n",
      "To disable this warning, you can either:\n",
      "\t- Avoid using `tokenizers` before the fork if possible\n",
      "\t- Explicitly set the environment variable TOKENIZERS_PARALLELISM=(true | false)\n"
     ]
    },
    {
     "name": "stdout",
     "output_type": "stream",
     "text": [
      "✅ (287 words)\n",
      "🔍 Processing page 44/49... "
     ]
    },
    {
     "name": "stderr",
     "output_type": "stream",
     "text": [
      "huggingface/tokenizers: The current process just got forked, after parallelism has already been used. Disabling parallelism to avoid deadlocks...\n",
      "To disable this warning, you can either:\n",
      "\t- Avoid using `tokenizers` before the fork if possible\n",
      "\t- Explicitly set the environment variable TOKENIZERS_PARALLELISM=(true | false)\n"
     ]
    },
    {
     "name": "stdout",
     "output_type": "stream",
     "text": [
      "✅ (228 words)\n",
      "🔍 Processing page 45/49... "
     ]
    },
    {
     "name": "stderr",
     "output_type": "stream",
     "text": [
      "huggingface/tokenizers: The current process just got forked, after parallelism has already been used. Disabling parallelism to avoid deadlocks...\n",
      "To disable this warning, you can either:\n",
      "\t- Avoid using `tokenizers` before the fork if possible\n",
      "\t- Explicitly set the environment variable TOKENIZERS_PARALLELISM=(true | false)\n"
     ]
    },
    {
     "name": "stdout",
     "output_type": "stream",
     "text": [
      "✅ (356 words)\n",
      "🔍 Processing page 46/49... "
     ]
    },
    {
     "name": "stderr",
     "output_type": "stream",
     "text": [
      "huggingface/tokenizers: The current process just got forked, after parallelism has already been used. Disabling parallelism to avoid deadlocks...\n",
      "To disable this warning, you can either:\n",
      "\t- Avoid using `tokenizers` before the fork if possible\n",
      "\t- Explicitly set the environment variable TOKENIZERS_PARALLELISM=(true | false)\n"
     ]
    },
    {
     "name": "stdout",
     "output_type": "stream",
     "text": [
      "✅ (357 words)\n",
      "🔍 Processing page 47/49... "
     ]
    },
    {
     "name": "stderr",
     "output_type": "stream",
     "text": [
      "huggingface/tokenizers: The current process just got forked, after parallelism has already been used. Disabling parallelism to avoid deadlocks...\n",
      "To disable this warning, you can either:\n",
      "\t- Avoid using `tokenizers` before the fork if possible\n",
      "\t- Explicitly set the environment variable TOKENIZERS_PARALLELISM=(true | false)\n"
     ]
    },
    {
     "name": "stdout",
     "output_type": "stream",
     "text": [
      "✅ (330 words)\n",
      "🔍 Processing page 48/49... "
     ]
    },
    {
     "name": "stderr",
     "output_type": "stream",
     "text": [
      "huggingface/tokenizers: The current process just got forked, after parallelism has already been used. Disabling parallelism to avoid deadlocks...\n",
      "To disable this warning, you can either:\n",
      "\t- Avoid using `tokenizers` before the fork if possible\n",
      "\t- Explicitly set the environment variable TOKENIZERS_PARALLELISM=(true | false)\n"
     ]
    },
    {
     "name": "stdout",
     "output_type": "stream",
     "text": [
      "✅ (227 words)\n",
      "🔍 Processing page 49/49... "
     ]
    },
    {
     "name": "stderr",
     "output_type": "stream",
     "text": [
      "huggingface/tokenizers: The current process just got forked, after parallelism has already been used. Disabling parallelism to avoid deadlocks...\n",
      "To disable this warning, you can either:\n",
      "\t- Avoid using `tokenizers` before the fork if possible\n",
      "\t- Explicitly set the environment variable TOKENIZERS_PARALLELISM=(true | false)\n"
     ]
    },
    {
     "name": "stdout",
     "output_type": "stream",
     "text": [
      "✅ (167 words)\n",
      "\n",
      "✅ Finished OCR on 49 pages\n"
     ]
    }
   ],
   "source": [
    "# OCR all pages\n",
    "pages_data = []\n",
    "for i, image in enumerate(images):\n",
    "    print(f\"🔍 Processing page {i+1}/{len(images)}...\", end=\" \")\n",
    "    try:\n",
    "        raw_text = extract_text_tesseract(image)\n",
    "        cleaned_text = clean_bangla_text(raw_text)\n",
    "        if cleaned_text:\n",
    "            pages_data.append({\n",
    "                'page_number': i + 1,\n",
    "                'text': cleaned_text,\n",
    "                'word_count': len(cleaned_text.split()),\n",
    "                'raw_text': raw_text[:300] \n",
    "            })\n",
    "            print(f\"✅ ({len(cleaned_text.split())} words)\")\n",
    "        else:\n",
    "            print(\"⚠️ No text found\")\n",
    "    except Exception as e:\n",
    "        print(f\"❌ Error: {e}\")\n",
    "\n",
    "print(f\"\\n✅ Finished OCR on {len(pages_data)} pages\")"
   ]
  },
  {
   "cell_type": "code",
   "execution_count": 149,
   "id": "96d7b85b",
   "metadata": {},
   "outputs": [
    {
     "name": "stdout",
     "output_type": "stream",
     "text": [
      "\n",
      " Summary:\n",
      "   Pages processed: 49\n",
      "   Total words: 11908\n",
      "   Average words per page: 243.0\n"
     ]
    }
   ],
   "source": [
    "# Summary Stats\n",
    "total_words = sum(page['word_count'] for page in pages_data)\n",
    "avg_words = total_words / len(pages_data) if pages_data else 0\n",
    "print(f\"\\n Summary:\")\n",
    "print(f\"   Pages processed: {len(pages_data)}\")\n",
    "print(f\"   Total words: {total_words}\")\n",
    "print(f\"   Average words per page: {avg_words:.1f}\")"
   ]
  },
  {
   "cell_type": "code",
   "execution_count": 150,
   "id": "bea03470",
   "metadata": {},
   "outputs": [
    {
     "name": "stdout",
     "output_type": "stream",
     "text": [
      "\n",
      " Sample Page 1:\n",
      "Raw OCR: 10940759\n",
      "\n",
      "অনলাইন ব্যাট”\n",
      "\n",
      "হি\n",
      "বাংলা * ইংরেজি * আইসিটি\n",
      "\n",
      "অনলাইন ব্যাচ সম্পর্কিত যেকোনো জিজ্ঞাসায়,\n",
      "\n",
      "কলকরো ৬৬ 76919\n",
      "\n",
      "Cleaned: অনলাইন ব্যাট হি বাংলা ইংরেজি আইসিটি অনলাইন ব্যাচ সম্পর্কিত যেকোনো জিজ্ঞাসায়, কলকরো ৬৬...\n"
     ]
    }
   ],
   "source": [
    "# Display sample page\n",
    "if pages_data:\n",
    "    sample = pages_data[0]\n",
    "    print(f\"\\n Sample Page {sample['page_number']}:\")\n",
    "    print(f\"Raw OCR: {sample['raw_text'][:200]}\")\n",
    "    print(f\"Cleaned: {sample['text'][:200]}...\")\n"
   ]
  },
  {
   "cell_type": "code",
   "execution_count": 151,
   "id": "90c890eb",
   "metadata": {},
   "outputs": [],
   "source": [
    "# Create DataFrame for analysis\n",
    "df = pd.DataFrame([{\n",
    "    'page_number': p['page_number'],\n",
    "    'word_count': p['word_count'],\n",
    "    'sample_text': p['text'][:100] + \"...\" if len(p['text']) > 100 else p['text']\n",
    "} for p in pages_data])"
   ]
  },
  {
   "cell_type": "code",
   "execution_count": 110,
   "id": "2729ec51",
   "metadata": {},
   "outputs": [
    {
     "name": "stdout",
     "output_type": "stream",
     "text": [
      "\n",
      " First 10 Pages:\n"
     ]
    },
    {
     "data": {
      "text/html": [
       "<div>\n",
       "<style scoped>\n",
       "    .dataframe tbody tr th:only-of-type {\n",
       "        vertical-align: middle;\n",
       "    }\n",
       "\n",
       "    .dataframe tbody tr th {\n",
       "        vertical-align: top;\n",
       "    }\n",
       "\n",
       "    .dataframe thead th {\n",
       "        text-align: right;\n",
       "    }\n",
       "</style>\n",
       "<table border=\"1\" class=\"dataframe\">\n",
       "  <thead>\n",
       "    <tr style=\"text-align: right;\">\n",
       "      <th></th>\n",
       "      <th>page_number</th>\n",
       "      <th>word_count</th>\n",
       "      <th>sample_text</th>\n",
       "    </tr>\n",
       "  </thead>\n",
       "  <tbody>\n",
       "    <tr>\n",
       "      <th>0</th>\n",
       "      <td>1</td>\n",
       "      <td>13</td>\n",
       "      <td>অনলাইন ব্যাট হি বাংলা ইংরেজি আইসিটি অনলাইন ব্য...</td>\n",
       "    </tr>\n",
       "    <tr>\n",
       "      <th>1</th>\n",
       "      <td>2</td>\n",
       "      <td>214</td>\n",
       "      <td>লুল জআললাইন ব্যাচ ১? নিম্নবিত্ত ব্যক্তির হঠাৎ ...</td>\n",
       "    </tr>\n",
       "    <tr>\n",
       "      <th>2</th>\n",
       "      <td>3</td>\n",
       "      <td>163</td>\n",
       "      <td>লুল জআললাইন ব্যাচ ১? গল্পের কথক চরিত্র অনুপমের...</td>\n",
       "    </tr>\n",
       "    <tr>\n",
       "      <th>3</th>\n",
       "      <td>4</td>\n",
       "      <td>145</td>\n",
       "      <td>লুল জআললাইন ব্যাচ ১? বিধানকর্তা বা শাস্ত্রপ্রণ...</td>\n",
       "    </tr>\n",
       "    <tr>\n",
       "      <th>4</th>\n",
       "      <td>5</td>\n",
       "      <td>42</td>\n",
       "      <td>লন ৯ অনলাইন ব্যাচ মাটির খোলের দুপাশে চামড়া লা...</td>\n",
       "    </tr>\n",
       "    <tr>\n",
       "      <th>5</th>\n",
       "      <td>6</td>\n",
       "      <td>318</td>\n",
       "      <td>লুল জআললাইন ব্যাচ ১? মূল আলোচ্য বিষয় মূল গল্প...</td>\n",
       "    </tr>\n",
       "    <tr>\n",
       "      <th>6</th>\n",
       "      <td>7</td>\n",
       "      <td>294</td>\n",
       "      <td>আমার হরিশ কানপুরে কাজ করে। সে ছুটিতে কলিকাতায়...</td>\n",
       "    </tr>\n",
       "    <tr>\n",
       "      <th>7</th>\n",
       "      <td>8</td>\n",
       "      <td>404</td>\n",
       "      <td>মন্দ নয় হে! খাটি সোনা বটে! বিনুদাদার ভাষাটা অ...</td>\n",
       "    </tr>\n",
       "    <tr>\n",
       "      <th>8</th>\n",
       "      <td>9</td>\n",
       "      <td>264</td>\n",
       "      <td>লুল জআললাইন ব্যাচ ১? মামা বিবাহবাড়িতে ঢুকিয়া...</td>\n",
       "    </tr>\n",
       "    <tr>\n",
       "      <th>9</th>\n",
       "      <td>10</td>\n",
       "      <td>211</td>\n",
       "      <td>, এই বলিয়া যে মকরমুখা মোটা একখানা বালায় একটু...</td>\n",
       "    </tr>\n",
       "  </tbody>\n",
       "</table>\n",
       "</div>"
      ],
      "text/plain": [
       "   page_number  word_count                                        sample_text\n",
       "0            1          13  অনলাইন ব্যাট হি বাংলা ইংরেজি আইসিটি অনলাইন ব্য...\n",
       "1            2         214  লুল জআললাইন ব্যাচ ১? নিম্নবিত্ত ব্যক্তির হঠাৎ ...\n",
       "2            3         163  লুল জআললাইন ব্যাচ ১? গল্পের কথক চরিত্র অনুপমের...\n",
       "3            4         145  লুল জআললাইন ব্যাচ ১? বিধানকর্তা বা শাস্ত্রপ্রণ...\n",
       "4            5          42  লন ৯ অনলাইন ব্যাচ মাটির খোলের দুপাশে চামড়া লা...\n",
       "5            6         318  লুল জআললাইন ব্যাচ ১? মূল আলোচ্য বিষয় মূল গল্প...\n",
       "6            7         294  আমার হরিশ কানপুরে কাজ করে। সে ছুটিতে কলিকাতায়...\n",
       "7            8         404  মন্দ নয় হে! খাটি সোনা বটে! বিনুদাদার ভাষাটা অ...\n",
       "8            9         264  লুল জআললাইন ব্যাচ ১? মামা বিবাহবাড়িতে ঢুকিয়া...\n",
       "9           10         211  , এই বলিয়া যে মকরমুখা মোটা একখানা বালায় একটু..."
      ]
     },
     "metadata": {},
     "output_type": "display_data"
    }
   ],
   "source": [
    "# Display table\n",
    "print(\"\\n First 10 Pages:\")\n",
    "display(df.head(10))"
   ]
  },
  {
   "cell_type": "code",
   "execution_count": 153,
   "id": "a49cd34f",
   "metadata": {},
   "outputs": [
    {
     "name": "stdout",
     "output_type": "stream",
     "text": [
      "\n",
      " Language Classification:\n",
      "   Primarily Bangla pages: 0\n",
      "   Primarily English pages: 0\n",
      "   Mixed content pages: 49\n"
     ]
    }
   ],
   "source": [
    "# Language Classification\n",
    "bangla_pages = 0\n",
    "english_pages = 0\n",
    "mixed_pages = 0\n",
    "\n",
    "for page in pages_data:\n",
    "    text = page['text']\n",
    "    bangla_chars = len(re.findall(r'[অ-ঔঋঌএঐওঔক-হৎড়ঢ়য়০-৯]', text))\n",
    "    english_chars = len(re.findall(r'[a-zA-Z]', text))\n",
    "    total_chars = len(text)\n",
    "\n",
    "    if total_chars > 0:\n",
    "        bangla_ratio = bangla_chars / total_chars\n",
    "        english_ratio = english_chars / total_chars\n",
    "        if bangla_ratio > 0.6:\n",
    "            bangla_pages += 1\n",
    "        elif english_ratio > 0.6:\n",
    "            english_pages += 1\n",
    "        else:\n",
    "            mixed_pages += 1\n",
    "\n",
    "print(f\"\\n Language Classification:\")\n",
    "print(f\"   Primarily Bangla pages: {bangla_pages}\")\n",
    "print(f\"   Primarily English pages: {english_pages}\")\n",
    "print(f\"   Mixed content pages: {mixed_pages}\")"
   ]
  },
  {
   "cell_type": "code",
   "execution_count": 154,
   "id": "e83f5b4d",
   "metadata": {},
   "outputs": [],
   "source": [
    "import cohere\n",
    "import numpy as np\n",
    "import pandas as pd\n",
    "from tqdm import tqdm\n",
    "import os \n",
    "import faiss \n"
   ]
  },
  {
   "cell_type": "code",
   "execution_count": 155,
   "id": "3374b61b",
   "metadata": {},
   "outputs": [
    {
     "name": "stdout",
     "output_type": "stream",
     "text": [
      "HuggingFace Token: hf_al...\n",
      "Cohere Token: d2R8c...\n"
     ]
    }
   ],
   "source": [
    "from dotenv import load_dotenv\n",
    "\n",
    "load_dotenv()\n",
    "\n",
    "# Access the variables\n",
    "hf_token = os.getenv(\"HF_TOKEN\")\n",
    "cohere_token = os.getenv(\"cohere_api_key\")\n",
    "\n",
    "print(\"HuggingFace Token:\", hf_token[:5] + \"...\" if hf_token else \"Not found\")\n",
    "print(\"Cohere Token:\", cohere_token[:5] + \"...\" if cohere_token else \"Not found\")\n"
   ]
  },
  {
   "cell_type": "code",
   "execution_count": 156,
   "id": "bf2bda9c",
   "metadata": {},
   "outputs": [],
   "source": [
    "chunks = []\n",
    "for page in pages_data:\n",
    "    words = page['text'].split()\n",
    "    for i in range(0, len(words), CHUNK_SIZE - CHUNK_OVERLAP):\n",
    "        chunk_words = words[i : i + CHUNK_SIZE]\n",
    "        chunk_text = \" \".join(chunk_words)\n",
    "        chunks.append({\n",
    "            'text': chunk_text,\n",
    "            'page_number': page['page_number']\n",
    "        })"
   ]
  },
  {
   "cell_type": "code",
   "execution_count": 157,
   "id": "32ad436d",
   "metadata": {},
   "outputs": [
    {
     "data": {
      "text/plain": [
       "146"
      ]
     },
     "execution_count": 157,
     "metadata": {},
     "output_type": "execute_result"
    }
   ],
   "source": [
    "len(chunks)"
   ]
  },
  {
   "cell_type": "code",
   "execution_count": 158,
   "id": "e93c1983",
   "metadata": {},
   "outputs": [],
   "source": [
    "\n",
    "co = cohere.Client(api_key=cohere_token)\n",
    "# Choose the multilingual model best for Bangla + English\n",
    "EMBED_MODEL = \"embed-multilingual-v3.0\""
   ]
  },
  {
   "cell_type": "code",
   "execution_count": 159,
   "id": "79a95cc4",
   "metadata": {},
   "outputs": [],
   "source": [
    "def embed_texts(texts, input_type=\"search_document\"):\n",
    "    response = co.embed(texts=texts, model=EMBED_MODEL, input_type=input_type)\n",
    "    return np.array(response.embeddings) "
   ]
  },
  {
   "cell_type": "code",
   "execution_count": 160,
   "id": "9e9e485d",
   "metadata": {},
   "outputs": [],
   "source": [
    "# Embedding chunk texts\n",
    "chunk_texts = [c['text'] for c in chunks]\n",
    "chunk_embeddings = embed_texts(chunk_texts, input_type=\"search_document\")\n"
   ]
  },
  {
   "cell_type": "code",
   "execution_count": 161,
   "id": "9fd9bf78",
   "metadata": {},
   "outputs": [
    {
     "name": "stdout",
     "output_type": "stream",
     "text": [
      "Embedded 146 chunks with shape: (146, 1024)\n"
     ]
    }
   ],
   "source": [
    "print(f\"Embedded {len(chunk_texts)} chunks with shape: {chunk_embeddings.shape}\")"
   ]
  },
  {
   "cell_type": "code",
   "execution_count": 162,
   "id": "2ff09d24",
   "metadata": {},
   "outputs": [
    {
     "name": "stdout",
     "output_type": "stream",
     "text": [
      "(146, 1024)\n"
     ]
    }
   ],
   "source": [
    "chunk_embeds = np.array(chunk_embeddings) \n",
    "print(chunk_embeds.shape)"
   ]
  },
  {
   "cell_type": "code",
   "execution_count": 163,
   "id": "812fa6d3",
   "metadata": {},
   "outputs": [
    {
     "name": "stdout",
     "output_type": "stream",
     "text": [
      "True\n"
     ]
    }
   ],
   "source": [
    "dim = chunk_embeds.shape[1]\n",
    "index = faiss.IndexFlatL2(dim) \n",
    "print(index.is_trained)\n",
    "index.add(np.float32(chunk_embeds))  # Ensure embeddings are float32"
   ]
  },
  {
   "cell_type": "code",
   "execution_count": 164,
   "id": "cf1a11f6",
   "metadata": {},
   "outputs": [],
   "source": [
    "def search(query, top_k=5):\n",
    "    query_emb = embed_texts([query], input_type=\"search_document\")[0]\n",
    "    D, I = index.search(np.float32([query_emb]), top_k)\n",
    "    texts_np = np.array(chunk_texts)\n",
    "    results = pd.DataFrame(data ={\n",
    "        'texts' : texts_np[I[0]],\n",
    "        'distances': D[0]\n",
    "        })\n",
    "    print(f\"Search results for query '{query}':\")\n",
    "    return results"
   ]
  },
  {
   "cell_type": "code",
   "execution_count": 165,
   "id": "44ea3368",
   "metadata": {},
   "outputs": [
    {
     "name": "stdout",
     "output_type": "stream",
     "text": [
      "Search results for query 'অনুপমের ভাষায় সুপুরুষ কাকে বলা হয়েছে?':\n"
     ]
    },
    {
     "data": {
      "text/html": [
       "<div>\n",
       "<style scoped>\n",
       "    .dataframe tbody tr th:only-of-type {\n",
       "        vertical-align: middle;\n",
       "    }\n",
       "\n",
       "    .dataframe tbody tr th {\n",
       "        vertical-align: top;\n",
       "    }\n",
       "\n",
       "    .dataframe thead th {\n",
       "        text-align: right;\n",
       "    }\n",
       "</style>\n",
       "<table border=\"1\" class=\"dataframe\">\n",
       "  <thead>\n",
       "    <tr style=\"text-align: right;\">\n",
       "      <th></th>\n",
       "      <th>texts</th>\n",
       "      <th>distances</th>\n",
       "    </tr>\n",
       "  </thead>\n",
       "  <tbody>\n",
       "    <tr>\n",
       "      <th>0</th>\n",
       "      <td>১৪। মামা কেমন ঘরের মেয়ে পছন্দ করতেন? ক ধনী খ ...</td>\n",
       "      <td>0.870501</td>\n",
       "    </tr>\n",
       "    <tr>\n",
       "      <th>1</th>\n",
       "      <td>জিজ্ঞাসা করল? ক অনুপম খ অনুপমের মা গ জেনারেল ঘ...</td>\n",
       "      <td>0.874586</td>\n",
       "    </tr>\n",
       "    <tr>\n",
       "      <th>2</th>\n",
       "      <td>লুল জআললাইন ব্যাচ ১? ৩০। আমার মতো অক্ষম দুনিয়...</td>\n",
       "      <td>0.877187</td>\n",
       "    </tr>\n",
       "    <tr>\n",
       "      <th>3</th>\n",
       "      <td>তার প্রস্তাবে সবাই সম্মতি দেয়। অন্যদিকে অপরিচ...</td>\n",
       "      <td>0.900062</td>\n",
       "    </tr>\n",
       "    <tr>\n",
       "      <th>4</th>\n",
       "      <td>দেয়। চোখের সামনে অন্যায় দেখলে ইচ্ছা থাকা সত্...</td>\n",
       "      <td>0.915209</td>\n",
       "    </tr>\n",
       "  </tbody>\n",
       "</table>\n",
       "</div>"
      ],
      "text/plain": [
       "                                               texts  distances\n",
       "0  ১৪। মামা কেমন ঘরের মেয়ে পছন্দ করতেন? ক ধনী খ ...   0.870501\n",
       "1  জিজ্ঞাসা করল? ক অনুপম খ অনুপমের মা গ জেনারেল ঘ...   0.874586\n",
       "2  লুল জআললাইন ব্যাচ ১? ৩০। আমার মতো অক্ষম দুনিয়...   0.877187\n",
       "3  তার প্রস্তাবে সবাই সম্মতি দেয়। অন্যদিকে অপরিচ...   0.900062\n",
       "4  দেয়। চোখের সামনে অন্যায় দেখলে ইচ্ছা থাকা সত্...   0.915209"
      ]
     },
     "execution_count": 165,
     "metadata": {},
     "output_type": "execute_result"
    }
   ],
   "source": [
    "query = \"অনুপমের ভাষায় সুপুরুষ কাকে বলা হয়েছে?\"\n",
    "results = search(query, top_k=5)\n",
    "results "
   ]
  },
  {
   "cell_type": "code",
   "execution_count": 166,
   "id": "03e9fc14",
   "metadata": {},
   "outputs": [
    {
     "name": "stdout",
     "output_type": "stream",
     "text": [
      "Search results for query 'কাকে অনুপমের ভাগ্য দেবতা বলে উল্লেখ করা হয়েছে?':\n"
     ]
    },
    {
     "data": {
      "text/html": [
       "<div>\n",
       "<style scoped>\n",
       "    .dataframe tbody tr th:only-of-type {\n",
       "        vertical-align: middle;\n",
       "    }\n",
       "\n",
       "    .dataframe tbody tr th {\n",
       "        vertical-align: top;\n",
       "    }\n",
       "\n",
       "    .dataframe thead th {\n",
       "        text-align: right;\n",
       "    }\n",
       "</style>\n",
       "<table border=\"1\" class=\"dataframe\">\n",
       "  <thead>\n",
       "    <tr style=\"text-align: right;\">\n",
       "      <th></th>\n",
       "      <th>texts</th>\n",
       "      <th>distances</th>\n",
       "    </tr>\n",
       "  </thead>\n",
       "  <tbody>\n",
       "    <tr>\n",
       "      <th>0</th>\n",
       "      <td>আনল পাঠ্যপুস্তকের প্রশ্ন বহুনির্বাচনী ১। অনুপম...</td>\n",
       "      <td>0.693197</td>\n",
       "    </tr>\n",
       "    <tr>\n",
       "      <th>1</th>\n",
       "      <td>প্রতি গ ধরণীর প্রতি ৪৬। বিবাহের সময় অনুপমের ব...</td>\n",
       "      <td>0.827196</td>\n",
       "    </tr>\n",
       "    <tr>\n",
       "      <th>2</th>\n",
       "      <td>যৌতুকলোভী চরিত্র। তিনি অনুপমের বিয়ের জন্য একট...</td>\n",
       "      <td>0.881034</td>\n",
       "    </tr>\n",
       "    <tr>\n",
       "      <th>3</th>\n",
       "      <td>বিনু। অগ্রজ গণেশ ও অনুজ কার্তিকেয়। দেবী দুর্গ...</td>\n",
       "      <td>0.888726</td>\n",
       "    </tr>\n",
       "    <tr>\n",
       "      <th>4</th>\n",
       "      <td>লুল জআললাইন ব্যাচ ১? গল্পের কথক চরিত্র অনুপমের...</td>\n",
       "      <td>0.901505</td>\n",
       "    </tr>\n",
       "  </tbody>\n",
       "</table>\n",
       "</div>"
      ],
      "text/plain": [
       "                                               texts  distances\n",
       "0  আনল পাঠ্যপুস্তকের প্রশ্ন বহুনির্বাচনী ১। অনুপম...   0.693197\n",
       "1  প্রতি গ ধরণীর প্রতি ৪৬। বিবাহের সময় অনুপমের ব...   0.827196\n",
       "2  যৌতুকলোভী চরিত্র। তিনি অনুপমের বিয়ের জন্য একট...   0.881034\n",
       "3  বিনু। অগ্রজ গণেশ ও অনুজ কার্তিকেয়। দেবী দুর্গ...   0.888726\n",
       "4  লুল জআললাইন ব্যাচ ১? গল্পের কথক চরিত্র অনুপমের...   0.901505"
      ]
     },
     "execution_count": 166,
     "metadata": {},
     "output_type": "execute_result"
    }
   ],
   "source": [
    "query = \"কাকে অনুপমের ভাগ্য দেবতা বলে উল্লেখ করা হয়েছে?\"\n",
    "results = search(query, top_k=5)\n",
    "results "
   ]
  },
  {
   "cell_type": "code",
   "execution_count": 167,
   "id": "e282c3ae",
   "metadata": {},
   "outputs": [
    {
     "name": "stdout",
     "output_type": "stream",
     "text": [
      "Search results for query 'বিয়ের সময় কল্যাণীর প্রকৃত বয়স কত ছিল?':\n"
     ]
    },
    {
     "data": {
      "text/html": [
       "<div>\n",
       "<style scoped>\n",
       "    .dataframe tbody tr th:only-of-type {\n",
       "        vertical-align: middle;\n",
       "    }\n",
       "\n",
       "    .dataframe tbody tr th {\n",
       "        vertical-align: top;\n",
       "    }\n",
       "\n",
       "    .dataframe thead th {\n",
       "        text-align: right;\n",
       "    }\n",
       "</style>\n",
       "<table border=\"1\" class=\"dataframe\">\n",
       "  <thead>\n",
       "    <tr style=\"text-align: right;\">\n",
       "      <th></th>\n",
       "      <th>texts</th>\n",
       "      <th>distances</th>\n",
       "    </tr>\n",
       "  </thead>\n",
       "  <tbody>\n",
       "    <tr>\n",
       "      <th>0</th>\n",
       "      <td>বিনুদার গ অনুপমের ৫৩। একবার মামার কাছে কথাটা প...</td>\n",
       "      <td>0.493747</td>\n",
       "    </tr>\n",
       "    <tr>\n",
       "      <th>1</th>\n",
       "      <td>প্রতি গ ধরণীর প্রতি ৪৬। বিবাহের সময় অনুপমের ব...</td>\n",
       "      <td>0.716306</td>\n",
       "    </tr>\n",
       "    <tr>\n",
       "      <th>2</th>\n",
       "      <td>ও ৫ অনুপমের বয়স কত বছর? ক পঁচিশ খ ছাবিবিশ গ স...</td>\n",
       "      <td>0.816529</td>\n",
       "    </tr>\n",
       "    <tr>\n",
       "      <th>3</th>\n",
       "      <td>মন্দ নয় হে! খাটি সোনা বটে! বিনুদাদার ভাষাটা অ...</td>\n",
       "      <td>0.819135</td>\n",
       "    </tr>\n",
       "    <tr>\n",
       "      <th>4</th>\n",
       "      <td>লন ৯ অনলাইন ব্যাচ ৩৯। এখানে জায়গা আছে উক্তিটি...</td>\n",
       "      <td>0.842124</td>\n",
       "    </tr>\n",
       "  </tbody>\n",
       "</table>\n",
       "</div>"
      ],
      "text/plain": [
       "                                               texts  distances\n",
       "0  বিনুদার গ অনুপমের ৫৩। একবার মামার কাছে কথাটা প...   0.493747\n",
       "1  প্রতি গ ধরণীর প্রতি ৪৬। বিবাহের সময় অনুপমের ব...   0.716306\n",
       "2  ও ৫ অনুপমের বয়স কত বছর? ক পঁচিশ খ ছাবিবিশ গ স...   0.816529\n",
       "3  মন্দ নয় হে! খাটি সোনা বটে! বিনুদাদার ভাষাটা অ...   0.819135\n",
       "4  লন ৯ অনলাইন ব্যাচ ৩৯। এখানে জায়গা আছে উক্তিটি...   0.842124"
      ]
     },
     "execution_count": 167,
     "metadata": {},
     "output_type": "execute_result"
    }
   ],
   "source": [
    "query = \"বিয়ের সময় কল্যাণীর প্রকৃত বয়স কত ছিল?\"\n",
    "results = search(query, top_k=5)\n",
    "results "
   ]
  },
  {
   "cell_type": "code",
   "execution_count": 126,
   "id": "7b2882a9",
   "metadata": {},
   "outputs": [],
   "source": [
    "from rank_bm25 import BM25Okapi \n",
    "from sklearn.feature_extraction import _stop_words\n",
    "import string "
   ]
  },
  {
   "cell_type": "code",
   "execution_count": 168,
   "id": "d0915b9e",
   "metadata": {},
   "outputs": [],
   "source": [
    "def bm25_tokenizer(text):\n",
    "    tokenized_doc = []\n",
    "    for token in text.split():\n",
    "        token = token.strip(string.punctuation)\n",
    "        if token and token not in _stop_words.ENGLISH_STOP_WORDS:\n",
    "            tokenized_doc.append(token.lower())\n",
    "    return tokenized_doc"
   ]
  },
  {
   "cell_type": "code",
   "execution_count": 169,
   "id": "9f2535eb",
   "metadata": {},
   "outputs": [
    {
     "name": "stderr",
     "output_type": "stream",
     "text": [
      "Tokenizing corpus: 100%|██████████| 146/146 [00:00<00:00, 28271.86it/s]\n"
     ]
    }
   ],
   "source": [
    "tokenized_corpus = []\n",
    "for passage in tqdm(chunk_texts, desc=\"Tokenizing corpus\"):\n",
    "    tokenized_corpus.append(bm25_tokenizer(passage))\n",
    "\n",
    "bm25 = BM25Okapi(tokenized_corpus)"
   ]
  },
  {
   "cell_type": "code",
   "execution_count": 170,
   "id": "191c7d2e",
   "metadata": {},
   "outputs": [],
   "source": [
    "def keyword_search(query, top_k=5,num_candidates=15):\n",
    "    print(\"Input Query:\", query)\n",
    "    bm25_scores = bm25.get_scores(bm25_tokenizer(query))\n",
    "    top_n = np.argpartition(bm25_scores, -num_candidates)[-num_candidates:]\n",
    "    bm25_hits = [{ 'corpus_id': idx, 'score': bm25_scores[idx]} for idx in top_n]\n",
    "    bm25_hits = sorted(bm25_hits, key=lambda x: x['score'], reverse=True)\n",
    "    print(f\"Top {top_k} results for query '{query}':\")\n",
    "    for hit in bm25_hits[:top_k]:\n",
    "        print(f\"  - ID: {hit['corpus_id']}, Score: {hit['score']:.4f}, Text: {chunk_texts[hit['corpus_id']][:100]}...\")"
   ]
  },
  {
   "cell_type": "code",
   "execution_count": 171,
   "id": "e7fa36a2",
   "metadata": {},
   "outputs": [
    {
     "name": "stdout",
     "output_type": "stream",
     "text": [
      "Input Query: অনুপমের ভাষায় সুপুরুষ কাকে বলা হয়েছে?\n",
      "Top 5 results for query 'অনুপমের ভাষায় সুপুরুষ কাকে বলা হয়েছে?':\n",
      "  - ID: 101, Score: 6.8685, Text: বছর খ প্রায় পথ্গশ বছর গ প্রায় ষাট বছর ঘ প্রায় সত্তর বছর ৩১। তাহার বিনয়টা অজস্র নয় কার? ক অনুপমে...\n",
      "  - ID: 102, Score: 6.8204, Text: গরুর গাড়ি গ মোটর গাড়ি ৯ ঘ ঘোড়ার গাড়ি ৩৮। অন্নপূর্ণার কোলে গজাননের ছোট ভাইটি এখানে ছোট ভাইটি বলতে...\n",
      "  - ID: 96, Score: 5.0187, Text: ৬। অপরিচিতা গল্পে নায়কের বয়স কত বলা হয়েছে? ক ২৮ বছর খ ২৬ বছর গ ২৭ বছর ঘ ২৫ বছর ৭ তবু ইহার বিশেষ ম...\n",
      "  - ID: 109, Score: 4.9843, Text: লুল জআললাইন ব্যাচ ১? ৬৯। কার সঙ্গে পঞ্চশরের বিরোধ নেই বলে অনুপমের মনে হলো? ক গজাননের খ কার্তিকের গ প...\n",
      "  - ID: 104, Score: 4.8487, Text: প্রতি গ ধরণীর প্রতি ৪৬। বিবাহের সময় অনুপমের বয়স কত ছিল? ক ২১ বছর খ ২৩ বছর গ ২৫ বছর ৪৭। গজাননের মায...\n",
      "Input Query: কাকে অনুপমের ভাগ্য দেবতা বলে উল্লেখ করা হয়েছে?\n",
      "Top 5 results for query 'কাকে অনুপমের ভাগ্য দেবতা বলে উল্লেখ করা হয়েছে?':\n",
      "  - ID: 104, Score: 18.0485, Text: প্রতি গ ধরণীর প্রতি ৪৬। বিবাহের সময় অনুপমের বয়স কত ছিল? ক ২১ বছর খ ২৩ বছর গ ২৫ বছর ৪৭। গজাননের মায...\n",
      "  - ID: 111, Score: 8.6819, Text: ক পণের অঙ্ক সামান্য বলে খ মেয়ের শিক্ষা কম বলে গ মেয়ের বয়স বেশি বলে ঘ পণের অঙ্ক সামান্য বলে ৭৯। খা...\n",
      "  - ID: 101, Score: 6.8685, Text: বছর খ প্রায় পথ্গশ বছর গ প্রায় ষাট বছর ঘ প্রায় সত্তর বছর ৩১। তাহার বিনয়টা অজস্র নয় কার? ক অনুপমে...\n",
      "  - ID: 102, Score: 6.8204, Text: গরুর গাড়ি গ মোটর গাড়ি ৯ ঘ ঘোড়ার গাড়ি ৩৮। অন্নপূর্ণার কোলে গজাননের ছোট ভাইটি এখানে ছোট ভাইটি বলতে...\n",
      "  - ID: 95, Score: 6.1716, Text: রবীন্দ্রনাথ ঠাকুরের জীবনাবসান ঘটে কোথায়? ক জোড়াসাকোর ঠাকুর বাড়িতে খ বোলপুরের শান্তিনিকেতনে গ কুষ্...\n",
      "Input Query: বিয়ের সময় কল্যাণীর প্রকৃত বয়স কত ছিল?\n",
      "Top 5 results for query 'বিয়ের সময় কল্যাণীর প্রকৃত বয়স কত ছিল?':\n",
      "  - ID: 105, Score: 16.9629, Text: বিনুদার গ অনুপমের ৫৩। একবার মামার কাছে কথাটা পাড়িয়া দেখ কথাটি কীসের? ক দানের খ চাকরির গ বিয়ের ৪। ...\n",
      "  - ID: 104, Score: 15.0718, Text: প্রতি গ ধরণীর প্রতি ৪৬। বিবাহের সময় অনুপমের বয়স কত ছিল? ক ২১ বছর খ ২৩ বছর গ ২৫ বছর ৪৭। গজাননের মায...\n",
      "  - ID: 103, Score: 10.6941, Text: লন ৯ অনলাইন ব্যাচ ৩৯। এখানে জায়গা আছে উক্তিটি কার? ক আর্দালির খ গার্ডের গ কল্যাণীর ৪০। স্টেশনে অনুপ...\n",
      "  - ID: 2, Score: 6.0146, Text: তার ক প্রতিপত্তি খ প্রভাব গ বিচক্ষণতা ঘ কুট বুদ্ধি নিচের অনুচ্ছেদটি পড়ে ৩ ও ৪ সংখ্যক প্রশ্নের উত্তর...\n",
      "  - ID: 3, Score: 5.9096, Text: ও ৫ অনুপমের বয়স কত বছর? ক পঁচিশ খ ছাবিবিশ গ সাতাশ ঘ আটাশ...\n"
     ]
    }
   ],
   "source": [
    "keyword_search(\"অনুপমের ভাষায় সুপুরুষ কাকে বলা হয়েছে?\", top_k=5, num_candidates=15)\n",
    "keyword_search(\"কাকে অনুপমের ভাগ্য দেবতা বলে উল্লেখ করা হয়েছে?\", top_k=5, num_candidates=15)\n",
    "keyword_search(\"বিয়ের সময় কল্যাণীর প্রকৃত বয়স কত ছিল?\", top_k=5, num_candidates=15)"
   ]
  },
  {
   "cell_type": "code",
   "execution_count": 172,
   "id": "c4e86bb3",
   "metadata": {},
   "outputs": [
    {
     "name": "stdout",
     "output_type": "stream",
     "text": [
      "Rerank results for query 'অনুপমের ভাষায় সুপুরুষ কাকে বলা হয়েছে?':\n",
      "0 0.71113056 লুল জআললাইন ব্যাচ ১? ৬৯। কার সঙ্গে পঞ্চশরের বিরোধ নেই বলে অনুপমের মনে হলো? ক গজাননের খ কার্তিকের গ প্রজাপতির ঘ অন্নপূর্ণা ৭০। সুপুরুষ বটে কে? ক অনুপম খ হরিশ গ মামা ঘ শস্তুনাথ ৭১। চুল কাচা গোঁফ পাক ধরেছে কার? ক মামার খ শস্তুনাথের গ বিনুদাদার ঘ হরিশের ৭২। কল্যাণী কোন স্টেশন নেমে গেল? ক কোন্নগর খ কলিকাতা গ কানপুর ঘ হাওড়া ৭৩। ছোটবেলায় পণ্ডিত মশায় বিদ্রপ করত কেন? ক কুৎসিত এবং নিগ্ডণ হওয়ার কারণে খ কুৎসিত হয়ে গুণবান হওয়ার কারণে গ সুদর্শন এবং গুণবান হওয়ার কারণে ঘ সুদর্শন হয়েও নির্ভণ হওয়ার কারণে ৭৪। অনুপমকে বিবাহ আসর থেকে ফিরিয়ে দেবার কারণ কী? ক অনুপমের ব্যক্তিত্বহীনতার কারণে খ মামার হীনম্মন্যতার কারণে গ গয়না নিয়ে মনোমালিন্যের কারণে ঘ কনের বাবার আত্মগরিমার কারণে ৭৫। আমার পুরোপুরি বয়সই হলো না কথাটি দ্বারা কী বোঝানো হয়েছে? ক তরুণ বয়সী খ অপরিণত বয়সী গ অতি নির্ভতশীল ঘ চিন্তায় অপরিণত ৭৬। তামাকটুকু পর্যন্ত খাই না উক্তিটি\n",
      "1 0.5515985 লুল জআললাইন ব্যাচ ১? ৩০। আমার মতো অক্ষম দুনিয়ায় নাই। অনুপমের এই উক্তির মধ্য দিয়ে কী প্রকাশ পেয়েছে? কু বো২২ অনুশোচনা অসহায়ত্ব ক্ষোভ নিচের কোনটি সঠিক? ক, খ।, গ , ঘ।, , উত্তর গ ৩১। অপরিচিতা গল্পে শস্তুনাথ চরিত্রের জন্য প্রযোজ্য কু বো ১৬ চুপচাপ, চুল কীচা, ভাষা আঁট সুপুরুষ, চুপচাপ, চুল পাকা নিচের কোনটি সঠিক? ক, খ।, গ , ঘ।, , উত্তর ক উদ্দীপকটি পড়ে ৩২ ও ৩৩ নং প্রশ্নের উত্তর দাও শাকিল সাহেব শিক্ষিত মানুষ। তার আত্মসম্মানবোধ প্রখর। মেয়ে শিরিনের বিয়েতে নিজের অনিচ্ছা সত্তেও সাধ্যানুসারে বরপক্ষের যৌতুকের দাবি পূরণ করতে রাজি হন। কিন্তু উচ্চশিক্ষিত শিরিন যৌতুকে অসম্মতি জানিয়ে এ বিয়ে প্রত্যাখ্যান করে। সি বো ২২ ৩২। উদ্দীপকের শাকিল সাহেব অপরিচিতা গল্পের কার সাথে তুলনীয়? ক অনুপমের মামা খ অনুপমের মা গ শস্তুনাথ বাবু ঘ হরিশ উত্তর গ ৩৩। শিরিনের সাথে কল্যাণীর মিল কোথায়? বাবার আজ্ঞাবাহী নিচের কোনটি সঠিক? ক, খ।, গ , ঘ।, , উত্তর ক নিচের উদ্দীপকটি\n",
      "2 0.43510985 লুল জআললাইন ব্যাচ ১? পাঠ পরিচিতি অপরিচিতা প্রথম প্রকাশিত হয় প্রমথ চৌধুরী সম্পাদিত মাসিক সবুজপত্র পত্রিকার ১৩২১ বঙ্গাব্দের ১৯১৪ কার্তিক সংখ্যায়। এটি প্রথম গ্রন্থভুক্ত হয় রবীন্দ্রগল্পের সংকলন গল্পসপ্তকএ এবং পরে, গল্পগুচ্ছ তৃতীয় খণ্ডে ১৯২৭। অপরিচিতা গল্পে অপরিচিতা বিশেষণের আড়ালে যে বলিষ্ঠ ব্যক্তিত্বের অধিকারী নারীর কাহিনি বর্ণিত হয়েছে, তার নাম কল্যাণী। অমানবিক যৌতুক প্রথার নির্মম বলি হয়েছে এমন নারীদের গল্প ইতঃপূর্বে রচনা করেছিলেন রবীন্দ্রনাথ। কিন্তু এই গল্পেই প্রথম যৌতুক প্রথার বিরুদ্ধে নারীপুরুষের সম্মিলিত প্রতিরোধের কথকতা শোনালেন তিনি। এ গল্পে পিতা শস্তুনাথ সেন এবং কন্যা কল্যাণীর স্বতন্ত্রবীক্ষা ও আচরণে সমাজে গেড়েবসা ঘৃণ্য যৌতুক প্রথা প্রতিরোধের সম্মুখীন হয়েছে। পিতার বলিষ্ঠ প্রতিরোধ এবং কল্যাণীর দেশচেতনায় খদ্ধ ব্যক্তিত্বের জাগরণ ও তার অভিব্যক্তিতে গল্পটি স্বার্থক। অপরিচিতা উত্তম পুরুষের জবানিতে লেখা গল্প। গল্পের কথক অনুপম বিশ শতকের দ্বিতীয় দশকের যুদ্ধসংলগ্ন সময়ের সেই বাঙালি যুবক, যে বিশ্ববিদ্যালয়ের উচ্চতর উপাধি অর্জন করেও ব্যক্তিত্বরহিত, পরিবারতন্ত্রের কাছে অসহায় পুতুলমাত্র। তাকে দেখলে আজো মনে হয়, সে যেন মায়ের কোলসংলগ্ন শিশুমাত্র। তারই বিয়ে\n"
     ]
    }
   ],
   "source": [
    "query = \"অনুপমের ভাষায় সুপুরুষ কাকে বলা হয়েছে?\"\n",
    "results = co.rerank(query=query, documents=chunk_texts, top_n=3, return_documents=True)\n",
    "print(f\"Rerank results for query '{query}':\")\n",
    "for idx, result in enumerate(results.results):\n",
    "    print(idx, result.relevance_score, result.document.text)"
   ]
  },
  {
   "cell_type": "code",
   "execution_count": 173,
   "id": "322a1958",
   "metadata": {},
   "outputs": [],
   "source": [
    "def keyword_and_rerank_search(query, top_k=5, num_candidates=15):\n",
    "    print(\"Input Query:\", query)\n",
    "\n",
    "    # Step 1: Keyword Search using BM25\n",
    "    bm25_scores = bm25.get_scores(bm25_tokenizer(query))\n",
    "    top_n = np.argpartition(bm25_scores, -num_candidates)[-num_candidates:]\n",
    "    bm25_hits = [{\n",
    "        'corpus_id': idx,\n",
    "        'score': bm25_scores[idx],\n",
    "        'text': chunk_texts[idx]\n",
    "    } for idx in top_n]\n",
    "    bm25_hits = sorted(bm25_hits, key=lambda x: x['score'], reverse=True)\n",
    "    \n",
    "    candidate_texts = [hit['text'] for hit in bm25_hits]\n",
    "\n",
    "    # Step 2: Reranking using Cohere\n",
    "    results = co.rerank(query=query, documents=candidate_texts, top_n=top_k, return_documents=True)\n",
    "\n",
    "    # Step 3: Print results\n",
    "    print(f\"\\nTop {top_k} reranked results for query '{query}':\")\n",
    "    for idx, result in enumerate(results.results):\n",
    "        print(f\"{idx + 1}. Relevance Score: {result.relevance_score:.4f}\")\n",
    "        print(f\"   Text: {result.document.text[:150]}...\\n\")\n",
    "\n",
    "    return [(result.document.text, result.relevance_score) for result in results.results]\n"
   ]
  },
  {
   "cell_type": "code",
   "execution_count": 174,
   "id": "2482b63c",
   "metadata": {},
   "outputs": [
    {
     "name": "stdout",
     "output_type": "stream",
     "text": [
      "Input Query: অনুপমের ভাষায় সুপুরুষ কাকে বলা হয়েছে?\n",
      "\n",
      "Top 3 reranked results for query 'অনুপমের ভাষায় সুপুরুষ কাকে বলা হয়েছে?':\n",
      "1. Relevance Score: 0.7111\n",
      "   Text: লুল জআললাইন ব্যাচ ১? ৬৯। কার সঙ্গে পঞ্চশরের বিরোধ নেই বলে অনুপমের মনে হলো? ক গজাননের খ কার্তিকের গ প্রজাপতির ঘ অন্নপূর্ণা ৭০। সুপুরুষ বটে কে? ক অনুপম ...\n",
      "\n",
      "2. Relevance Score: 0.5516\n",
      "   Text: লুল জআললাইন ব্যাচ ১? ৩০। আমার মতো অক্ষম দুনিয়ায় নাই। অনুপমের এই উক্তির মধ্য দিয়ে কী প্রকাশ পেয়েছে? কু বো২২ অনুশোচনা অসহায়ত্ব ক্ষোভ নিচের কোনটি সঠ...\n",
      "\n",
      "3. Relevance Score: 0.2761\n",
      "   Text: মন্দ নয় হে! খাটি সোনা বটে! বিনুদাদার ভাষাটা অত্যন্ত আঁট। যেখানে আমরা বলি চমৎকার সেখানে তিনি বলেন চলনসই। অতএব বুঝিলাম, আমার ভাগ্যে প্রজাপতির সঙ্গে পঞ্...\n",
      "\n"
     ]
    }
   ],
   "source": [
    "query = \"অনুপমের ভাষায় সুপুরুষ কাকে বলা হয়েছে?\"\n",
    "top_docs = keyword_and_rerank_search(query, top_k=3, num_candidates=15)\n"
   ]
  },
  {
   "cell_type": "code",
   "execution_count": 175,
   "id": "ea188da1",
   "metadata": {},
   "outputs": [],
   "source": [
    "from langchain_community.vectorstores import FAISS\n",
    "from langchain.embeddings.cohere import CohereEmbeddings\n",
    "from langchain.chat_models import ChatCohere\n",
    "from langchain.schema import HumanMessage\n",
    "from langchain_openai import ChatOpenAI\n",
    "from langchain.prompts import PromptTemplate\n",
    "from langchain.memory import ConversationBufferWindowMemory\n",
    "from langchain.schema import Document"
   ]
  },
  {
   "cell_type": "code",
   "execution_count": 176,
   "id": "eeddf39e",
   "metadata": {},
   "outputs": [
    {
     "name": "stdout",
     "output_type": "stream",
     "text": [
      "FAISS index saved to 'faiss_index/'\n"
     ]
    }
   ],
   "source": [
    "# Use MPS device for HuggingFace embeddings (Apple Silicon GPU)\n",
    "from langchain_huggingface import HuggingFaceEmbeddings\n",
    "from langchain.schema import Document\n",
    "\n",
    "device = \"mps\"  # Apple Silicon GPU\n",
    "\n",
    "embedding_model = HuggingFaceEmbeddings(\n",
    "    model_name=\"sentence-transformers/paraphrase-multilingual-MiniLM-L12-v2\",\n",
    "    model_kwargs={\"device\": device}\n",
    ")\n",
    "\n",
    "docs = [Document(page_content=chunk['text']) for chunk in chunks]\n",
    "faiss_store = FAISS.from_documents(docs, embedding=embedding_model)\n",
    "faiss_store.save_local(\"../faiss_index\")\n",
    "print(\"FAISS index saved to 'faiss_index/'\")"
   ]
  },
  {
   "cell_type": "code",
   "execution_count": 177,
   "id": "716103b3",
   "metadata": {},
   "outputs": [],
   "source": [
    "#Faiss load local\n",
    "faiss_store = FAISS.load_local(\n",
    "    \"../faiss_index\",\n",
    "    embeddings=embedding_model,\n",
    "    allow_dangerous_deserialization=True\n",
    ")\n"
   ]
  },
  {
   "cell_type": "code",
   "execution_count": 178,
   "id": "5794fce4",
   "metadata": {},
   "outputs": [],
   "source": [
    "template = \"\"\"প্রসঙ্গ:\n",
    "নিচে একটি অজানা ধরনের তথ্যসূত্র (context) প্রদান করা হয়েছে। এটি একটি গল্প, প্রশ্নোত্তর, বহু নির্বাচনী প্রশ্ন, সাধারণ জ্ঞান, আলোচনা অথবা অন্য যেকোনো ধরণের লেখা হতে পারে। \n",
    "এই তথ্যসূত্রের ভিতরে বা শেষে কিছু প্রশ্নের সঠিক উত্তর সরাসরি বা পরোক্ষভাবে উপস্থিত থাকতে পারে — যেমন শেষে সঠিক উত্তর তালিকাবদ্ধ থাকতে পারে (যেমন: \"Correct Answers\", \"Answer Key\" ইত্যাদি), অথবা উত্তরগুলো লেখার ভিতরে ছড়িয়ে থাকতে পারে।\n",
    "\n",
    "আপনার কাজ:\n",
    "- পুরো তথ্যসূত্র (context) মনোযোগ দিয়ে পড়ুন।\n",
    "- প্রদত্ত প্রশ্নের সঠিক উত্তর তথ্যসূত্র থেকে খুঁজে বের করুন।\n",
    "- যদি সঠিক উত্তর context-এর শেষে আলাদাভাবে তালিকাভুক্ত থাকে, তাহলে সেখান থেকেও মিলিয়ে দেখুন।\n",
    "- সঠিক উত্তরটি সংক্ষিপ্তভাবে এবং স্পষ্টভাবে এক লাইনে প্রদান করুন।\n",
    "\n",
    "উত্তর লেখার নিয়ম:\n",
    "- আপনার উত্তর অবশ্যই তথ্যসূত্রের উপর ভিত্তি করে হতে হবে।\n",
    "- অপ্রাসঙ্গিক ব্যাখ্যা বা অতিরিক্ত কিছু যুক্ত করবেন না।\n",
    "- প্রশ্ন যেভাবেই হোক, আপনি কেবলমাত্র সংশ্লিষ্ট ও সঠিক উত্তরটি এক লাইনে দিন।\n",
    "\n",
    "{context}\n",
    "\n",
    "প্রশ্ন: {question}\n",
    "উত্তর: এক লাইনে সঠিক উত্তর দিন।\"\"\"\n",
    "prompt_template = PromptTemplate(\n",
    "    input_variables=[\"context\", \"question\"],\n",
    "    template=template,\n",
    ")\n"
   ]
  },
  {
   "cell_type": "code",
   "execution_count": 179,
   "id": "ae8e8cbe",
   "metadata": {},
   "outputs": [],
   "source": [
    "memory = ConversationBufferWindowMemory(k=2, return_messages=True)"
   ]
  },
  {
   "cell_type": "code",
   "execution_count": 180,
   "id": "ebeb2b16",
   "metadata": {},
   "outputs": [],
   "source": [
    "openai_api_key = os.getenv(\"OPENAI_API_KEY\")\n",
    "llm_openai = ChatOpenAI(\n",
    "    openai_api_key=openai_api_key,\n",
    "    model=\"gpt-4o\",       \n",
    "    streaming=True       \n",
    ")"
   ]
  },
  {
   "cell_type": "code",
   "execution_count": 181,
   "id": "9dc34c61",
   "metadata": {},
   "outputs": [],
   "source": [
    "def rag_chat_with_memory(query: str, llm):\n",
    "    # Save user question into memory\n",
    "    memory.chat_memory.add_user_message(query)\n",
    "\n",
    "    # Step 1: FAISS retrieval of top-10 candidate docs\n",
    "    retriever = faiss_store.as_retriever(search_kwargs={\"k\": 10})\n",
    "    candidate_docs = retriever.invoke(query)\n",
    "    \n",
    "    # Extract texts and indices from FAISS results\n",
    "    candidate_texts = [doc.page_content for doc in candidate_docs]\n",
    "    \n",
    "    # Step 2: Apply BM25 on the FAISS-retrieved documents\n",
    "    # Tokenize query for BM25\n",
    "    tokenized_query = bm25_tokenizer(query)\n",
    "    \n",
    "    # Create local BM25 index for the candidate texts\n",
    "    tokenized_candidates = [bm25_tokenizer(text) for text in candidate_texts]\n",
    "    local_bm25 = BM25Okapi(tokenized_candidates)\n",
    "    \n",
    "    # Get BM25 scores for candidate documents\n",
    "    bm25_scores = local_bm25.get_scores(tokenized_query)\n",
    "    \n",
    "    # Combine texts with their BM25 scores\n",
    "    bm25_results = [{\n",
    "        'text': text,\n",
    "        'score': score\n",
    "    } for text, score in zip(candidate_texts, bm25_scores)]\n",
    "    \n",
    "    # Sort by BM25 scores (descending)\n",
    "    bm25_results = sorted(bm25_results, key=lambda x: x['score'], reverse=True)\n",
    "    \n",
    "    # Step 3: Rerank BM25-ordered texts with Cohere to get top-3\n",
    "    rerank_res = co.rerank(\n",
    "        query=query,\n",
    "        documents=[res['text'] for res in bm25_results],\n",
    "        top_n=3,\n",
    "        return_documents=True\n",
    "    )\n",
    "    \n",
    "    # Step 4: Extract top reranked texts\n",
    "    top_texts = [res.document.text for res in rerank_res.results]\n",
    "    \n",
    "    # Step 5: Build context from reranked texts\n",
    "    context = \"\\n\".join(top_texts)\n",
    "\n",
    "    # Step 6: Generate answer using prompt template\n",
    "    prompt_str = prompt_template.format(context=context, question=query)\n",
    "    answer = llm.invoke([HumanMessage(content=prompt_str)]).content.strip()\n",
    "    \n",
    "    # Save answer into memory\n",
    "    memory.chat_memory.add_ai_message(answer)\n",
    "    \n",
    "    # Print and return\n",
    "    print(\"User:\", query)\n",
    "    print(\"Answer:\", answer)\n",
    "    return answer"
   ]
  },
  {
   "cell_type": "code",
   "execution_count": 182,
   "id": "fd9f328d",
   "metadata": {},
   "outputs": [],
   "source": [
    "from langchain_cohere import ChatCohere\n",
    "\n",
    "llm_command_r = ChatCohere(cohere_api_key=cohere_token, model=\"command-r\", streaming=True)\n"
   ]
  },
  {
   "cell_type": "code",
   "execution_count": 183,
   "id": "b38af656",
   "metadata": {},
   "outputs": [
    {
     "name": "stdout",
     "output_type": "stream",
     "text": [
      "User: বিয়ের সময় কল্যাণীর প্রকৃত বয়স কত ছিল?\n",
      "Answer: তথ্যসূত্রে কল্যাণীর প্রকৃত বয়স উল্লেখ করা হয়নি।\n"
     ]
    },
    {
     "data": {
      "text/plain": [
       "'তথ্যসূত্রে কল্যাণীর প্রকৃত বয়স উল্লেখ করা হয়নি।'"
      ]
     },
     "execution_count": 183,
     "metadata": {},
     "output_type": "execute_result"
    }
   ],
   "source": [
    "rag_chat_with_memory(query=\"বিয়ের সময় কল্যাণীর প্রকৃত বয়স কত ছিল?\", llm=llm_openai) "
   ]
  },
  {
   "cell_type": "code",
   "execution_count": 184,
   "id": "4d6d38f6",
   "metadata": {},
   "outputs": [
    {
     "name": "stdout",
     "output_type": "stream",
     "text": [
      "User: বিয়ের সময় কল্যাণীর প্রকৃত বয়স কত ছিল?\n",
      "Answer: ১৮\n"
     ]
    },
    {
     "data": {
      "text/plain": [
       "'১৮'"
      ]
     },
     "execution_count": 184,
     "metadata": {},
     "output_type": "execute_result"
    }
   ],
   "source": [
    "rag_chat_with_memory(query=\"বিয়ের সময় কল্যাণীর প্রকৃত বয়স কত ছিল?\", llm=llm_command_r) "
   ]
  },
  {
   "cell_type": "code",
   "execution_count": 185,
   "id": "fd371883",
   "metadata": {},
   "outputs": [
    {
     "data": {
      "text/plain": [
       "[HumanMessage(content='বিয়ের সময় কল্যাণীর প্রকৃত বয়স কত ছিল?'),\n",
       " AIMessage(content='তথ্যসূত্রে কল্যাণীর প্রকৃত বয়স উল্লেখ করা হয়নি।'),\n",
       " HumanMessage(content='বিয়ের সময় কল্যাণীর প্রকৃত বয়স কত ছিল?'),\n",
       " AIMessage(content='১৮')]"
      ]
     },
     "execution_count": 185,
     "metadata": {},
     "output_type": "execute_result"
    }
   ],
   "source": [
    "memory.chat_memory.messages[-4:]  # Show last 2 messages in memory"
   ]
  },
  {
   "cell_type": "code",
   "execution_count": 186,
   "id": "ef67351b",
   "metadata": {},
   "outputs": [
    {
     "name": "stdout",
     "output_type": "stream",
     "text": [
      "User: অনুপমের ভাষায় সুপুরুষ কাকে বলা হয়েছে?\n",
      "Answer: অনুপমের ভাষায় সুপুরুষকে বলা হয়েছে 'মামা'।\n"
     ]
    },
    {
     "data": {
      "text/plain": [
       "\"অনুপমের ভাষায় সুপুরুষকে বলা হয়েছে 'মামা'।\""
      ]
     },
     "execution_count": 186,
     "metadata": {},
     "output_type": "execute_result"
    }
   ],
   "source": [
    "rag_chat_with_memory(query=\"অনুপমের ভাষায় সুপুরুষ কাকে বলা হয়েছে?\", llm=llm_openai) "
   ]
  },
  {
   "cell_type": "code",
   "execution_count": 187,
   "id": "2a977bac",
   "metadata": {},
   "outputs": [
    {
     "name": "stdout",
     "output_type": "stream",
     "text": [
      "User: অনুপমের ভাষায় সুপুরুষ কাকে বলা হয়েছে?\n",
      "Answer: সুপুরুষ মাতৃক্�েহকে বলা হয়েছে।\n"
     ]
    },
    {
     "data": {
      "text/plain": [
       "'সুপুরুষ মাতৃক্�েহকে বলা হয়েছে।'"
      ]
     },
     "execution_count": 187,
     "metadata": {},
     "output_type": "execute_result"
    }
   ],
   "source": [
    "rag_chat_with_memory(\"অনুপমের ভাষায় সুপুরুষ কাকে বলা হয়েছে?\", llm=llm_command_r)"
   ]
  },
  {
   "cell_type": "code",
   "execution_count": 188,
   "id": "bb2c6396",
   "metadata": {},
   "outputs": [
    {
     "name": "stdout",
     "output_type": "stream",
     "text": [
      "User: কাকে অনুপমের ভাগ্য দেবতা বলে উল্লেখ করা হয়েছে?\n",
      "Answer: মদনদেবকে অনুপমের ভাগ্য দেবতা বলে উল্লেখ করা হয়েছে।\n"
     ]
    },
    {
     "data": {
      "text/plain": [
       "'মদনদেবকে অনুপমের ভাগ্য দেবতা বলে উল্লেখ করা হয়েছে।'"
      ]
     },
     "execution_count": 188,
     "metadata": {},
     "output_type": "execute_result"
    }
   ],
   "source": [
    "rag_chat_with_memory(query=\"কাকে অনুপমের ভাগ্য দেবতা বলে উল্লেখ করা হয়েছে?\", llm=llm_openai) "
   ]
  },
  {
   "cell_type": "code",
   "execution_count": 189,
   "id": "8b7823b2",
   "metadata": {},
   "outputs": [
    {
     "name": "stdout",
     "output_type": "stream",
     "text": [
      "User: কাকে অনুপমের ভাগ্য দেবতা বলে উল্লেখ করা হয়েছে?\n",
      "Answer: ইনি।\n"
     ]
    },
    {
     "data": {
      "text/plain": [
       "'ইনি।'"
      ]
     },
     "execution_count": 189,
     "metadata": {},
     "output_type": "execute_result"
    }
   ],
   "source": [
    "rag_chat_with_memory(query=\"কাকে অনুপমের ভাগ্য দেবতা বলে উল্লেখ করা হয়েছে?\", llm=llm_command_r)"
   ]
  }
 ],
 "metadata": {
  "kernelspec": {
   "display_name": "venv (3.12.7)",
   "language": "python",
   "name": "python3"
  },
  "language_info": {
   "codemirror_mode": {
    "name": "ipython",
    "version": 3
   },
   "file_extension": ".py",
   "mimetype": "text/x-python",
   "name": "python",
   "nbconvert_exporter": "python",
   "pygments_lexer": "ipython3",
   "version": "3.12.7"
  }
 },
 "nbformat": 4,
 "nbformat_minor": 5
}
