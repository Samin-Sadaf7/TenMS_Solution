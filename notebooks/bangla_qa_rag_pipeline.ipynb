{
 "cells": [
  {
   "cell_type": "code",
   "execution_count": 230,
   "id": "281f0c86",
   "metadata": {},
   "outputs": [],
   "source": [
    "import fitz  # PyMuPDF\n",
    "import re\n",
    "from langdetect import detect\n",
    "from typing import List,Tuple\n",
    "import pandas as pd\n",
    "from IPython.display import display"
   ]
  },
  {
   "cell_type": "code",
   "execution_count": 231,
   "id": "5362599a",
   "metadata": {},
   "outputs": [
    {
     "name": "stdout",
     "output_type": "stream",
     "text": [
      "PDF Path: ../data/HSC26-Bangla1st-Paper.pdf\n",
      "Chunk Size: 300 words\n",
      "Overlap: 100 words\n",
      "Model: sentence-transformers/paraphrase-multilingual-MiniLM-L12-v2\n"
     ]
    }
   ],
   "source": [
    "# Configuration\n",
    "PDF_PATH = \"../data/HSC26-Bangla1st-Paper.pdf\"     #PDF Path\n",
    "COLLECTION_NAME = \"bangla_book\"\n",
    "CHUNK_SIZE = 300  # words\n",
    "CHUNK_OVERLAP = 100  # words\n",
    "MODEL_NAME = \"sentence-transformers/paraphrase-multilingual-MiniLM-L12-v2\"\n",
    "\n",
    "print(f\"PDF Path: {PDF_PATH}\")\n",
    "print(f\"Chunk Size: {CHUNK_SIZE} words\")\n",
    "print(f\"Overlap: {CHUNK_OVERLAP} words\")\n",
    "print(f\"Model: {MODEL_NAME}\")"
   ]
  },
  {
   "cell_type": "code",
   "execution_count": 232,
   "id": "8d371c7a",
   "metadata": {},
   "outputs": [],
   "source": [
    "# Text cleaning functions\n",
    "def clean_extracted_text(text: str) -> str:\n",
    "    \"\"\"Clean and normalize extracted text\"\"\"\n",
    "    # Remove extra whitespaces\n",
    "    text = re.sub(r'\\s+', ' ', text)\n",
    "    \n",
    "    # Remove page numbers and headers/footers\n",
    "    lines = text.split('\\n')\n",
    "    cleaned_lines = []\n",
    "    \n",
    "    for line in lines:\n",
    "        line = line.strip()\n",
    "        # Skip very short lines that might be page numbers or artifacts\n",
    "        if len(line) > 3 and not line.isdigit():\n",
    "            cleaned_lines.append(line)\n",
    "    \n",
    "    text = ' '.join(cleaned_lines)\n",
    "    \n",
    "    # Normalize Bangla punctuation\n",
    "    text = re.sub(r'[।]{2,}', '।', text)\n",
    "    \n",
    "    return text.strip()      "
   ]
  },
  {
   "cell_type": "code",
   "execution_count": 233,
   "id": "49f65678",
   "metadata": {},
   "outputs": [],
   "source": [
    "def detect_language_segments(text: str) -> List[Tuple[str, str]]:\n",
    "    \"\"\"Detect language segments in mixed Bangla-English text\"\"\"\n",
    "    # Split by sentences using both Bangla and English sentence endings\n",
    "    sentences = re.split(r'[।.!?]+', text)\n",
    "    segments = []\n",
    "    \n",
    "    for sentence in sentences:\n",
    "        sentence = sentence.strip()\n",
    "        if len(sentence) < 5:  # Skip very short segments\n",
    "            continue\n",
    "            \n",
    "        try:\n",
    "            # Detect language\n",
    "            lang = detect(sentence)\n",
    "            # Map language codes\n",
    "            if lang == 'bn':\n",
    "                lang = 'bangla'\n",
    "            elif lang == 'en':\n",
    "                lang = 'english'\n",
    "            else:\n",
    "                lang = 'mixed'\n",
    "                \n",
    "            segments.append((sentence, lang))\n",
    "        except:\n",
    "            # If detection fails, mark as mixed\n",
    "            segments.append((sentence, 'mixed'))\n",
    "    \n",
    "    return segments\n"
   ]
  },
  {
   "cell_type": "code",
   "execution_count": 234,
   "id": "feaa6da2",
   "metadata": {},
   "outputs": [
    {
     "name": "stdout",
     "output_type": "stream",
     "text": [
      "Extracting text from: ../data/HSC26-Bangla1st-Paper.pdf\n",
      "Extracted text from 49 pages\n"
     ]
    }
   ],
   "source": [
    "# Extract text from PDF\n",
    "print(f\"Extracting text from: {PDF_PATH}\")\n",
    "\n",
    "doc = fitz.open(PDF_PATH)\n",
    "pages_data = []\n",
    "\n",
    "for page_num in range(len(doc)):\n",
    "    page = doc.load_page(page_num)\n",
    "    text = page.get_text()\n",
    "    \n",
    "    # Clean extracted text\n",
    "    text = clean_extracted_text(text)\n",
    "    \n",
    "    if text.strip():  # Only add non-empty pages\n",
    "        pages_data.append({\n",
    "            'page_number': page_num + 1,\n",
    "            'text': text,\n",
    "            'word_count': len(text.split())\n",
    "        })\n",
    "\n",
    "doc.close()\n",
    "\n",
    "print(f\"Extracted text from {len(pages_data)} pages\")"
   ]
  },
  {
   "cell_type": "code",
   "execution_count": 235,
   "id": "fc2c2272",
   "metadata": {},
   "outputs": [
    {
     "name": "stdout",
     "output_type": "stream",
     "text": [
      "\n",
      "Sample from Page 1 (14 words):\n",
      "'অনলাইন ব্যাচ সম্পর্কিত যেককাকনা জিজ্ঞাাসা , অপরিরিতা আল ািয রিষয় িাাং া ১ম পত্র...'\n"
     ]
    }
   ],
   "source": [
    "# Display sample page\n",
    "if pages_data:\n",
    "    sample_page = pages_data[0]\n",
    "    print(f\"\\nSample from Page {sample_page['page_number']} ({sample_page['word_count']} words):\")\n",
    "    print(f\"'{sample_page['text'][:200]}...'\")"
   ]
  },
  {
   "cell_type": "code",
   "execution_count": 236,
   "id": "2d007d72",
   "metadata": {},
   "outputs": [
    {
     "name": "stdout",
     "output_type": "stream",
     "text": [
      "Content Analysis:\n",
      "   Total Pages: 49\n",
      "   Total Words: 7261\n",
      "   Average Words per Page: 148.2\n"
     ]
    },
    {
     "data": {
      "text/html": [
       "<div>\n",
       "<style scoped>\n",
       "    .dataframe tbody tr th:only-of-type {\n",
       "        vertical-align: middle;\n",
       "    }\n",
       "\n",
       "    .dataframe tbody tr th {\n",
       "        vertical-align: top;\n",
       "    }\n",
       "\n",
       "    .dataframe thead th {\n",
       "        text-align: right;\n",
       "    }\n",
       "</style>\n",
       "<table border=\"1\" class=\"dataframe\">\n",
       "  <thead>\n",
       "    <tr style=\"text-align: right;\">\n",
       "      <th></th>\n",
       "      <th>page_number</th>\n",
       "      <th>text</th>\n",
       "      <th>word_count</th>\n",
       "    </tr>\n",
       "  </thead>\n",
       "  <tbody>\n",
       "    <tr>\n",
       "      <th>0</th>\n",
       "      <td>1</td>\n",
       "      <td>অনলাইন ব্যাচ সম্পর্কিত যেককাকনা জিজ্ঞাাসা , অপ...</td>\n",
       "      <td>14</td>\n",
       "    </tr>\n",
       "    <tr>\n",
       "      <th>1</th>\n",
       "      <td>2</td>\n",
       "      <td>১। অনুপলেি িািা কী কলি জীরিকা রনিবাহ কিলতন? ক)...</td>\n",
       "      <td>202</td>\n",
       "    </tr>\n",
       "    <tr>\n",
       "      <th>2</th>\n",
       "      <td>3</td>\n",
       "      <td>শব্দার্ব ও টীকা েূ শব্দ শলব্দি অর্ব ও িযাখ্যা ...</td>\n",
       "      <td>271</td>\n",
       "    </tr>\n",
       "    <tr>\n",
       "      <th>3</th>\n",
       "      <td>4</td>\n",
       "      <td>শব্দার্ব ও টীকা েূ শব্দ শলব্দি অর্ব ও িযাখ্যা ...</td>\n",
       "      <td>210</td>\n",
       "    </tr>\n",
       "    <tr>\n",
       "      <th>4</th>\n",
       "      <td>5</td>\n",
       "      <td>শব্দার্ব ও টীকা েূ শব্দ শলব্দি অর্ব ও িযাখ্যা ...</td>\n",
       "      <td>72</td>\n",
       "    </tr>\n",
       "    <tr>\n",
       "      <th>5</th>\n",
       "      <td>6</td>\n",
       "      <td>েূ গ্ে আিআমািব্ সসাতািমাত্র।এিীব্নটানাদদকঘিযির...</td>\n",
       "      <td>112</td>\n",
       "    </tr>\n",
       "    <tr>\n",
       "      <th>6</th>\n",
       "      <td>7</td>\n",
       "      <td>আমািহর্িিকানপুকিকািককি।যসিুটিকতকজলকাতা আর্স াআ...</td>\n",
       "      <td>120</td>\n",
       "    </tr>\n",
       "    <tr>\n",
       "      <th>7</th>\n",
       "      <td>8</td>\n",
       "      <td>“মন্দন যহ! খাটিযসানা ব্কট!” র্ব্নুদাদািভাষাটাঅ...</td>\n",
       "      <td>143</td>\n",
       "    </tr>\n",
       "    <tr>\n",
       "      <th>8</th>\n",
       "      <td>9</td>\n",
       "      <td>মামার্ব্ব্াহ-ব্ার়্েকত ুর্ক াখুর্িহইকলননা।এককয...</td>\n",
       "      <td>121</td>\n",
       "    </tr>\n",
       "    <tr>\n",
       "      <th>9</th>\n",
       "      <td>10</td>\n",
       "      <td>এইব্জল াযেমকিমুখাযমাটাএকখানাব্ালা একটুচাপর্দ া...</td>\n",
       "      <td>104</td>\n",
       "    </tr>\n",
       "  </tbody>\n",
       "</table>\n",
       "</div>"
      ],
      "text/plain": [
       "   page_number                                               text  word_count\n",
       "0            1  অনলাইন ব্যাচ সম্পর্কিত যেককাকনা জিজ্ঞাাসা , অপ...          14\n",
       "1            2  ১। অনুপলেি িািা কী কলি জীরিকা রনিবাহ কিলতন? ক)...         202\n",
       "2            3  শব্দার্ব ও টীকা েূ শব্দ শলব্দি অর্ব ও িযাখ্যা ...         271\n",
       "3            4  শব্দার্ব ও টীকা েূ শব্দ শলব্দি অর্ব ও িযাখ্যা ...         210\n",
       "4            5  শব্দার্ব ও টীকা েূ শব্দ শলব্দি অর্ব ও িযাখ্যা ...          72\n",
       "5            6  েূ গ্ে আিআমািব্ সসাতািমাত্র।এিীব্নটানাদদকঘিযির...         112\n",
       "6            7  আমািহর্িিকানপুকিকািককি।যসিুটিকতকজলকাতা আর্স াআ...         120\n",
       "7            8  “মন্দন যহ! খাটিযসানা ব্কট!” র্ব্নুদাদািভাষাটাঅ...         143\n",
       "8            9  মামার্ব্ব্াহ-ব্ার়্েকত ুর্ক াখুর্িহইকলননা।এককয...         121\n",
       "9           10  এইব্জল াযেমকিমুখাযমাটাএকখানাব্ালা একটুচাপর্দ া...         104"
      ]
     },
     "metadata": {},
     "output_type": "display_data"
    }
   ],
   "source": [
    "# Analyze extracted content\n",
    "total_words = sum(page['word_count'] for page in pages_data)\n",
    "avg_words_per_page = total_words / len(pages_data) if pages_data else 0\n",
    "\n",
    "print(f\"Content Analysis:\")\n",
    "print(f\"   Total Pages: {len(pages_data)}\")\n",
    "print(f\"   Total Words: {total_words}\")\n",
    "print(f\"   Average Words per Page: {avg_words_per_page:.1f}\")\n",
    "\n",
    "# Create a quick visualization\n",
    "page_stats = pd.DataFrame(pages_data)\n",
    "display(page_stats.head(10))"
   ]
  },
  {
   "cell_type": "code",
   "execution_count": 237,
   "id": "cb5d5adc",
   "metadata": {},
   "outputs": [
    {
     "data": {
      "text/plain": [
       "\"১। অনুপলেি িািা কী কলি জীরিকা রনিবাহ কিলতন? ক) ডাক্তার্ি খ) ওকালর্ত গ) মাস্টার্ি ঘ) ব্যব্সা ২। োোলক ভাগ্য দেিতাি প্রধান এলজন্ট ি াি কািণ, তাি- ক) প্রর্তপজি খ) প্রভাব্ গ) র্ব্চক্ষণতা ঘ) কূট ব্ুর্ি র্নকচি অনুকেদটি পক়ে ৩ ও ৪ সংখযক প্রকেি উিি দাও। র্পতৃহীন দীপুি চাচাই র্িকলন পর্িব্াকিি কতিা। দীপু র্িজক্ষত হকলও তাি র্সিান্ত যনও াি ক্ষমতা র্িল না। চাচা তাি র্ব্ক ি উকদযাগ র্নকলও যেৌতুক র্নক ব্া়োব্ার়্ে কিাি কািকণ কনযাি র্পতা অপমার্নত যব্াধ ককি র্ব্ক ি আকলাচনা যভকে যদন। দীপু যমক টিি ির্ব্ যদকখ মুগ্ধ হকলও তাি চাচাকক র্কিুই ব্লকত পাকিনর্ন। ৩। েীপুি িািাি সলে ‘অপরিরিতা' গ্লেি দকান িরিলেি রে আলে? ক) হর্িকিি খ) মামাি গ) র্িক্ষককি ঘ) র্ব্নুি ৪। উক্ত িরিলে প্রাধানয দপলয়লে - i) যদৌিাত্ম ii) হীনম্মনযতা iii) যলাভ র্নকচি যকানটি ঠিক? ক। i ও ii খ। ii ও iii গ। i ও iii ঘ। i, ii ও iii ৫. অনুপলেি িয়স কত িেি? ক) পঁর্চি খ) িাব্বিি গ) সাতাি ঘ) আটাি প্রাক-মূলযা ন কতগুকলা প্রকেি সঠিক উিি র্দকত পািকল? SL Ans SL Ans SL Ans SL Ans SL Ans ১ খ ২ গ ৩ খ ৪ ক ৫ গ ✓র্নম্নর্ব্িব্যজক্তিহঠাৎর্ব্িিালীহক ওঠািফকলসমাকিপর্িচ সংকটসম্পককিধািণালাভকিকব্। ✓তৎকালীনসমাি-সভযতাওমানব্তািঅব্মাননাসম্পককিিানকতপািকব্। ✓তৎকালীনসমাকিিপণপ্রথািকুপ্রভাব্সম্পককিিানকতপািকব্। ✓তৎকাকলসমাকিভদ্রকলাককিস্বভাব্বব্র্িষ্ট্যসম্পককিজ্ঞাানলাভকিকব্। ✓নািীযকামলঠিক, র্কন্তুদুব্িলন - কলযাণীিিীব্নচর্িতদ্বািাপ্রর্তজিতএইসতযঅনুধাব্নকিকত পািকব্। ✓মানুষআিার্নক যব্ঁকচথাকক- অনুপকমিদৃষ্ট্াকন্তমানব্িীব্কনিএইর্চিন্তনসতযদিনসম্পককি জ্ঞাানলাভকিকব্। র্িখনফল 2\""
      ]
     },
     "execution_count": 237,
     "metadata": {},
     "output_type": "execute_result"
    }
   ],
   "source": [
    "pages_data[1]['text']\n"
   ]
  },
  {
   "cell_type": "markdown",
   "id": "53e6a914",
   "metadata": {},
   "source": [
    "Extracted text is severly corrupted and PyMUDF library fails to recognize the texts correctly. So, better approach is using ocr and extract using Pytesseract"
   ]
  },
  {
   "cell_type": "code",
   "execution_count": 238,
   "id": "d5558216",
   "metadata": {},
   "outputs": [],
   "source": [
    "# Import libraries\n",
    "from pdf2image import convert_from_path\n",
    "import cv2\n",
    "import numpy as np\n",
    "import re\n",
    "import pandas as pd\n",
    "from IPython.display import display\n",
    "import pytesseract"
   ]
  },
  {
   "cell_type": "code",
   "execution_count": 239,
   "id": "16c0f664",
   "metadata": {},
   "outputs": [],
   "source": [
    "TESS_LANG = \"ben\"\n",
    "DPI = 300"
   ]
  },
  {
   "cell_type": "code",
   "execution_count": 240,
   "id": "618c3694",
   "metadata": {},
   "outputs": [],
   "source": [
    "# OCR-based text extraction functions\n",
    "def preprocess_image_for_ocr(image):\n",
    "    \"\"\"Preprocess image for better OCR results\"\"\"\n",
    "    # Convert PIL image to numpy array\n",
    "    img = np.array(image)\n",
    "    \n",
    "    # Convert to grayscale\n",
    "    gray = cv2.cvtColor(img, cv2.COLOR_RGB2GRAY)\n",
    "    \n",
    "    # Apply slight Gaussian blur to reduce noise\n",
    "    blurred = cv2.GaussianBlur(gray, (1, 1), 0)\n",
    "    \n",
    "    # Increase contrast\n",
    "    contrast = cv2.convertScaleAbs(blurred, alpha=1.2, beta=10)\n",
    "    \n",
    "    return contrast\n"
   ]
  },
  {
   "cell_type": "code",
   "execution_count": 241,
   "id": "acc2b59f",
   "metadata": {},
   "outputs": [],
   "source": [
    "def extract_text_tesseract(image: Image.Image) -> str:\n",
    "    \"\"\"Extract Bangla text using Tesseract\"\"\"\n",
    "    return pytesseract.image_to_string(image, lang=TESS_LANG)"
   ]
  },
  {
   "cell_type": "code",
   "execution_count": 242,
   "id": "a78b8128",
   "metadata": {},
   "outputs": [],
   "source": [
    "def clean_bangla_text(text: str) -> str:\n",
    "    \"\"\"Clean Bangla OCR output\"\"\"\n",
    "    text = re.sub(r'[^\\u0980-\\u09FF\\s।,!?]', '', text)  # Keep Bangla and punctuation\n",
    "    text = re.sub(r'\\s+', ' ', text)\n",
    "    return text.strip()"
   ]
  },
  {
   "cell_type": "code",
   "execution_count": 243,
   "id": "358efc27",
   "metadata": {},
   "outputs": [
    {
     "name": "stdout",
     "output_type": "stream",
     "text": [
      "Converted 49 pages to images\n"
     ]
    }
   ],
   "source": [
    "try:\n",
    "    # Convert PDF pages to images\n",
    "    images = convert_from_path(PDF_PATH, dpi=DPI) \n",
    "    print(f\"Converted {len(images)} pages to images\")\n",
    "except Exception as e:\n",
    "    print(f\"Error converting PDF: {e}\")\n",
    "    raise"
   ]
  },
  {
   "cell_type": "code",
   "execution_count": 244,
   "id": "e1cd42fb",
   "metadata": {},
   "outputs": [
    {
     "name": "stdout",
     "output_type": "stream",
     "text": [
      "🔍 Processing page 1/49... ✅ (13 words)\n",
      "🔍 Processing page 2/49... ✅ (214 words)\n",
      "🔍 Processing page 3/49... ✅ (163 words)\n",
      "🔍 Processing page 4/49... ✅ (145 words)\n",
      "🔍 Processing page 5/49... ✅ (42 words)\n",
      "🔍 Processing page 6/49... ✅ (318 words)\n",
      "🔍 Processing page 7/49... ✅ (294 words)\n",
      "🔍 Processing page 8/49... ✅ (404 words)\n",
      "🔍 Processing page 9/49... ✅ (264 words)\n",
      "🔍 Processing page 10/49... ✅ (211 words)\n",
      "🔍 Processing page 11/49... ✅ (225 words)\n",
      "🔍 Processing page 12/49... ✅ (372 words)\n",
      "🔍 Processing page 13/49... ✅ (291 words)\n",
      "🔍 Processing page 14/49... ✅ (304 words)\n",
      "🔍 Processing page 15/49... ✅ (347 words)\n",
      "🔍 Processing page 16/49... ✅ (148 words)\n",
      "🔍 Processing page 17/49... ✅ (207 words)\n",
      "🔍 Processing page 18/49... ✅ (219 words)\n",
      "🔍 Processing page 19/49... ✅ (229 words)\n",
      "🔍 Processing page 20/49... ✅ (195 words)\n",
      "🔍 Processing page 21/49... ✅ (326 words)\n",
      "🔍 Processing page 22/49... ✅ (243 words)\n",
      "🔍 Processing page 23/49... ✅ (324 words)\n",
      "🔍 Processing page 24/49... ✅ (328 words)\n",
      "🔍 Processing page 25/49... ✅ (255 words)\n",
      "🔍 Processing page 26/49... ✅ (266 words)\n",
      "🔍 Processing page 27/49... ✅ (244 words)\n",
      "🔍 Processing page 28/49... ✅ (243 words)\n",
      "🔍 Processing page 29/49... ✅ (169 words)\n",
      "🔍 Processing page 30/49... ✅ (273 words)\n",
      "🔍 Processing page 31/49... ✅ (322 words)\n",
      "🔍 Processing page 32/49... ✅ (260 words)\n",
      "🔍 Processing page 33/49... ✅ (247 words)\n",
      "🔍 Processing page 34/49... ✅ (230 words)\n",
      "🔍 Processing page 35/49... ✅ (255 words)\n",
      "🔍 Processing page 36/49... ✅ (258 words)\n",
      "🔍 Processing page 37/49... ✅ (293 words)\n",
      "🔍 Processing page 38/49... ✅ (200 words)\n",
      "🔍 Processing page 39/49... ✅ (128 words)\n",
      "🔍 Processing page 40/49... ✅ (102 words)\n",
      "🔍 Processing page 41/49... ✅ (80 words)\n",
      "🔍 Processing page 42/49... ✅ (305 words)\n",
      "🔍 Processing page 43/49... ✅ (287 words)\n",
      "🔍 Processing page 44/49... ✅ (228 words)\n",
      "🔍 Processing page 45/49... ✅ (356 words)\n",
      "🔍 Processing page 46/49... ✅ (357 words)\n",
      "🔍 Processing page 47/49... ✅ (330 words)\n",
      "🔍 Processing page 48/49... ✅ (227 words)\n",
      "🔍 Processing page 49/49... ✅ (167 words)\n",
      "\n",
      "✅ Finished OCR on 49 pages\n"
     ]
    }
   ],
   "source": [
    "# OCR all pages\n",
    "pages_data = []\n",
    "for i, image in enumerate(images):\n",
    "    print(f\"🔍 Processing page {i+1}/{len(images)}...\", end=\" \")\n",
    "    try:\n",
    "        raw_text = extract_text_tesseract(image)\n",
    "        cleaned_text = clean_bangla_text(raw_text)\n",
    "        if cleaned_text:\n",
    "            pages_data.append({\n",
    "                'page_number': i + 1,\n",
    "                'text': cleaned_text,\n",
    "                'word_count': len(cleaned_text.split()),\n",
    "                'raw_text': raw_text[:300] \n",
    "            })\n",
    "            print(f\"✅ ({len(cleaned_text.split())} words)\")\n",
    "        else:\n",
    "            print(\"⚠️ No text found\")\n",
    "    except Exception as e:\n",
    "        print(f\"❌ Error: {e}\")\n",
    "\n",
    "print(f\"\\n✅ Finished OCR on {len(pages_data)} pages\")"
   ]
  },
  {
   "cell_type": "code",
   "execution_count": 245,
   "id": "96d7b85b",
   "metadata": {},
   "outputs": [
    {
     "name": "stdout",
     "output_type": "stream",
     "text": [
      "\n",
      " Summary:\n",
      "   Pages processed: 49\n",
      "   Total words: 11908\n",
      "   Average words per page: 243.0\n"
     ]
    }
   ],
   "source": [
    "# Summary Stats\n",
    "total_words = sum(page['word_count'] for page in pages_data)\n",
    "avg_words = total_words / len(pages_data) if pages_data else 0\n",
    "print(f\"\\n Summary:\")\n",
    "print(f\"   Pages processed: {len(pages_data)}\")\n",
    "print(f\"   Total words: {total_words}\")\n",
    "print(f\"   Average words per page: {avg_words:.1f}\")"
   ]
  },
  {
   "cell_type": "code",
   "execution_count": 246,
   "id": "bea03470",
   "metadata": {},
   "outputs": [
    {
     "name": "stdout",
     "output_type": "stream",
     "text": [
      "\n",
      " Sample Page 1:\n",
      "Raw OCR: 10940759\n",
      "\n",
      "অনলাইন ব্যাট”\n",
      "\n",
      "হি\n",
      "বাংলা * ইংরেজি * আইসিটি\n",
      "\n",
      "অনলাইন ব্যাচ সম্পর্কিত যেকোনো জিজ্ঞাসায়,\n",
      "\n",
      "কলকরো ৬৬ 76919\n",
      "\n",
      "Cleaned: অনলাইন ব্যাট হি বাংলা ইংরেজি আইসিটি অনলাইন ব্যাচ সম্পর্কিত যেকোনো জিজ্ঞাসায়, কলকরো ৬৬...\n"
     ]
    }
   ],
   "source": [
    "# Display sample page\n",
    "if pages_data:\n",
    "    sample = pages_data[0]\n",
    "    print(f\"\\n Sample Page {sample['page_number']}:\")\n",
    "    print(f\"Raw OCR: {sample['raw_text'][:200]}\")\n",
    "    print(f\"Cleaned: {sample['text'][:200]}...\")\n"
   ]
  },
  {
   "cell_type": "code",
   "execution_count": 247,
   "id": "90c890eb",
   "metadata": {},
   "outputs": [],
   "source": [
    "# Create DataFrame for analysis\n",
    "df = pd.DataFrame([{\n",
    "    'page_number': p['page_number'],\n",
    "    'word_count': p['word_count'],\n",
    "    'sample_text': p['text'][:100] + \"...\" if len(p['text']) > 100 else p['text']\n",
    "} for p in pages_data])"
   ]
  },
  {
   "cell_type": "code",
   "execution_count": 248,
   "id": "2729ec51",
   "metadata": {},
   "outputs": [
    {
     "name": "stdout",
     "output_type": "stream",
     "text": [
      "\n",
      " First 10 Pages:\n"
     ]
    },
    {
     "data": {
      "text/html": [
       "<div>\n",
       "<style scoped>\n",
       "    .dataframe tbody tr th:only-of-type {\n",
       "        vertical-align: middle;\n",
       "    }\n",
       "\n",
       "    .dataframe tbody tr th {\n",
       "        vertical-align: top;\n",
       "    }\n",
       "\n",
       "    .dataframe thead th {\n",
       "        text-align: right;\n",
       "    }\n",
       "</style>\n",
       "<table border=\"1\" class=\"dataframe\">\n",
       "  <thead>\n",
       "    <tr style=\"text-align: right;\">\n",
       "      <th></th>\n",
       "      <th>page_number</th>\n",
       "      <th>word_count</th>\n",
       "      <th>sample_text</th>\n",
       "    </tr>\n",
       "  </thead>\n",
       "  <tbody>\n",
       "    <tr>\n",
       "      <th>0</th>\n",
       "      <td>1</td>\n",
       "      <td>13</td>\n",
       "      <td>অনলাইন ব্যাট হি বাংলা ইংরেজি আইসিটি অনলাইন ব্য...</td>\n",
       "    </tr>\n",
       "    <tr>\n",
       "      <th>1</th>\n",
       "      <td>2</td>\n",
       "      <td>214</td>\n",
       "      <td>লুল জআললাইন ব্যাচ ১? নিম্নবিত্ত ব্যক্তির হঠাৎ ...</td>\n",
       "    </tr>\n",
       "    <tr>\n",
       "      <th>2</th>\n",
       "      <td>3</td>\n",
       "      <td>163</td>\n",
       "      <td>লুল জআললাইন ব্যাচ ১? গল্পের কথক চরিত্র অনুপমের...</td>\n",
       "    </tr>\n",
       "    <tr>\n",
       "      <th>3</th>\n",
       "      <td>4</td>\n",
       "      <td>145</td>\n",
       "      <td>লুল জআললাইন ব্যাচ ১? বিধানকর্তা বা শাস্ত্রপ্রণ...</td>\n",
       "    </tr>\n",
       "    <tr>\n",
       "      <th>4</th>\n",
       "      <td>5</td>\n",
       "      <td>42</td>\n",
       "      <td>লন ৯ অনলাইন ব্যাচ মাটির খোলের দুপাশে চামড়া লা...</td>\n",
       "    </tr>\n",
       "    <tr>\n",
       "      <th>5</th>\n",
       "      <td>6</td>\n",
       "      <td>318</td>\n",
       "      <td>লুল জআললাইন ব্যাচ ১? মূল আলোচ্য বিষয় মূল গল্প...</td>\n",
       "    </tr>\n",
       "    <tr>\n",
       "      <th>6</th>\n",
       "      <td>7</td>\n",
       "      <td>294</td>\n",
       "      <td>আমার হরিশ কানপুরে কাজ করে। সে ছুটিতে কলিকাতায়...</td>\n",
       "    </tr>\n",
       "    <tr>\n",
       "      <th>7</th>\n",
       "      <td>8</td>\n",
       "      <td>404</td>\n",
       "      <td>মন্দ নয় হে! খাটি সোনা বটে! বিনুদাদার ভাষাটা অ...</td>\n",
       "    </tr>\n",
       "    <tr>\n",
       "      <th>8</th>\n",
       "      <td>9</td>\n",
       "      <td>264</td>\n",
       "      <td>লুল জআললাইন ব্যাচ ১? মামা বিবাহবাড়িতে ঢুকিয়া...</td>\n",
       "    </tr>\n",
       "    <tr>\n",
       "      <th>9</th>\n",
       "      <td>10</td>\n",
       "      <td>211</td>\n",
       "      <td>, এই বলিয়া যে মকরমুখা মোটা একখানা বালায় একটু...</td>\n",
       "    </tr>\n",
       "  </tbody>\n",
       "</table>\n",
       "</div>"
      ],
      "text/plain": [
       "   page_number  word_count                                        sample_text\n",
       "0            1          13  অনলাইন ব্যাট হি বাংলা ইংরেজি আইসিটি অনলাইন ব্য...\n",
       "1            2         214  লুল জআললাইন ব্যাচ ১? নিম্নবিত্ত ব্যক্তির হঠাৎ ...\n",
       "2            3         163  লুল জআললাইন ব্যাচ ১? গল্পের কথক চরিত্র অনুপমের...\n",
       "3            4         145  লুল জআললাইন ব্যাচ ১? বিধানকর্তা বা শাস্ত্রপ্রণ...\n",
       "4            5          42  লন ৯ অনলাইন ব্যাচ মাটির খোলের দুপাশে চামড়া লা...\n",
       "5            6         318  লুল জআললাইন ব্যাচ ১? মূল আলোচ্য বিষয় মূল গল্প...\n",
       "6            7         294  আমার হরিশ কানপুরে কাজ করে। সে ছুটিতে কলিকাতায়...\n",
       "7            8         404  মন্দ নয় হে! খাটি সোনা বটে! বিনুদাদার ভাষাটা অ...\n",
       "8            9         264  লুল জআললাইন ব্যাচ ১? মামা বিবাহবাড়িতে ঢুকিয়া...\n",
       "9           10         211  , এই বলিয়া যে মকরমুখা মোটা একখানা বালায় একটু..."
      ]
     },
     "metadata": {},
     "output_type": "display_data"
    }
   ],
   "source": [
    "# Display table\n",
    "print(\"\\n First 10 Pages:\")\n",
    "display(df.head(10))"
   ]
  },
  {
   "cell_type": "code",
   "execution_count": 249,
   "id": "a49cd34f",
   "metadata": {},
   "outputs": [
    {
     "name": "stdout",
     "output_type": "stream",
     "text": [
      "\n",
      " Language Classification:\n",
      "   Primarily Bangla pages: 0\n",
      "   Primarily English pages: 0\n",
      "   Mixed content pages: 49\n"
     ]
    }
   ],
   "source": [
    "# Language Classification\n",
    "bangla_pages = 0\n",
    "english_pages = 0\n",
    "mixed_pages = 0\n",
    "\n",
    "for page in pages_data:\n",
    "    text = page['text']\n",
    "    bangla_chars = len(re.findall(r'[অ-ঔঋঌএঐওঔক-হৎড়ঢ়য়০-৯]', text))\n",
    "    english_chars = len(re.findall(r'[a-zA-Z]', text))\n",
    "    total_chars = len(text)\n",
    "\n",
    "    if total_chars > 0:\n",
    "        bangla_ratio = bangla_chars / total_chars\n",
    "        english_ratio = english_chars / total_chars\n",
    "        if bangla_ratio > 0.6:\n",
    "            bangla_pages += 1\n",
    "        elif english_ratio > 0.6:\n",
    "            english_pages += 1\n",
    "        else:\n",
    "            mixed_pages += 1\n",
    "\n",
    "print(f\"\\n Language Classification:\")\n",
    "print(f\"   Primarily Bangla pages: {bangla_pages}\")\n",
    "print(f\"   Primarily English pages: {english_pages}\")\n",
    "print(f\"   Mixed content pages: {mixed_pages}\")"
   ]
  },
  {
   "cell_type": "code",
   "execution_count": 250,
   "id": "e83f5b4d",
   "metadata": {},
   "outputs": [],
   "source": [
    "import cohere\n",
    "import numpy as np\n",
    "import pandas as pd\n",
    "from tqdm import tqdm\n",
    "import os \n",
    "import faiss \n"
   ]
  },
  {
   "cell_type": "code",
   "execution_count": 301,
   "id": "3374b61b",
   "metadata": {},
   "outputs": [
    {
     "name": "stdout",
     "output_type": "stream",
     "text": [
      "HuggingFace Token: hf_al...\n",
      "Cohere Token: d2R8c...\n"
     ]
    }
   ],
   "source": [
    "from dotenv import load_dotenv\n",
    "\n",
    "load_dotenv()\n",
    "\n",
    "# Access the variables\n",
    "hf_token = os.getenv(\"HF_TOKEN\")\n",
    "cohere_token = os.getenv(\"cohere_api_key\")\n",
    "\n",
    "print(\"HuggingFace Token:\", hf_token[:5] + \"...\" if hf_token else \"Not found\")\n",
    "print(\"Cohere Token:\", cohere_token[:5] + \"...\" if cohere_token else \"Not found\")\n"
   ]
  },
  {
   "cell_type": "code",
   "execution_count": 252,
   "id": "bf2bda9c",
   "metadata": {},
   "outputs": [],
   "source": [
    "chunks = []\n",
    "for page in pages_data:\n",
    "    words = page['text'].split()\n",
    "    for i in range(0, len(words), CHUNK_SIZE - CHUNK_OVERLAP):\n",
    "        chunk_words = words[i : i + CHUNK_SIZE]\n",
    "        chunk_text = \" \".join(chunk_words)\n",
    "        chunks.append({\n",
    "            'text': chunk_text,\n",
    "            'page_number': page['page_number']\n",
    "        })"
   ]
  },
  {
   "cell_type": "code",
   "execution_count": 253,
   "id": "32ad436d",
   "metadata": {},
   "outputs": [
    {
     "data": {
      "text/plain": [
       "87"
      ]
     },
     "execution_count": 253,
     "metadata": {},
     "output_type": "execute_result"
    }
   ],
   "source": [
    "len(chunks)"
   ]
  },
  {
   "cell_type": "code",
   "execution_count": 254,
   "id": "e93c1983",
   "metadata": {},
   "outputs": [],
   "source": [
    "\n",
    "co = cohere.Client(api_key=cohere_token)\n",
    "# Choose the multilingual model best for Bangla + English\n",
    "EMBED_MODEL = \"embed-multilingual-v3.0\""
   ]
  },
  {
   "cell_type": "code",
   "execution_count": 255,
   "id": "79a95cc4",
   "metadata": {},
   "outputs": [],
   "source": [
    "def embed_texts(texts, input_type=\"search_document\"):\n",
    "    response = co.embed(texts=texts, model=EMBED_MODEL, input_type=input_type)\n",
    "    return np.array(response.embeddings) "
   ]
  },
  {
   "cell_type": "code",
   "execution_count": 256,
   "id": "9e9e485d",
   "metadata": {},
   "outputs": [],
   "source": [
    "# Embedding chunk texts\n",
    "chunk_texts = [c['text'] for c in chunks]\n",
    "chunk_embeddings = embed_texts(chunk_texts, input_type=\"search_document\")\n"
   ]
  },
  {
   "cell_type": "code",
   "execution_count": 257,
   "id": "9fd9bf78",
   "metadata": {},
   "outputs": [
    {
     "name": "stdout",
     "output_type": "stream",
     "text": [
      "Embedded 87 chunks with shape: (87, 1024)\n"
     ]
    }
   ],
   "source": [
    "print(f\"Embedded {len(chunk_texts)} chunks with shape: {chunk_embeddings.shape}\")"
   ]
  },
  {
   "cell_type": "code",
   "execution_count": 258,
   "id": "2ff09d24",
   "metadata": {},
   "outputs": [
    {
     "name": "stdout",
     "output_type": "stream",
     "text": [
      "(87, 1024)\n"
     ]
    }
   ],
   "source": [
    "chunk_embeds = np.array(chunk_embeddings) \n",
    "print(chunk_embeds.shape)"
   ]
  },
  {
   "cell_type": "code",
   "execution_count": 259,
   "id": "812fa6d3",
   "metadata": {},
   "outputs": [
    {
     "name": "stdout",
     "output_type": "stream",
     "text": [
      "True\n"
     ]
    }
   ],
   "source": [
    "dim = chunk_embeds.shape[1]\n",
    "index = faiss.IndexFlatL2(dim) \n",
    "print(index.is_trained)\n",
    "index.add(np.float32(chunk_embeds))  # Ensure embeddings are float32"
   ]
  },
  {
   "cell_type": "code",
   "execution_count": 260,
   "id": "cf1a11f6",
   "metadata": {},
   "outputs": [],
   "source": [
    "def search(query, top_k=5):\n",
    "    query_emb = embed_texts([query], input_type=\"search_document\")[0]\n",
    "    D, I = index.search(np.float32([query_emb]), top_k)\n",
    "    texts_np = np.array(chunk_texts)\n",
    "    results = pd.DataFrame(data ={\n",
    "        'texts' : texts_np[I[0]],\n",
    "        'distances': D[0]\n",
    "        })\n",
    "    print(f\"Search results for query '{query}':\")\n",
    "    return results"
   ]
  },
  {
   "cell_type": "code",
   "execution_count": 261,
   "id": "44ea3368",
   "metadata": {},
   "outputs": [
    {
     "name": "stdout",
     "output_type": "stream",
     "text": [
      "Search results for query 'অনুপমের ভাষায় সুপুরুষ কাকে বলা হয়েছে?':\n"
     ]
    },
    {
     "data": {
      "text/html": [
       "<div>\n",
       "<style scoped>\n",
       "    .dataframe tbody tr th:only-of-type {\n",
       "        vertical-align: middle;\n",
       "    }\n",
       "\n",
       "    .dataframe tbody tr th {\n",
       "        vertical-align: top;\n",
       "    }\n",
       "\n",
       "    .dataframe thead th {\n",
       "        text-align: right;\n",
       "    }\n",
       "</style>\n",
       "<table border=\"1\" class=\"dataframe\">\n",
       "  <thead>\n",
       "    <tr style=\"text-align: right;\">\n",
       "      <th></th>\n",
       "      <th>texts</th>\n",
       "      <th>distances</th>\n",
       "    </tr>\n",
       "  </thead>\n",
       "  <tbody>\n",
       "    <tr>\n",
       "      <th>0</th>\n",
       "      <td>লুল জআললাইন ব্যাচ ১? ৩০। আমার মতো অক্ষম দুনিয়...</td>\n",
       "      <td>0.874470</td>\n",
       "    </tr>\n",
       "    <tr>\n",
       "      <th>1</th>\n",
       "      <td>জিজ্ঞাসা করল? ক অনুপম খ অনুপমের মা গ জেনারেল ঘ...</td>\n",
       "      <td>0.874944</td>\n",
       "    </tr>\n",
       "    <tr>\n",
       "      <th>2</th>\n",
       "      <td>লুল আনলাইন ব্যাচ ১? সৃজনশীল প্রশ্ন প্রশ্ন ১ কন...</td>\n",
       "      <td>0.890538</td>\n",
       "    </tr>\n",
       "    <tr>\n",
       "      <th>3</th>\n",
       "      <td>লুল জআললাইন ব্যাচ ১? ৬৯। কার সঙ্গে পঞ্চশরের বি...</td>\n",
       "      <td>0.895162</td>\n",
       "    </tr>\n",
       "    <tr>\n",
       "      <th>4</th>\n",
       "      <td>দেয়। চোখের সামনে অন্যায় দেখলে ইচ্ছা থাকা সত্...</td>\n",
       "      <td>0.915209</td>\n",
       "    </tr>\n",
       "  </tbody>\n",
       "</table>\n",
       "</div>"
      ],
      "text/plain": [
       "                                               texts  distances\n",
       "0  লুল জআললাইন ব্যাচ ১? ৩০। আমার মতো অক্ষম দুনিয়...   0.874470\n",
       "1  জিজ্ঞাসা করল? ক অনুপম খ অনুপমের মা গ জেনারেল ঘ...   0.874944\n",
       "2  লুল আনলাইন ব্যাচ ১? সৃজনশীল প্রশ্ন প্রশ্ন ১ কন...   0.890538\n",
       "3  লুল জআললাইন ব্যাচ ১? ৬৯। কার সঙ্গে পঞ্চশরের বি...   0.895162\n",
       "4  দেয়। চোখের সামনে অন্যায় দেখলে ইচ্ছা থাকা সত্...   0.915209"
      ]
     },
     "execution_count": 261,
     "metadata": {},
     "output_type": "execute_result"
    }
   ],
   "source": [
    "query = \"অনুপমের ভাষায় সুপুরুষ কাকে বলা হয়েছে?\"\n",
    "results = search(query, top_k=5)\n",
    "results "
   ]
  },
  {
   "cell_type": "code",
   "execution_count": 262,
   "id": "03e9fc14",
   "metadata": {},
   "outputs": [
    {
     "name": "stdout",
     "output_type": "stream",
     "text": [
      "Search results for query 'কাকে অনুপমের ভাগ্য দেবতা বলে উল্লেখ করা হয়েছে?':\n"
     ]
    },
    {
     "data": {
      "text/html": [
       "<div>\n",
       "<style scoped>\n",
       "    .dataframe tbody tr th:only-of-type {\n",
       "        vertical-align: middle;\n",
       "    }\n",
       "\n",
       "    .dataframe tbody tr th {\n",
       "        vertical-align: top;\n",
       "    }\n",
       "\n",
       "    .dataframe thead th {\n",
       "        text-align: right;\n",
       "    }\n",
       "</style>\n",
       "<table border=\"1\" class=\"dataframe\">\n",
       "  <thead>\n",
       "    <tr style=\"text-align: right;\">\n",
       "      <th></th>\n",
       "      <th>texts</th>\n",
       "      <th>distances</th>\n",
       "    </tr>\n",
       "  </thead>\n",
       "  <tbody>\n",
       "    <tr>\n",
       "      <th>0</th>\n",
       "      <td>আনল পাঠ্যপুস্তকের প্রশ্ন বহুনির্বাচনী ১। অনুপম...</td>\n",
       "      <td>0.706990</td>\n",
       "    </tr>\n",
       "    <tr>\n",
       "      <th>1</th>\n",
       "      <td>যৌতুকলোভী চরিত্র। তিনি অনুপমের বিয়ের জন্য একট...</td>\n",
       "      <td>0.881034</td>\n",
       "    </tr>\n",
       "    <tr>\n",
       "      <th>2</th>\n",
       "      <td>লন ৯ অনলাইন ব্যাচ ২৪। অপরিচিতা গল্পে কোন দ্বীপ...</td>\n",
       "      <td>0.889718</td>\n",
       "    </tr>\n",
       "    <tr>\n",
       "      <th>3</th>\n",
       "      <td>ক পণের অঙ্ক সামান্য বলে খ মেয়ের শিক্ষা কম বলে...</td>\n",
       "      <td>0.906082</td>\n",
       "    </tr>\n",
       "    <tr>\n",
       "      <th>4</th>\n",
       "      <td>লুল জআললাইন ব্যাচ ১? গল্পের কথক চরিত্র অনুপমের...</td>\n",
       "      <td>0.918622</td>\n",
       "    </tr>\n",
       "  </tbody>\n",
       "</table>\n",
       "</div>"
      ],
      "text/plain": [
       "                                               texts  distances\n",
       "0  আনল পাঠ্যপুস্তকের প্রশ্ন বহুনির্বাচনী ১। অনুপম...   0.706990\n",
       "1  যৌতুকলোভী চরিত্র। তিনি অনুপমের বিয়ের জন্য একট...   0.881034\n",
       "2  লন ৯ অনলাইন ব্যাচ ২৪। অপরিচিতা গল্পে কোন দ্বীপ...   0.889718\n",
       "3  ক পণের অঙ্ক সামান্য বলে খ মেয়ের শিক্ষা কম বলে...   0.906082\n",
       "4  লুল জআললাইন ব্যাচ ১? গল্পের কথক চরিত্র অনুপমের...   0.918622"
      ]
     },
     "execution_count": 262,
     "metadata": {},
     "output_type": "execute_result"
    }
   ],
   "source": [
    "query = \"কাকে অনুপমের ভাগ্য দেবতা বলে উল্লেখ করা হয়েছে?\"\n",
    "results = search(query, top_k=5)\n",
    "results "
   ]
  },
  {
   "cell_type": "code",
   "execution_count": 263,
   "id": "e282c3ae",
   "metadata": {},
   "outputs": [
    {
     "name": "stdout",
     "output_type": "stream",
     "text": [
      "Search results for query 'বিয়ের সময় কল্যাণীর প্রকৃত বয়স কত ছিল?':\n"
     ]
    },
    {
     "data": {
      "text/html": [
       "<div>\n",
       "<style scoped>\n",
       "    .dataframe tbody tr th:only-of-type {\n",
       "        vertical-align: middle;\n",
       "    }\n",
       "\n",
       "    .dataframe tbody tr th {\n",
       "        vertical-align: top;\n",
       "    }\n",
       "\n",
       "    .dataframe thead th {\n",
       "        text-align: right;\n",
       "    }\n",
       "</style>\n",
       "<table border=\"1\" class=\"dataframe\">\n",
       "  <thead>\n",
       "    <tr style=\"text-align: right;\">\n",
       "      <th></th>\n",
       "      <th>texts</th>\n",
       "      <th>distances</th>\n",
       "    </tr>\n",
       "  </thead>\n",
       "  <tbody>\n",
       "    <tr>\n",
       "      <th>0</th>\n",
       "      <td>বিনুদার গ অনুপমের ৫৩। একবার মামার কাছে কথাটা প...</td>\n",
       "      <td>0.493609</td>\n",
       "    </tr>\n",
       "    <tr>\n",
       "      <th>1</th>\n",
       "      <td>লন ৯ অনলাইন ব্যাচ ৩৯। এখানে জায়গা আছে উক্তিটি...</td>\n",
       "      <td>0.712034</td>\n",
       "    </tr>\n",
       "    <tr>\n",
       "      <th>2</th>\n",
       "      <td>ও ৫ অনুপমের বয়স কত বছর? ক পঁচিশ খ ছাবিবিশ গ স...</td>\n",
       "      <td>0.816628</td>\n",
       "    </tr>\n",
       "    <tr>\n",
       "      <th>3</th>\n",
       "      <td>মেয়ের জীবন বা ভবিষ্যৎ শঙ্কামুক্ত রাখার নিমিত্...</td>\n",
       "      <td>0.845232</td>\n",
       "    </tr>\n",
       "    <tr>\n",
       "      <th>4</th>\n",
       "      <td>মন্দ নয় হে! খাটি সোনা বটে! বিনুদাদার ভাষাটা অ...</td>\n",
       "      <td>0.860326</td>\n",
       "    </tr>\n",
       "  </tbody>\n",
       "</table>\n",
       "</div>"
      ],
      "text/plain": [
       "                                               texts  distances\n",
       "0  বিনুদার গ অনুপমের ৫৩। একবার মামার কাছে কথাটা প...   0.493609\n",
       "1  লন ৯ অনলাইন ব্যাচ ৩৯। এখানে জায়গা আছে উক্তিটি...   0.712034\n",
       "2  ও ৫ অনুপমের বয়স কত বছর? ক পঁচিশ খ ছাবিবিশ গ স...   0.816628\n",
       "3  মেয়ের জীবন বা ভবিষ্যৎ শঙ্কামুক্ত রাখার নিমিত্...   0.845232\n",
       "4  মন্দ নয় হে! খাটি সোনা বটে! বিনুদাদার ভাষাটা অ...   0.860326"
      ]
     },
     "execution_count": 263,
     "metadata": {},
     "output_type": "execute_result"
    }
   ],
   "source": [
    "query = \"বিয়ের সময় কল্যাণীর প্রকৃত বয়স কত ছিল?\"\n",
    "results = search(query, top_k=5)\n",
    "results "
   ]
  },
  {
   "cell_type": "code",
   "execution_count": 264,
   "id": "7b2882a9",
   "metadata": {},
   "outputs": [],
   "source": [
    "from rank_bm25 import BM25Okapi \n",
    "from sklearn.feature_extraction import _stop_words\n",
    "import string "
   ]
  },
  {
   "cell_type": "code",
   "execution_count": 265,
   "id": "d0915b9e",
   "metadata": {},
   "outputs": [],
   "source": [
    "def bm25_tokenizer(text):\n",
    "    tokenized_doc = []\n",
    "    for token in text.split():\n",
    "        token = token.strip(string.punctuation)\n",
    "        if token and token not in _stop_words.ENGLISH_STOP_WORDS:\n",
    "            tokenized_doc.append(token.lower())\n",
    "    return tokenized_doc"
   ]
  },
  {
   "cell_type": "code",
   "execution_count": 266,
   "id": "9f2535eb",
   "metadata": {},
   "outputs": [
    {
     "name": "stderr",
     "output_type": "stream",
     "text": [
      "Tokenizing corpus: 100%|██████████| 87/87 [00:00<00:00, 24281.64it/s]\n"
     ]
    }
   ],
   "source": [
    "tokenized_corpus = []\n",
    "for passage in tqdm(chunk_texts, desc=\"Tokenizing corpus\"):\n",
    "    tokenized_corpus.append(bm25_tokenizer(passage))\n",
    "\n",
    "bm25 = BM25Okapi(tokenized_corpus)"
   ]
  },
  {
   "cell_type": "code",
   "execution_count": 267,
   "id": "191c7d2e",
   "metadata": {},
   "outputs": [],
   "source": [
    "def keyword_search(query, top_k=5,num_candidates=15):\n",
    "    print(\"Input Query:\", query)\n",
    "    bm25_scores = bm25.get_scores(bm25_tokenizer(query))\n",
    "    top_n = np.argpartition(bm25_scores, -num_candidates)[-num_candidates:]\n",
    "    bm25_hits = [{ 'corpus_id': idx, 'score': bm25_scores[idx]} for idx in top_n]\n",
    "    bm25_hits = sorted(bm25_hits, key=lambda x: x['score'], reverse=True)\n",
    "    print(f\"Top {top_k} results for query '{query}':\")\n",
    "    for hit in bm25_hits[:top_k]:\n",
    "        print(f\"  - ID: {hit['corpus_id']}, Score: {hit['score']:.4f}, Text: {chunk_texts[hit['corpus_id']][:100]}...\")"
   ]
  },
  {
   "cell_type": "code",
   "execution_count": 268,
   "id": "e7fa36a2",
   "metadata": {},
   "outputs": [
    {
     "name": "stdout",
     "output_type": "stream",
     "text": [
      "Input Query: অনুপমের ভাষায় সুপুরুষ কাকে বলা হয়েছে?\n",
      "Top 5 results for query 'অনুপমের ভাষায় সুপুরুষ কাকে বলা হয়েছে?':\n",
      "  - ID: 61, Score: 5.7928, Text: গরুর গাড়ি গ মোটর গাড়ি ৯ ঘ ঘোড়ার গাড়ি ৩৮। অন্নপূর্ণার কোলে গজাননের ছোট ভাইটি এখানে ছোট ভাইটি বলতে...\n",
      "  - ID: 60, Score: 4.9513, Text: লন ৯ অনলাইন ব্যাচ ২৪। অপরিচিতা গল্পে কোন দ্বীপের উল্লেখ আছে? ক আন্দামান দ্বীপ খ হাইকু দ্বীপ গ ক্যারি...\n",
      "  - ID: 66, Score: 4.7661, Text: লুল জআললাইন ব্যাচ ১? ৬৯। কার সঙ্গে পঞ্চশরের বিরোধ নেই বলে অনুপমের মনে হলো? ক গজাননের খ কার্তিকের গ প...\n",
      "  - ID: 57, Score: 3.6289, Text: ৬। অপরিচিতা গল্পে নায়কের বয়স কত বলা হয়েছে? ক ২৮ বছর খ ২৬ বছর গ ২৭ বছর ঘ ২৫ বছর ৭ তবু ইহার বিশেষ ম...\n",
      "  - ID: 70, Score: 3.3198, Text: লন ৯ অনলাইন ব্যাচ ৯৭। অপরিচিতা গল্পে কন্যার পিতার পরিচয় ফুটিয়ে তুলতে বলা হয়েছে বয়স তার চল্লিশের ...\n",
      "Input Query: কাকে অনুপমের ভাগ্য দেবতা বলে উল্লেখ করা হয়েছে?\n",
      "Top 5 results for query 'কাকে অনুপমের ভাগ্য দেবতা বলে উল্লেখ করা হয়েছে?':\n",
      "  - ID: 62, Score: 13.5100, Text: লন ৯ অনলাইন ব্যাচ ৩৯। এখানে জায়গা আছে উক্তিটি কার? ক আর্দালির খ গার্ডের গ কল্যাণীর ৪০। স্টেশনে অনুপ...\n",
      "  - ID: 60, Score: 8.9621, Text: লন ৯ অনলাইন ব্যাচ ২৪। অপরিচিতা গল্পে কোন দ্বীপের উল্লেখ আছে? ক আন্দামান দ্বীপ খ হাইকু দ্বীপ গ ক্যারি...\n",
      "  - ID: 67, Score: 6.9648, Text: ক পণের অঙ্ক সামান্য বলে খ মেয়ের শিক্ষা কম বলে গ মেয়ের বয়স বেশি বলে ঘ পণের অঙ্ক সামান্য বলে ৭৯। খা...\n",
      "  - ID: 61, Score: 5.7928, Text: গরুর গাড়ি গ মোটর গাড়ি ৯ ঘ ঘোড়ার গাড়ি ৩৮। অন্নপূর্ণার কোলে গজাননের ছোট ভাইটি এখানে ছোট ভাইটি বলতে...\n",
      "  - ID: 66, Score: 5.5090, Text: লুল জআললাইন ব্যাচ ১? ৬৯। কার সঙ্গে পঞ্চশরের বিরোধ নেই বলে অনুপমের মনে হলো? ক গজাননের খ কার্তিকের গ প...\n",
      "Input Query: বিয়ের সময় কল্যাণীর প্রকৃত বয়স কত ছিল?\n",
      "Top 5 results for query 'বিয়ের সময় কল্যাণীর প্রকৃত বয়স কত ছিল?':\n",
      "  - ID: 63, Score: 15.4115, Text: বিনুদার গ অনুপমের ৫৩। একবার মামার কাছে কথাটা পাড়িয়া দেখ কথাটি কীসের? ক দানের খ চাকরির গ বিয়ের ৪। ...\n",
      "  - ID: 62, Score: 13.5112, Text: লন ৯ অনলাইন ব্যাচ ৩৯। এখানে জায়গা আছে উক্তিটি কার? ক আর্দালির খ গার্ডের গ কল্যাণীর ৪০। স্টেশনে অনুপ...\n",
      "  - ID: 2, Score: 5.0096, Text: ও ৫ অনুপমের বয়স কত বছর? ক পঁচিশ খ ছাবিবিশ গ সাতাশ ঘ আটাশ...\n",
      "  - ID: 1, Score: 4.9972, Text: লুল জআললাইন ব্যাচ ১? নিম্নবিত্ত ব্যক্তির হঠাৎ বিত্তশালী হয়ে ওঠার ফলে সমাজে পরিচয় সংকট সম্পর্কে ধার...\n",
      "  - ID: 30, Score: 4.6140, Text: লুল জআললাইন ব্যাচ ১? লেখক পরিচিতি রে প্রকৃত নাম রবীন্দ্রনাথ ঠাকুর। ছদ্মনাম ভানুসিংহ ঠাকুর। জন্ম তারি...\n"
     ]
    }
   ],
   "source": [
    "keyword_search(\"অনুপমের ভাষায় সুপুরুষ কাকে বলা হয়েছে?\", top_k=5, num_candidates=15)\n",
    "keyword_search(\"কাকে অনুপমের ভাগ্য দেবতা বলে উল্লেখ করা হয়েছে?\", top_k=5, num_candidates=15)\n",
    "keyword_search(\"বিয়ের সময় কল্যাণীর প্রকৃত বয়স কত ছিল?\", top_k=5, num_candidates=15)"
   ]
  },
  {
   "cell_type": "code",
   "execution_count": 269,
   "id": "c4e86bb3",
   "metadata": {},
   "outputs": [
    {
     "name": "stdout",
     "output_type": "stream",
     "text": [
      "Rerank results for query 'অনুপমের ভাষায় সুপুরুষ কাকে বলা হয়েছে?':\n",
      "0 0.71185225 লুল জআললাইন ব্যাচ ১? ৬৯। কার সঙ্গে পঞ্চশরের বিরোধ নেই বলে অনুপমের মনে হলো? ক গজাননের খ কার্তিকের গ প্রজাপতির ঘ অন্নপূর্ণা ৭০। সুপুরুষ বটে কে? ক অনুপম খ হরিশ গ মামা ঘ শস্তুনাথ ৭১। চুল কাচা গোঁফ পাক ধরেছে কার? ক মামার খ শস্তুনাথের গ বিনুদাদার ঘ হরিশের ৭২। কল্যাণী কোন স্টেশন নেমে গেল? ক কোন্নগর খ কলিকাতা গ কানপুর ঘ হাওড়া ৭৩। ছোটবেলায় পণ্ডিত মশায় বিদ্রপ করত কেন? ক কুৎসিত এবং নিগ্ডণ হওয়ার কারণে খ কুৎসিত হয়ে গুণবান হওয়ার কারণে গ সুদর্শন এবং গুণবান হওয়ার কারণে ঘ সুদর্শন হয়েও নির্ভণ হওয়ার কারণে ৭৪। অনুপমকে বিবাহ আসর থেকে ফিরিয়ে দেবার কারণ কী? ক অনুপমের ব্যক্তিত্বহীনতার কারণে খ মামার হীনম্মন্যতার কারণে গ গয়না নিয়ে মনোমালিন্যের কারণে ঘ কনের বাবার আত্মগরিমার কারণে ৭৫। আমার পুরোপুরি বয়সই হলো না কথাটি দ্বারা কী বোঝানো হয়েছে? ক তরুণ বয়সী খ অপরিণত বয়সী গ অতি নির্ভতশীল ঘ চিন্তায় অপরিণত ৭৬। তামাকটুকু পর্যন্ত খাই না উক্তিটি দ্বারা কী বোঝানো হয়েছে? ক তামাক ক্ষতিকর খ তামাক অপছন্দ গ অতি ভালো মানুষ ঘ খাওয়ায় অরুচি ৭৭ কনের বয়স নিয়ে মন ভারি হওয়া সত্ত্বেও শেষ পর্যন্ত মামার মন নরম হলো কীভাবে? ক পণের আশ্বাসে খ কনের গুণমুগ্ধতায় গ হরিশের বাকপটুতায় ঘ বিনুদার ব্যবহারে ৭৮। মামার মন ভারি হলো কেন? ক পণের অঙ্ক সামান্য বলে খ মেয়ের শিক্ষা কম বলে গ মেয়ের বয়স বেশি বলে ঘ পণের অঙ্ক সামান্য বলে ৭৯। খাটি সোনা বটে! বলতে বিনুদাদা কোনটিকে বুঝিয়েছে? ক বনেদী ঘর খ উপযুক্ত পাত্রী গ সুশীল পাত্র ঘ পণের গহনা ৮০। অনুপমের বাবা কী করে জীবিকা নির্বাহ করতেন? ক ডাক্তারি খ ওকালতি গ মাস্টারি ঘ ব্যবসা ৮১। মামাকে ভাগ্য দেবতার প্রধান এজেন্ট বলা হয়েছে কেন? ক প্রতিপত্তির জন্য খ প্রভাবের জন্য গ মতামতের জন্য ঘ কুটবুদ্ধির জন্য ৮২। অপরিচিতা গল্পটি প্রথম গ্রন্থভুক্ত হয় কোন গ্রন্থে? ক গল্পগুচ্ছ খ গল্পসংগ্রহ গ গল্পসপ্তক ঘ গল্পস্বল্পে\n",
      "1 0.56460327 লুল জআললাইন ব্যাচ ১? ৩০। আমার মতো অক্ষম দুনিয়ায় নাই। অনুপমের এই উক্তির মধ্য দিয়ে কী প্রকাশ পেয়েছে? কু বো২২ অনুশোচনা অসহায়ত্ব ক্ষোভ নিচের কোনটি সঠিক? ক, খ।, গ , ঘ।, , উত্তর গ ৩১। অপরিচিতা গল্পে শস্তুনাথ চরিত্রের জন্য প্রযোজ্য কু বো ১৬ চুপচাপ, চুল কীচা, ভাষা আঁট সুপুরুষ, চুপচাপ, চুল পাকা নিচের কোনটি সঠিক? ক, খ।, গ , ঘ।, , উত্তর ক উদ্দীপকটি পড়ে ৩২ ও ৩৩ নং প্রশ্নের উত্তর দাও শাকিল সাহেব শিক্ষিত মানুষ। তার আত্মসম্মানবোধ প্রখর। মেয়ে শিরিনের বিয়েতে নিজের অনিচ্ছা সত্তেও সাধ্যানুসারে বরপক্ষের যৌতুকের দাবি পূরণ করতে রাজি হন। কিন্তু উচ্চশিক্ষিত শিরিন যৌতুকে অসম্মতি জানিয়ে এ বিয়ে প্রত্যাখ্যান করে। সি বো ২২ ৩২। উদ্দীপকের শাকিল সাহেব অপরিচিতা গল্পের কার সাথে তুলনীয়? ক অনুপমের মামা খ অনুপমের মা গ শস্তুনাথ বাবু ঘ হরিশ উত্তর গ ৩৩। শিরিনের সাথে কল্যাণীর মিল কোথায়? বাবার আজ্ঞাবাহী নিচের কোনটি সঠিক? ক, খ।, গ , ঘ।, , উত্তর ক নিচের উদ্দীপকটি পড়ে ৩৪ ও ৩৫ নম্বর প্রশ্নের উত্তর দাও স্বাতী সুশিক্ষিত ও আত্মনির্ভরশীল নারী। বিয়ের পর শ্বশুর ও শাশুড়ির চাপে চাকরি ছাড়তে বাধ্য হয়। শ্বশুর শাশুড়ির ধারণা চাকরিজীবী বউ অহংকারী হয়। তারা সংসারের প্রতি দায়িত্বশীল নয়। য বো ১৯ ও৩৪। অপরিচিতা গল্পের সঙ্গে উদ্দীপকের স্বাতীর বৈসাদৃশ্য কোথায়? ক নারীর প্রতি বৈষম্যে খ আপসহীনতা গ আপসকামিতায় ঘ স্বার্থসিদ্বিতে উত্তর গ ৩৫। উদ্দীপকের শ্বশুরশাশুড়ির মানসিকতার সাথে অপরিচিতা গল্পের কোন উক্তিটির মিল রয়েছে? ক আমাদের ঘরে যে মেয়ে আসিবে সে মাথা হেট করিয়াই আসিবে খ বেহাই সম্প্রদায়ের আর যাই থাক তেজ থাকাটা দোষের গ অপর পক্ষকে যে নাকাল হইতে হইবে, সেই কথা স্মরণ করিয়া মামার সঙ্গে মা একযোগে বিস্তর হাসিলেন ঘ ঠাট্টার সম্পর্ককে স্থায়ী করিবার ইচ্ছা আমার নাই উত্তর ক\n",
      "2 0.45231876 লুল জআললাইন ব্যাচ ১? পাঠ পরিচিতি অপরিচিতা প্রথম প্রকাশিত হয় প্রমথ চৌধুরী সম্পাদিত মাসিক সবুজপত্র পত্রিকার ১৩২১ বঙ্গাব্দের ১৯১৪ কার্তিক সংখ্যায়। এটি প্রথম গ্রন্থভুক্ত হয় রবীন্দ্রগল্পের সংকলন গল্পসপ্তকএ এবং পরে, গল্পগুচ্ছ তৃতীয় খণ্ডে ১৯২৭। অপরিচিতা গল্পে অপরিচিতা বিশেষণের আড়ালে যে বলিষ্ঠ ব্যক্তিত্বের অধিকারী নারীর কাহিনি বর্ণিত হয়েছে, তার নাম কল্যাণী। অমানবিক যৌতুক প্রথার নির্মম বলি হয়েছে এমন নারীদের গল্প ইতঃপূর্বে রচনা করেছিলেন রবীন্দ্রনাথ। কিন্তু এই গল্পেই প্রথম যৌতুক প্রথার বিরুদ্ধে নারীপুরুষের সম্মিলিত প্রতিরোধের কথকতা শোনালেন তিনি। এ গল্পে পিতা শস্তুনাথ সেন এবং কন্যা কল্যাণীর স্বতন্ত্রবীক্ষা ও আচরণে সমাজে গেড়েবসা ঘৃণ্য যৌতুক প্রথা প্রতিরোধের সম্মুখীন হয়েছে। পিতার বলিষ্ঠ প্রতিরোধ এবং কল্যাণীর দেশচেতনায় খদ্ধ ব্যক্তিত্বের জাগরণ ও তার অভিব্যক্তিতে গল্পটি স্বার্থক। অপরিচিতা উত্তম পুরুষের জবানিতে লেখা গল্প। গল্পের কথক অনুপম বিশ শতকের দ্বিতীয় দশকের যুদ্ধসংলগ্ন সময়ের সেই বাঙালি যুবক, যে বিশ্ববিদ্যালয়ের উচ্চতর উপাধি অর্জন করেও ব্যক্তিত্বরহিত, পরিবারতন্ত্রের কাছে অসহায় পুতুলমাত্র। তাকে দেখলে আজো মনে হয়, সে যেন মায়ের কোলসংলগ্ন শিশুমাত্র। তারই বিয়ে উপলক্ষ্যে যৌতুক গল্প বলতে গিয়ে ব্যাঙ্গার্থে জানিয়ে দিয়েছে সেই অঘটন সংঘটনের কথাটি। বিয়ের লগ্ন যখন প্রস্তুত তখন কন্যার লগ্নত্রসন্ট হওয়ার লৌকিকতাকে অগ্রাহ্য করে শস্তুনাথ সেনের নির্বিকার অথচ বলিষ্ঠ প্রত্যাখ্যান নতুন এক সময়ের আশু আবির্ভাবকেই সংকেতবহ করে তুলেছে। কর্মীর ভূমিকায় বলিষ্ঠ ব্যক্তিত্বের জাগরণের মধ্য দিয়ে গল্পের শেষাংশে কল্যাণীর শুচিশুত্র আত্মপ্রকাশও ভবিষ্যতের নতুন নারীর আগমনীর ইঙ্গিতে পরিসমাপ্ত। অপরিচিতা মনস্তাপে ভেঙেপড়া এক ব্যক্তিত্বহীন যুবকের স্বীকারোক্তির গল্প, তার পাপস্মালনের অকপট কথামালা। অমানবিকতার স্ফুরণ যেমনঘটেছে, তেমনি একই সঙ্গে পুরুষের ভাষ্বে নারীর প্রশস্তিও কীর্তিত হয়েছে\n"
     ]
    }
   ],
   "source": [
    "query = \"অনুপমের ভাষায় সুপুরুষ কাকে বলা হয়েছে?\"\n",
    "results = co.rerank(query=query, documents=chunk_texts, top_n=3, return_documents=True)\n",
    "print(f\"Rerank results for query '{query}':\")\n",
    "for idx, result in enumerate(results.results):\n",
    "    print(idx, result.relevance_score, result.document.text)"
   ]
  },
  {
   "cell_type": "code",
   "execution_count": 270,
   "id": "322a1958",
   "metadata": {},
   "outputs": [],
   "source": [
    "def keyword_and_rerank_search(query, top_k=5, num_candidates=15):\n",
    "    print(\"Input Query:\", query)\n",
    "\n",
    "    # Step 1: Keyword Search using BM25\n",
    "    bm25_scores = bm25.get_scores(bm25_tokenizer(query))\n",
    "    top_n = np.argpartition(bm25_scores, -num_candidates)[-num_candidates:]\n",
    "    bm25_hits = [{\n",
    "        'corpus_id': idx,\n",
    "        'score': bm25_scores[idx],\n",
    "        'text': chunk_texts[idx]\n",
    "    } for idx in top_n]\n",
    "    bm25_hits = sorted(bm25_hits, key=lambda x: x['score'], reverse=True)\n",
    "    \n",
    "    candidate_texts = [hit['text'] for hit in bm25_hits]\n",
    "\n",
    "    # Step 2: Reranking using Cohere\n",
    "    results = co.rerank(query=query, documents=candidate_texts, top_n=top_k, return_documents=True)\n",
    "\n",
    "    # Step 3: Print results\n",
    "    print(f\"\\nTop {top_k} reranked results for query '{query}':\")\n",
    "    for idx, result in enumerate(results.results):\n",
    "        print(f\"{idx + 1}. Relevance Score: {result.relevance_score:.4f}\")\n",
    "        print(f\"   Text: {result.document.text[:150]}...\\n\")\n",
    "\n",
    "    return [(result.document.text, result.relevance_score) for result in results.results]\n"
   ]
  },
  {
   "cell_type": "code",
   "execution_count": 271,
   "id": "2482b63c",
   "metadata": {},
   "outputs": [
    {
     "name": "stdout",
     "output_type": "stream",
     "text": [
      "Input Query: অনুপমের ভাষায় সুপুরুষ কাকে বলা হয়েছে?\n",
      "\n",
      "Top 3 reranked results for query 'অনুপমের ভাষায় সুপুরুষ কাকে বলা হয়েছে?':\n",
      "1. Relevance Score: 0.7119\n",
      "   Text: লুল জআললাইন ব্যাচ ১? ৬৯। কার সঙ্গে পঞ্চশরের বিরোধ নেই বলে অনুপমের মনে হলো? ক গজাননের খ কার্তিকের গ প্রজাপতির ঘ অন্নপূর্ণা ৭০। সুপুরুষ বটে কে? ক অনুপম ...\n",
      "\n",
      "2. Relevance Score: 0.5646\n",
      "   Text: লুল জআললাইন ব্যাচ ১? ৩০। আমার মতো অক্ষম দুনিয়ায় নাই। অনুপমের এই উক্তির মধ্য দিয়ে কী প্রকাশ পেয়েছে? কু বো২২ অনুশোচনা অসহায়ত্ব ক্ষোভ নিচের কোনটি সঠ...\n",
      "\n",
      "3. Relevance Score: 0.3892\n",
      "   Text: লন ৯ অনলাইন ব্যাচ ৯ ৫। মামার বাহিরের যাত্রাপথের সীমানা কতদূর? ক আন্দামান পর্যন্ত খ কোন্নগর পর্যন্ত গ কানপুর পর্যন্ত ঘ হাওড়া পর্যন্ত ৫৬। বিবাহের কতদিন...\n",
      "\n"
     ]
    }
   ],
   "source": [
    "query = \"অনুপমের ভাষায় সুপুরুষ কাকে বলা হয়েছে?\"\n",
    "top_docs = keyword_and_rerank_search(query, top_k=3, num_candidates=15)\n"
   ]
  },
  {
   "cell_type": "code",
   "execution_count": 299,
   "id": "ea188da1",
   "metadata": {},
   "outputs": [],
   "source": [
    "from langchain.vectorstores import FAISS\n",
    "from langchain.embeddings.cohere import CohereEmbeddings\n",
    "from langchain.chat_models import ChatCohere\n",
    "from langchain.schema import HumanMessage\n",
    "from langchain_openai import ChatOpenAI\n",
    "from langchain.prompts import PromptTemplate\n",
    "from langchain.memory import ConversationBufferWindowMemory\n",
    "from langchain.schema import Document"
   ]
  },
  {
   "cell_type": "code",
   "execution_count": 289,
   "id": "eeddf39e",
   "metadata": {},
   "outputs": [
    {
     "name": "stdout",
     "output_type": "stream",
     "text": [
      "FAISS index saved to 'faiss_index/'\n"
     ]
    }
   ],
   "source": [
    "# Use MPS device for HuggingFace embeddings (Apple Silicon GPU)\n",
    "from langchain_huggingface import HuggingFaceEmbeddings\n",
    "from langchain.vectorstores import FAISS\n",
    "from langchain.schema import Document\n",
    "\n",
    "device = \"mps\"  # Apple Silicon GPU\n",
    "\n",
    "embedding_model = HuggingFaceEmbeddings(\n",
    "    model_name=\"sentence-transformers/paraphrase-multilingual-MiniLM-L12-v2\",\n",
    "    model_kwargs={\"device\": device}\n",
    ")\n",
    "\n",
    "docs = [Document(page_content=chunk['text']) for chunk in chunks]\n",
    "faiss_store = FAISS.from_documents(docs, embedding=embedding_model)\n",
    "faiss_store.save_local(\"../faiss_index\")\n",
    "print(\"FAISS index saved to 'faiss_index/'\")"
   ]
  },
  {
   "cell_type": "code",
   "execution_count": 290,
   "id": "716103b3",
   "metadata": {},
   "outputs": [],
   "source": [
    "#Faiss load local\n",
    "faiss_store = FAISS.load_local(\n",
    "    \"../faiss_index\",\n",
    "    embeddings=embedding_model,\n",
    "    allow_dangerous_deserialization=True\n",
    ")\n"
   ]
  },
  {
   "cell_type": "code",
   "execution_count": 318,
   "id": "5794fce4",
   "metadata": {},
   "outputs": [],
   "source": [
    "template = \"\"\"প্রসঙ্গ:\n",
    "নিচে একটি অজানা ধরনের তথ্যসূত্র (context) প্রদান করা হয়েছে। এটি একটি গল্প, প্রশ্নোত্তর, বহু নির্বাচনী প্রশ্ন, সাধারণ জ্ঞান, আলোচনা অথবা অন্য যেকোনো ধরণের লেখা হতে পারে। \n",
    "এই তথ্যসূত্রের ভিতরে বা শেষে কিছু প্রশ্নের সঠিক উত্তর সরাসরি বা পরোক্ষভাবে উপস্থিত থাকতে পারে — যেমন শেষে সঠিক উত্তর তালিকাবদ্ধ থাকতে পারে (যেমন: \"Correct Answers\", \"Answer Key\" ইত্যাদি), অথবা উত্তরগুলো লেখার ভিতরে ছড়িয়ে থাকতে পারে।\n",
    "\n",
    "আপনার কাজ:\n",
    "- পুরো তথ্যসূত্র (context) মনোযোগ দিয়ে পড়ুন।\n",
    "- প্রদত্ত প্রশ্নের সঠিক উত্তর তথ্যসূত্র থেকে খুঁজে বের করুন।\n",
    "- যদি সঠিক উত্তর context-এর শেষে আলাদাভাবে তালিকাভুক্ত থাকে, তাহলে সেখান থেকেও মিলিয়ে দেখুন।\n",
    "- সঠিক উত্তরটি সংক্ষিপ্তভাবে এবং স্পষ্টভাবে এক লাইনে প্রদান করুন।\n",
    "\n",
    "উত্তর লেখার নিয়ম:\n",
    "- আপনার উত্তর অবশ্যই তথ্যসূত্রের উপর ভিত্তি করে হতে হবে।\n",
    "- অপ্রাসঙ্গিক ব্যাখ্যা বা অতিরিক্ত কিছু যুক্ত করবেন না।\n",
    "- প্রশ্ন যেভাবেই হোক, আপনি কেবলমাত্র সংশ্লিষ্ট ও সঠিক উত্তরটি এক লাইনে দিন।\n",
    "\n",
    "{context}\n",
    "\n",
    "প্রশ্ন: {question}\n",
    "উত্তর: এক লাইনে সঠিক উত্তর দিন।\"\"\"\n",
    "prompt_template = PromptTemplate(\n",
    "    input_variables=[\"context\", \"question\"],\n",
    "    template=template,\n",
    ")\n"
   ]
  },
  {
   "cell_type": "code",
   "execution_count": 319,
   "id": "ae8e8cbe",
   "metadata": {},
   "outputs": [],
   "source": [
    "memory = ConversationBufferWindowMemory(k=2, return_messages=True)"
   ]
  },
  {
   "cell_type": "code",
   "execution_count": 329,
   "id": "ebeb2b16",
   "metadata": {},
   "outputs": [],
   "source": [
    "openai_api_key = os.getenv(\"OPENAI_API_KEY\")\n",
    "llm_openai = ChatOpenAI(\n",
    "    openai_api_key=openai_api_key,\n",
    "    model=\"gpt-4o\",       \n",
    "    streaming=True       \n",
    ")"
   ]
  },
  {
   "cell_type": "code",
   "execution_count": 328,
   "id": "9dc34c61",
   "metadata": {},
   "outputs": [],
   "source": [
    "def rag_chat_with_memory(query: str, llm=llm):\n",
    "    # Save user question into memory\n",
    "    memory.chat_memory.add_user_message(query)\n",
    "\n",
    "    # Step 1: FAISS retrieval of top-10 candidate docs\n",
    "    retriever = faiss_store.as_retriever(search_kwargs={\"k\": 10})\n",
    "    candidate_docs = retriever.get_relevant_documents(query)\n",
    "    \n",
    "    # Extract texts and indices from FAISS results\n",
    "    candidate_texts = [doc.page_content for doc in candidate_docs]\n",
    "    \n",
    "    # Step 2: Apply BM25 on the FAISS-retrieved documents\n",
    "    # Tokenize query for BM25\n",
    "    tokenized_query = bm25_tokenizer(query)\n",
    "    \n",
    "    # Create local BM25 index for the candidate texts\n",
    "    tokenized_candidates = [bm25_tokenizer(text) for text in candidate_texts]\n",
    "    local_bm25 = BM25Okapi(tokenized_candidates)\n",
    "    \n",
    "    # Get BM25 scores for candidate documents\n",
    "    bm25_scores = local_bm25.get_scores(tokenized_query)\n",
    "    \n",
    "    # Combine texts with their BM25 scores\n",
    "    bm25_results = [{\n",
    "        'text': text,\n",
    "        'score': score\n",
    "    } for text, score in zip(candidate_texts, bm25_scores)]\n",
    "    \n",
    "    # Sort by BM25 scores (descending)\n",
    "    bm25_results = sorted(bm25_results, key=lambda x: x['score'], reverse=True)\n",
    "    \n",
    "    # Step 3: Rerank BM25-ordered texts with Cohere to get top-3\n",
    "    rerank_res = co.rerank(\n",
    "        query=query,\n",
    "        documents=[res['text'] for res in bm25_results],\n",
    "        top_n=3,\n",
    "        return_documents=True\n",
    "    )\n",
    "    \n",
    "    # Step 4: Extract top reranked texts\n",
    "    top_texts = [res.document.text for res in rerank_res.results]\n",
    "    \n",
    "    # Step 5: Build context from reranked texts\n",
    "    context = \"\\n\".join(top_texts)\n",
    "\n",
    "    # Step 6: Generate answer using prompt template\n",
    "    prompt_str = prompt_template.format(context=context, question=query)\n",
    "    answer = llm.invoke([HumanMessage(content=prompt_str)]).content.strip()\n",
    "    \n",
    "    # Save answer into memory\n",
    "    memory.chat_memory.add_ai_message(answer)\n",
    "    \n",
    "    # Print and return\n",
    "    print(\"User:\", query)\n",
    "    print(\"Answer:\", answer)\n",
    "    return answer"
   ]
  },
  {
   "cell_type": "code",
   "execution_count": 330,
   "id": "fd9f328d",
   "metadata": {},
   "outputs": [],
   "source": [
    "from langchain.chat_models import ChatCohere\n",
    "\n",
    "llm_command_r = ChatCohere(cohere_api_key=cohere_token, model=\"command-r\", streaming=True)\n"
   ]
  },
  {
   "cell_type": "code",
   "execution_count": 331,
   "id": "b38af656",
   "metadata": {},
   "outputs": [
    {
     "name": "stdout",
     "output_type": "stream",
     "text": [
      "User: বিয়ের সময় কল্যাণীর প্রকৃত বয়স কত ছিল?\n",
      "Answer: তথ্যসূত্রে কল্যাণীর প্রকৃত বয়স সরাসরি উল্লিখিত নেই।\n"
     ]
    },
    {
     "data": {
      "text/plain": [
       "'তথ্যসূত্রে কল্যাণীর প্রকৃত বয়স সরাসরি উল্লিখিত নেই।'"
      ]
     },
     "execution_count": 331,
     "metadata": {},
     "output_type": "execute_result"
    }
   ],
   "source": [
    "rag_chat_with_memory(query=\"বিয়ের সময় কল্যাণীর প্রকৃত বয়স কত ছিল?\", llm=llm_openai) "
   ]
  },
  {
   "cell_type": "code",
   "execution_count": 342,
   "id": "4d6d38f6",
   "metadata": {},
   "outputs": [
    {
     "ename": "KeyboardInterrupt",
     "evalue": "",
     "output_type": "error",
     "traceback": [
      "\u001b[31m---------------------------------------------------------------------------\u001b[39m",
      "\u001b[31mKeyboardInterrupt\u001b[39m                         Traceback (most recent call last)",
      "\u001b[36mCell\u001b[39m\u001b[36m \u001b[39m\u001b[32mIn[342]\u001b[39m\u001b[32m, line 1\u001b[39m\n\u001b[32m----> \u001b[39m\u001b[32m1\u001b[39m \u001b[43mrag_chat_with_memory\u001b[49m\u001b[43m(\u001b[49m\u001b[43mquery\u001b[49m\u001b[43m=\u001b[49m\u001b[33;43m\"\u001b[39;49m\u001b[33;43mবিয়ের সময় কল্যাণীর প্রকৃত বয়স কত ছিল?\u001b[39;49m\u001b[33;43m\"\u001b[39;49m\u001b[43m,\u001b[49m\u001b[43m \u001b[49m\u001b[43mllm\u001b[49m\u001b[43m=\u001b[49m\u001b[43mllm_command_r\u001b[49m\u001b[43m)\u001b[49m \n",
      "\u001b[36mCell\u001b[39m\u001b[36m \u001b[39m\u001b[32mIn[328]\u001b[39m\u001b[32m, line 48\u001b[39m, in \u001b[36mrag_chat_with_memory\u001b[39m\u001b[34m(query, llm)\u001b[39m\n\u001b[32m     46\u001b[39m \u001b[38;5;66;03m# Step 6: Generate answer using prompt template\u001b[39;00m\n\u001b[32m     47\u001b[39m prompt_str = prompt_template.format(context=context, question=query)\n\u001b[32m---> \u001b[39m\u001b[32m48\u001b[39m answer = \u001b[43mllm\u001b[49m\u001b[43m.\u001b[49m\u001b[43minvoke\u001b[49m\u001b[43m(\u001b[49m\u001b[43m[\u001b[49m\u001b[43mHumanMessage\u001b[49m\u001b[43m(\u001b[49m\u001b[43mcontent\u001b[49m\u001b[43m=\u001b[49m\u001b[43mprompt_str\u001b[49m\u001b[43m)\u001b[49m\u001b[43m]\u001b[49m\u001b[43m)\u001b[49m.content.strip()\n\u001b[32m     50\u001b[39m \u001b[38;5;66;03m# Save answer into memory\u001b[39;00m\n\u001b[32m     51\u001b[39m memory.chat_memory.add_ai_message(answer)\n",
      "\u001b[36mFile \u001b[39m\u001b[32m~/Documents/TenMS_Solution/venv/lib/python3.12/site-packages/langchain_core/language_models/chat_models.py:277\u001b[39m, in \u001b[36mBaseChatModel.invoke\u001b[39m\u001b[34m(self, input, config, stop, **kwargs)\u001b[39m\n\u001b[32m    266\u001b[39m \u001b[38;5;28;01mdef\u001b[39;00m\u001b[38;5;250m \u001b[39m\u001b[34minvoke\u001b[39m(\n\u001b[32m    267\u001b[39m     \u001b[38;5;28mself\u001b[39m,\n\u001b[32m    268\u001b[39m     \u001b[38;5;28minput\u001b[39m: LanguageModelInput,\n\u001b[32m   (...)\u001b[39m\u001b[32m    272\u001b[39m     **kwargs: Any,\n\u001b[32m    273\u001b[39m ) -> BaseMessage:\n\u001b[32m    274\u001b[39m     config = ensure_config(config)\n\u001b[32m    275\u001b[39m     \u001b[38;5;28;01mreturn\u001b[39;00m cast(\n\u001b[32m    276\u001b[39m         ChatGeneration,\n\u001b[32m--> \u001b[39m\u001b[32m277\u001b[39m         \u001b[38;5;28;43mself\u001b[39;49m\u001b[43m.\u001b[49m\u001b[43mgenerate_prompt\u001b[49m\u001b[43m(\u001b[49m\n\u001b[32m    278\u001b[39m \u001b[43m            \u001b[49m\u001b[43m[\u001b[49m\u001b[38;5;28;43mself\u001b[39;49m\u001b[43m.\u001b[49m\u001b[43m_convert_input\u001b[49m\u001b[43m(\u001b[49m\u001b[38;5;28;43minput\u001b[39;49m\u001b[43m)\u001b[49m\u001b[43m]\u001b[49m\u001b[43m,\u001b[49m\n\u001b[32m    279\u001b[39m \u001b[43m            \u001b[49m\u001b[43mstop\u001b[49m\u001b[43m=\u001b[49m\u001b[43mstop\u001b[49m\u001b[43m,\u001b[49m\n\u001b[32m    280\u001b[39m \u001b[43m            \u001b[49m\u001b[43mcallbacks\u001b[49m\u001b[43m=\u001b[49m\u001b[43mconfig\u001b[49m\u001b[43m.\u001b[49m\u001b[43mget\u001b[49m\u001b[43m(\u001b[49m\u001b[33;43m\"\u001b[39;49m\u001b[33;43mcallbacks\u001b[39;49m\u001b[33;43m\"\u001b[39;49m\u001b[43m)\u001b[49m\u001b[43m,\u001b[49m\n\u001b[32m    281\u001b[39m \u001b[43m            \u001b[49m\u001b[43mtags\u001b[49m\u001b[43m=\u001b[49m\u001b[43mconfig\u001b[49m\u001b[43m.\u001b[49m\u001b[43mget\u001b[49m\u001b[43m(\u001b[49m\u001b[33;43m\"\u001b[39;49m\u001b[33;43mtags\u001b[39;49m\u001b[33;43m\"\u001b[39;49m\u001b[43m)\u001b[49m\u001b[43m,\u001b[49m\n\u001b[32m    282\u001b[39m \u001b[43m            \u001b[49m\u001b[43mmetadata\u001b[49m\u001b[43m=\u001b[49m\u001b[43mconfig\u001b[49m\u001b[43m.\u001b[49m\u001b[43mget\u001b[49m\u001b[43m(\u001b[49m\u001b[33;43m\"\u001b[39;49m\u001b[33;43mmetadata\u001b[39;49m\u001b[33;43m\"\u001b[39;49m\u001b[43m)\u001b[49m\u001b[43m,\u001b[49m\n\u001b[32m    283\u001b[39m \u001b[43m            \u001b[49m\u001b[43mrun_name\u001b[49m\u001b[43m=\u001b[49m\u001b[43mconfig\u001b[49m\u001b[43m.\u001b[49m\u001b[43mget\u001b[49m\u001b[43m(\u001b[49m\u001b[33;43m\"\u001b[39;49m\u001b[33;43mrun_name\u001b[39;49m\u001b[33;43m\"\u001b[39;49m\u001b[43m)\u001b[49m\u001b[43m,\u001b[49m\n\u001b[32m    284\u001b[39m \u001b[43m            \u001b[49m\u001b[43mrun_id\u001b[49m\u001b[43m=\u001b[49m\u001b[43mconfig\u001b[49m\u001b[43m.\u001b[49m\u001b[43mpop\u001b[49m\u001b[43m(\u001b[49m\u001b[33;43m\"\u001b[39;49m\u001b[33;43mrun_id\u001b[39;49m\u001b[33;43m\"\u001b[39;49m\u001b[43m,\u001b[49m\u001b[43m \u001b[49m\u001b[38;5;28;43;01mNone\u001b[39;49;00m\u001b[43m)\u001b[49m\u001b[43m,\u001b[49m\n\u001b[32m    285\u001b[39m \u001b[43m            \u001b[49m\u001b[43m*\u001b[49m\u001b[43m*\u001b[49m\u001b[43mkwargs\u001b[49m\u001b[43m,\u001b[49m\n\u001b[32m    286\u001b[39m \u001b[43m        \u001b[49m\u001b[43m)\u001b[49m.generations[\u001b[32m0\u001b[39m][\u001b[32m0\u001b[39m],\n\u001b[32m    287\u001b[39m     ).message\n",
      "\u001b[36mFile \u001b[39m\u001b[32m~/Documents/TenMS_Solution/venv/lib/python3.12/site-packages/langchain_core/language_models/chat_models.py:777\u001b[39m, in \u001b[36mBaseChatModel.generate_prompt\u001b[39m\u001b[34m(self, prompts, stop, callbacks, **kwargs)\u001b[39m\n\u001b[32m    769\u001b[39m \u001b[38;5;28;01mdef\u001b[39;00m\u001b[38;5;250m \u001b[39m\u001b[34mgenerate_prompt\u001b[39m(\n\u001b[32m    770\u001b[39m     \u001b[38;5;28mself\u001b[39m,\n\u001b[32m    771\u001b[39m     prompts: List[PromptValue],\n\u001b[32m   (...)\u001b[39m\u001b[32m    774\u001b[39m     **kwargs: Any,\n\u001b[32m    775\u001b[39m ) -> LLMResult:\n\u001b[32m    776\u001b[39m     prompt_messages = [p.to_messages() \u001b[38;5;28;01mfor\u001b[39;00m p \u001b[38;5;129;01min\u001b[39;00m prompts]\n\u001b[32m--> \u001b[39m\u001b[32m777\u001b[39m     \u001b[38;5;28;01mreturn\u001b[39;00m \u001b[38;5;28;43mself\u001b[39;49m\u001b[43m.\u001b[49m\u001b[43mgenerate\u001b[49m\u001b[43m(\u001b[49m\u001b[43mprompt_messages\u001b[49m\u001b[43m,\u001b[49m\u001b[43m \u001b[49m\u001b[43mstop\u001b[49m\u001b[43m=\u001b[49m\u001b[43mstop\u001b[49m\u001b[43m,\u001b[49m\u001b[43m \u001b[49m\u001b[43mcallbacks\u001b[49m\u001b[43m=\u001b[49m\u001b[43mcallbacks\u001b[49m\u001b[43m,\u001b[49m\u001b[43m \u001b[49m\u001b[43m*\u001b[49m\u001b[43m*\u001b[49m\u001b[43mkwargs\u001b[49m\u001b[43m)\u001b[49m\n",
      "\u001b[36mFile \u001b[39m\u001b[32m~/Documents/TenMS_Solution/venv/lib/python3.12/site-packages/langchain_core/language_models/chat_models.py:634\u001b[39m, in \u001b[36mBaseChatModel.generate\u001b[39m\u001b[34m(self, messages, stop, callbacks, tags, metadata, run_name, run_id, **kwargs)\u001b[39m\n\u001b[32m    632\u001b[39m         \u001b[38;5;28;01mif\u001b[39;00m run_managers:\n\u001b[32m    633\u001b[39m             run_managers[i].on_llm_error(e, response=LLMResult(generations=[]))\n\u001b[32m--> \u001b[39m\u001b[32m634\u001b[39m         \u001b[38;5;28;01mraise\u001b[39;00m e\n\u001b[32m    635\u001b[39m flattened_outputs = [\n\u001b[32m    636\u001b[39m     LLMResult(generations=[res.generations], llm_output=res.llm_output)  \u001b[38;5;66;03m# type: ignore[list-item]\u001b[39;00m\n\u001b[32m    637\u001b[39m     \u001b[38;5;28;01mfor\u001b[39;00m res \u001b[38;5;129;01min\u001b[39;00m results\n\u001b[32m    638\u001b[39m ]\n\u001b[32m    639\u001b[39m llm_output = \u001b[38;5;28mself\u001b[39m._combine_llm_outputs([res.llm_output \u001b[38;5;28;01mfor\u001b[39;00m res \u001b[38;5;129;01min\u001b[39;00m results])\n",
      "\u001b[36mFile \u001b[39m\u001b[32m~/Documents/TenMS_Solution/venv/lib/python3.12/site-packages/langchain_core/language_models/chat_models.py:624\u001b[39m, in \u001b[36mBaseChatModel.generate\u001b[39m\u001b[34m(self, messages, stop, callbacks, tags, metadata, run_name, run_id, **kwargs)\u001b[39m\n\u001b[32m    621\u001b[39m \u001b[38;5;28;01mfor\u001b[39;00m i, m \u001b[38;5;129;01min\u001b[39;00m \u001b[38;5;28menumerate\u001b[39m(messages):\n\u001b[32m    622\u001b[39m     \u001b[38;5;28;01mtry\u001b[39;00m:\n\u001b[32m    623\u001b[39m         results.append(\n\u001b[32m--> \u001b[39m\u001b[32m624\u001b[39m             \u001b[38;5;28;43mself\u001b[39;49m\u001b[43m.\u001b[49m\u001b[43m_generate_with_cache\u001b[49m\u001b[43m(\u001b[49m\n\u001b[32m    625\u001b[39m \u001b[43m                \u001b[49m\u001b[43mm\u001b[49m\u001b[43m,\u001b[49m\n\u001b[32m    626\u001b[39m \u001b[43m                \u001b[49m\u001b[43mstop\u001b[49m\u001b[43m=\u001b[49m\u001b[43mstop\u001b[49m\u001b[43m,\u001b[49m\n\u001b[32m    627\u001b[39m \u001b[43m                \u001b[49m\u001b[43mrun_manager\u001b[49m\u001b[43m=\u001b[49m\u001b[43mrun_managers\u001b[49m\u001b[43m[\u001b[49m\u001b[43mi\u001b[49m\u001b[43m]\u001b[49m\u001b[43m \u001b[49m\u001b[38;5;28;43;01mif\u001b[39;49;00m\u001b[43m \u001b[49m\u001b[43mrun_managers\u001b[49m\u001b[43m \u001b[49m\u001b[38;5;28;43;01melse\u001b[39;49;00m\u001b[43m \u001b[49m\u001b[38;5;28;43;01mNone\u001b[39;49;00m\u001b[43m,\u001b[49m\n\u001b[32m    628\u001b[39m \u001b[43m                \u001b[49m\u001b[43m*\u001b[49m\u001b[43m*\u001b[49m\u001b[43mkwargs\u001b[49m\u001b[43m,\u001b[49m\n\u001b[32m    629\u001b[39m \u001b[43m            \u001b[49m\u001b[43m)\u001b[49m\n\u001b[32m    630\u001b[39m         )\n\u001b[32m    631\u001b[39m     \u001b[38;5;28;01mexcept\u001b[39;00m \u001b[38;5;167;01mBaseException\u001b[39;00m \u001b[38;5;28;01mas\u001b[39;00m e:\n\u001b[32m    632\u001b[39m         \u001b[38;5;28;01mif\u001b[39;00m run_managers:\n",
      "\u001b[36mFile \u001b[39m\u001b[32m~/Documents/TenMS_Solution/venv/lib/python3.12/site-packages/langchain_core/language_models/chat_models.py:846\u001b[39m, in \u001b[36mBaseChatModel._generate_with_cache\u001b[39m\u001b[34m(self, messages, stop, run_manager, **kwargs)\u001b[39m\n\u001b[32m    844\u001b[39m \u001b[38;5;28;01melse\u001b[39;00m:\n\u001b[32m    845\u001b[39m     \u001b[38;5;28;01mif\u001b[39;00m inspect.signature(\u001b[38;5;28mself\u001b[39m._generate).parameters.get(\u001b[33m\"\u001b[39m\u001b[33mrun_manager\u001b[39m\u001b[33m\"\u001b[39m):\n\u001b[32m--> \u001b[39m\u001b[32m846\u001b[39m         result = \u001b[38;5;28;43mself\u001b[39;49m\u001b[43m.\u001b[49m\u001b[43m_generate\u001b[49m\u001b[43m(\u001b[49m\n\u001b[32m    847\u001b[39m \u001b[43m            \u001b[49m\u001b[43mmessages\u001b[49m\u001b[43m,\u001b[49m\u001b[43m \u001b[49m\u001b[43mstop\u001b[49m\u001b[43m=\u001b[49m\u001b[43mstop\u001b[49m\u001b[43m,\u001b[49m\u001b[43m \u001b[49m\u001b[43mrun_manager\u001b[49m\u001b[43m=\u001b[49m\u001b[43mrun_manager\u001b[49m\u001b[43m,\u001b[49m\u001b[43m \u001b[49m\u001b[43m*\u001b[49m\u001b[43m*\u001b[49m\u001b[43mkwargs\u001b[49m\n\u001b[32m    848\u001b[39m \u001b[43m        \u001b[49m\u001b[43m)\u001b[49m\n\u001b[32m    849\u001b[39m     \u001b[38;5;28;01melse\u001b[39;00m:\n\u001b[32m    850\u001b[39m         result = \u001b[38;5;28mself\u001b[39m._generate(messages, stop=stop, **kwargs)\n",
      "\u001b[36mFile \u001b[39m\u001b[32m~/Documents/TenMS_Solution/venv/lib/python3.12/site-packages/langchain_community/chat_models/cohere.py:208\u001b[39m, in \u001b[36mChatCohere._generate\u001b[39m\u001b[34m(self, messages, stop, run_manager, **kwargs)\u001b[39m\n\u001b[32m    204\u001b[39m \u001b[38;5;28;01mif\u001b[39;00m \u001b[38;5;28mself\u001b[39m.streaming:\n\u001b[32m    205\u001b[39m     stream_iter = \u001b[38;5;28mself\u001b[39m._stream(\n\u001b[32m    206\u001b[39m         messages, stop=stop, run_manager=run_manager, **kwargs\n\u001b[32m    207\u001b[39m     )\n\u001b[32m--> \u001b[39m\u001b[32m208\u001b[39m     \u001b[38;5;28;01mreturn\u001b[39;00m \u001b[43mgenerate_from_stream\u001b[49m\u001b[43m(\u001b[49m\u001b[43mstream_iter\u001b[49m\u001b[43m)\u001b[49m\n\u001b[32m    210\u001b[39m request = get_cohere_chat_request(messages, **\u001b[38;5;28mself\u001b[39m._default_params, **kwargs)\n\u001b[32m    211\u001b[39m response = \u001b[38;5;28mself\u001b[39m.client.chat(**request)\n",
      "\u001b[36mFile \u001b[39m\u001b[32m~/Documents/TenMS_Solution/venv/lib/python3.12/site-packages/langchain_core/language_models/chat_models.py:88\u001b[39m, in \u001b[36mgenerate_from_stream\u001b[39m\u001b[34m(stream)\u001b[39m\n\u001b[32m     78\u001b[39m \u001b[38;5;28;01mdef\u001b[39;00m\u001b[38;5;250m \u001b[39m\u001b[34mgenerate_from_stream\u001b[39m(stream: Iterator[ChatGenerationChunk]) -> ChatResult:\n\u001b[32m     79\u001b[39m \u001b[38;5;250m    \u001b[39m\u001b[33;03m\"\"\"Generate from a stream.\u001b[39;00m\n\u001b[32m     80\u001b[39m \n\u001b[32m     81\u001b[39m \u001b[33;03m    Args:\u001b[39;00m\n\u001b[32m   (...)\u001b[39m\u001b[32m     85\u001b[39m \u001b[33;03m        ChatResult: Chat result.\u001b[39;00m\n\u001b[32m     86\u001b[39m \u001b[33;03m    \"\"\"\u001b[39;00m\n\u001b[32m---> \u001b[39m\u001b[32m88\u001b[39m     generation = \u001b[38;5;28;43mnext\u001b[39;49m\u001b[43m(\u001b[49m\u001b[43mstream\u001b[49m\u001b[43m,\u001b[49m\u001b[43m \u001b[49m\u001b[38;5;28;43;01mNone\u001b[39;49;00m\u001b[43m)\u001b[49m\n\u001b[32m     89\u001b[39m     \u001b[38;5;28;01mif\u001b[39;00m generation:\n\u001b[32m     90\u001b[39m         generation += \u001b[38;5;28mlist\u001b[39m(stream)\n",
      "\u001b[36mFile \u001b[39m\u001b[32m~/Documents/TenMS_Solution/venv/lib/python3.12/site-packages/langchain_community/chat_models/cohere.py:157\u001b[39m, in \u001b[36mChatCohere._stream\u001b[39m\u001b[34m(self, messages, stop, run_manager, **kwargs)\u001b[39m\n\u001b[32m    154\u001b[39m \u001b[38;5;28;01melse\u001b[39;00m:\n\u001b[32m    155\u001b[39m     stream = \u001b[38;5;28mself\u001b[39m.client.chat(**request, stream=\u001b[38;5;28;01mTrue\u001b[39;00m)\n\u001b[32m--> \u001b[39m\u001b[32m157\u001b[39m \u001b[43m\u001b[49m\u001b[38;5;28;43;01mfor\u001b[39;49;00m\u001b[43m \u001b[49m\u001b[43mdata\u001b[49m\u001b[43m \u001b[49m\u001b[38;5;129;43;01min\u001b[39;49;00m\u001b[43m \u001b[49m\u001b[43mstream\u001b[49m\u001b[43m:\u001b[49m\n\u001b[32m    158\u001b[39m \u001b[43m    \u001b[49m\u001b[38;5;28;43;01mif\u001b[39;49;00m\u001b[43m \u001b[49m\u001b[43mdata\u001b[49m\u001b[43m.\u001b[49m\u001b[43mevent_type\u001b[49m\u001b[43m \u001b[49m\u001b[43m==\u001b[49m\u001b[43m \u001b[49m\u001b[33;43m\"\u001b[39;49m\u001b[33;43mtext-generation\u001b[39;49m\u001b[33;43m\"\u001b[39;49m\u001b[43m:\u001b[49m\n\u001b[32m    159\u001b[39m \u001b[43m        \u001b[49m\u001b[43mdelta\u001b[49m\u001b[43m \u001b[49m\u001b[43m=\u001b[49m\u001b[43m \u001b[49m\u001b[43mdata\u001b[49m\u001b[43m.\u001b[49m\u001b[43mtext\u001b[49m\n",
      "\u001b[36mFile \u001b[39m\u001b[32m~/Documents/TenMS_Solution/venv/lib/python3.12/site-packages/cohere/base_client.py:467\u001b[39m, in \u001b[36mBaseCohere.chat_stream\u001b[39m\u001b[34m(self, message, model, preamble, chat_history, conversation_id, prompt_truncation, connectors, search_queries_only, documents, citation_quality, temperature, max_tokens, max_input_tokens, k, p, seed, stop_sequences, frequency_penalty, presence_penalty, raw_prompting, return_prompt, tools, tool_results, force_single_step, request_options)\u001b[39m\n\u001b[32m    144\u001b[39m \u001b[38;5;28;01mdef\u001b[39;00m\u001b[38;5;250m \u001b[39m\u001b[34mchat_stream\u001b[39m(\n\u001b[32m    145\u001b[39m     \u001b[38;5;28mself\u001b[39m,\n\u001b[32m    146\u001b[39m     *,\n\u001b[32m   (...)\u001b[39m\u001b[32m    171\u001b[39m     request_options: typing.Optional[RequestOptions] = \u001b[38;5;28;01mNone\u001b[39;00m\n\u001b[32m    172\u001b[39m ) -> typing.Iterator[StreamedChatResponse]:\n\u001b[32m    173\u001b[39m \u001b[38;5;250m    \u001b[39m\u001b[33;03m\"\"\"\u001b[39;00m\n\u001b[32m    174\u001b[39m \u001b[33;03m    Generates a text response to a user message.\u001b[39;00m\n\u001b[32m    175\u001b[39m \u001b[33;03m    To learn how to use the Chat API with Streaming and RAG follow our [Text Generation guides](https://docs.cohere.com/docs/chat-api).\u001b[39;00m\n\u001b[32m   (...)\u001b[39m\u001b[32m    465\u001b[39m \u001b[33;03m        yield chunk\u001b[39;00m\n\u001b[32m    466\u001b[39m \u001b[33;03m    \"\"\"\u001b[39;00m\n\u001b[32m--> \u001b[39m\u001b[32m467\u001b[39m \u001b[43m    \u001b[49m\u001b[38;5;28;43;01mwith\u001b[39;49;00m\u001b[43m \u001b[49m\u001b[38;5;28;43mself\u001b[39;49m\u001b[43m.\u001b[49m\u001b[43m_client_wrapper\u001b[49m\u001b[43m.\u001b[49m\u001b[43mhttpx_client\u001b[49m\u001b[43m.\u001b[49m\u001b[43mstream\u001b[49m\u001b[43m(\u001b[49m\n\u001b[32m    468\u001b[39m \u001b[43m        \u001b[49m\u001b[33;43m\"\u001b[39;49m\u001b[33;43mchat\u001b[39;49m\u001b[33;43m\"\u001b[39;49m\u001b[43m,\u001b[49m\n\u001b[32m    469\u001b[39m \u001b[43m        \u001b[49m\u001b[43mmethod\u001b[49m\u001b[43m=\u001b[49m\u001b[33;43m\"\u001b[39;49m\u001b[33;43mPOST\u001b[39;49m\u001b[33;43m\"\u001b[39;49m\u001b[43m,\u001b[49m\n\u001b[32m    470\u001b[39m \u001b[43m        \u001b[49m\u001b[43mjson\u001b[49m\u001b[43m=\u001b[49m\u001b[43m{\u001b[49m\n\u001b[32m    471\u001b[39m \u001b[43m            \u001b[49m\u001b[33;43m\"\u001b[39;49m\u001b[33;43mmessage\u001b[39;49m\u001b[33;43m\"\u001b[39;49m\u001b[43m:\u001b[49m\u001b[43m \u001b[49m\u001b[43mmessage\u001b[49m\u001b[43m,\u001b[49m\n\u001b[32m    472\u001b[39m \u001b[43m            \u001b[49m\u001b[33;43m\"\u001b[39;49m\u001b[33;43mmodel\u001b[39;49m\u001b[33;43m\"\u001b[39;49m\u001b[43m:\u001b[49m\u001b[43m \u001b[49m\u001b[43mmodel\u001b[49m\u001b[43m,\u001b[49m\n\u001b[32m    473\u001b[39m \u001b[43m            \u001b[49m\u001b[33;43m\"\u001b[39;49m\u001b[33;43mpreamble\u001b[39;49m\u001b[33;43m\"\u001b[39;49m\u001b[43m:\u001b[49m\u001b[43m \u001b[49m\u001b[43mpreamble\u001b[49m\u001b[43m,\u001b[49m\n\u001b[32m    474\u001b[39m \u001b[43m            \u001b[49m\u001b[33;43m\"\u001b[39;49m\u001b[33;43mchat_history\u001b[39;49m\u001b[33;43m\"\u001b[39;49m\u001b[43m:\u001b[49m\u001b[43m \u001b[49m\u001b[43mchat_history\u001b[49m\u001b[43m,\u001b[49m\n\u001b[32m    475\u001b[39m \u001b[43m            \u001b[49m\u001b[33;43m\"\u001b[39;49m\u001b[33;43mconversation_id\u001b[39;49m\u001b[33;43m\"\u001b[39;49m\u001b[43m:\u001b[49m\u001b[43m \u001b[49m\u001b[43mconversation_id\u001b[49m\u001b[43m,\u001b[49m\n\u001b[32m    476\u001b[39m \u001b[43m            \u001b[49m\u001b[33;43m\"\u001b[39;49m\u001b[33;43mprompt_truncation\u001b[39;49m\u001b[33;43m\"\u001b[39;49m\u001b[43m:\u001b[49m\u001b[43m \u001b[49m\u001b[43mprompt_truncation\u001b[49m\u001b[43m,\u001b[49m\n\u001b[32m    477\u001b[39m \u001b[43m            \u001b[49m\u001b[33;43m\"\u001b[39;49m\u001b[33;43mconnectors\u001b[39;49m\u001b[33;43m\"\u001b[39;49m\u001b[43m:\u001b[49m\u001b[43m \u001b[49m\u001b[43mconnectors\u001b[49m\u001b[43m,\u001b[49m\n\u001b[32m    478\u001b[39m \u001b[43m            \u001b[49m\u001b[33;43m\"\u001b[39;49m\u001b[33;43msearch_queries_only\u001b[39;49m\u001b[33;43m\"\u001b[39;49m\u001b[43m:\u001b[49m\u001b[43m \u001b[49m\u001b[43msearch_queries_only\u001b[49m\u001b[43m,\u001b[49m\n\u001b[32m    479\u001b[39m \u001b[43m            \u001b[49m\u001b[33;43m\"\u001b[39;49m\u001b[33;43mdocuments\u001b[39;49m\u001b[33;43m\"\u001b[39;49m\u001b[43m:\u001b[49m\u001b[43m \u001b[49m\u001b[43mdocuments\u001b[49m\u001b[43m,\u001b[49m\n\u001b[32m    480\u001b[39m \u001b[43m            \u001b[49m\u001b[33;43m\"\u001b[39;49m\u001b[33;43mcitation_quality\u001b[39;49m\u001b[33;43m\"\u001b[39;49m\u001b[43m:\u001b[49m\u001b[43m \u001b[49m\u001b[43mcitation_quality\u001b[49m\u001b[43m,\u001b[49m\n\u001b[32m    481\u001b[39m \u001b[43m            \u001b[49m\u001b[33;43m\"\u001b[39;49m\u001b[33;43mtemperature\u001b[39;49m\u001b[33;43m\"\u001b[39;49m\u001b[43m:\u001b[49m\u001b[43m \u001b[49m\u001b[43mtemperature\u001b[49m\u001b[43m,\u001b[49m\n\u001b[32m    482\u001b[39m \u001b[43m            \u001b[49m\u001b[33;43m\"\u001b[39;49m\u001b[33;43mmax_tokens\u001b[39;49m\u001b[33;43m\"\u001b[39;49m\u001b[43m:\u001b[49m\u001b[43m \u001b[49m\u001b[43mmax_tokens\u001b[49m\u001b[43m,\u001b[49m\n\u001b[32m    483\u001b[39m \u001b[43m            \u001b[49m\u001b[33;43m\"\u001b[39;49m\u001b[33;43mmax_input_tokens\u001b[39;49m\u001b[33;43m\"\u001b[39;49m\u001b[43m:\u001b[49m\u001b[43m \u001b[49m\u001b[43mmax_input_tokens\u001b[49m\u001b[43m,\u001b[49m\n\u001b[32m    484\u001b[39m \u001b[43m            \u001b[49m\u001b[33;43m\"\u001b[39;49m\u001b[33;43mk\u001b[39;49m\u001b[33;43m\"\u001b[39;49m\u001b[43m:\u001b[49m\u001b[43m \u001b[49m\u001b[43mk\u001b[49m\u001b[43m,\u001b[49m\n\u001b[32m    485\u001b[39m \u001b[43m            \u001b[49m\u001b[33;43m\"\u001b[39;49m\u001b[33;43mp\u001b[39;49m\u001b[33;43m\"\u001b[39;49m\u001b[43m:\u001b[49m\u001b[43m \u001b[49m\u001b[43mp\u001b[49m\u001b[43m,\u001b[49m\n\u001b[32m    486\u001b[39m \u001b[43m            \u001b[49m\u001b[33;43m\"\u001b[39;49m\u001b[33;43mseed\u001b[39;49m\u001b[33;43m\"\u001b[39;49m\u001b[43m:\u001b[49m\u001b[43m \u001b[49m\u001b[43mseed\u001b[49m\u001b[43m,\u001b[49m\n\u001b[32m    487\u001b[39m \u001b[43m            \u001b[49m\u001b[33;43m\"\u001b[39;49m\u001b[33;43mstop_sequences\u001b[39;49m\u001b[33;43m\"\u001b[39;49m\u001b[43m:\u001b[49m\u001b[43m \u001b[49m\u001b[43mstop_sequences\u001b[49m\u001b[43m,\u001b[49m\n\u001b[32m    488\u001b[39m \u001b[43m            \u001b[49m\u001b[33;43m\"\u001b[39;49m\u001b[33;43mfrequency_penalty\u001b[39;49m\u001b[33;43m\"\u001b[39;49m\u001b[43m:\u001b[49m\u001b[43m \u001b[49m\u001b[43mfrequency_penalty\u001b[49m\u001b[43m,\u001b[49m\n\u001b[32m    489\u001b[39m \u001b[43m            \u001b[49m\u001b[33;43m\"\u001b[39;49m\u001b[33;43mpresence_penalty\u001b[39;49m\u001b[33;43m\"\u001b[39;49m\u001b[43m:\u001b[49m\u001b[43m \u001b[49m\u001b[43mpresence_penalty\u001b[49m\u001b[43m,\u001b[49m\n\u001b[32m    490\u001b[39m \u001b[43m            \u001b[49m\u001b[33;43m\"\u001b[39;49m\u001b[33;43mraw_prompting\u001b[39;49m\u001b[33;43m\"\u001b[39;49m\u001b[43m:\u001b[49m\u001b[43m \u001b[49m\u001b[43mraw_prompting\u001b[49m\u001b[43m,\u001b[49m\n\u001b[32m    491\u001b[39m \u001b[43m            \u001b[49m\u001b[33;43m\"\u001b[39;49m\u001b[33;43mreturn_prompt\u001b[39;49m\u001b[33;43m\"\u001b[39;49m\u001b[43m:\u001b[49m\u001b[43m \u001b[49m\u001b[43mreturn_prompt\u001b[49m\u001b[43m,\u001b[49m\n\u001b[32m    492\u001b[39m \u001b[43m            \u001b[49m\u001b[33;43m\"\u001b[39;49m\u001b[33;43mtools\u001b[39;49m\u001b[33;43m\"\u001b[39;49m\u001b[43m:\u001b[49m\u001b[43m \u001b[49m\u001b[43mtools\u001b[49m\u001b[43m,\u001b[49m\n\u001b[32m    493\u001b[39m \u001b[43m            \u001b[49m\u001b[33;43m\"\u001b[39;49m\u001b[33;43mtool_results\u001b[39;49m\u001b[33;43m\"\u001b[39;49m\u001b[43m:\u001b[49m\u001b[43m \u001b[49m\u001b[43mtool_results\u001b[49m\u001b[43m,\u001b[49m\n\u001b[32m    494\u001b[39m \u001b[43m            \u001b[49m\u001b[33;43m\"\u001b[39;49m\u001b[33;43mforce_single_step\u001b[39;49m\u001b[33;43m\"\u001b[39;49m\u001b[43m:\u001b[49m\u001b[43m \u001b[49m\u001b[43mforce_single_step\u001b[49m\u001b[43m,\u001b[49m\n\u001b[32m    495\u001b[39m \u001b[43m            \u001b[49m\u001b[33;43m\"\u001b[39;49m\u001b[33;43mstream\u001b[39;49m\u001b[33;43m\"\u001b[39;49m\u001b[43m:\u001b[49m\u001b[43m \u001b[49m\u001b[38;5;28;43;01mTrue\u001b[39;49;00m\u001b[43m,\u001b[49m\n\u001b[32m    496\u001b[39m \u001b[43m        \u001b[49m\u001b[43m}\u001b[49m\u001b[43m,\u001b[49m\n\u001b[32m    497\u001b[39m \u001b[43m        \u001b[49m\u001b[43mrequest_options\u001b[49m\u001b[43m=\u001b[49m\u001b[43mrequest_options\u001b[49m\u001b[43m,\u001b[49m\n\u001b[32m    498\u001b[39m \u001b[43m        \u001b[49m\u001b[43momit\u001b[49m\u001b[43m=\u001b[49m\u001b[43mOMIT\u001b[49m\u001b[43m,\u001b[49m\n\u001b[32m    499\u001b[39m \u001b[43m    \u001b[49m\u001b[43m)\u001b[49m\u001b[43m \u001b[49m\u001b[38;5;28;43;01mas\u001b[39;49;00m\u001b[43m \u001b[49m\u001b[43m_response\u001b[49m\u001b[43m:\u001b[49m\n\u001b[32m    500\u001b[39m \u001b[43m        \u001b[49m\u001b[38;5;28;43;01mif\u001b[39;49;00m\u001b[43m \u001b[49m\u001b[32;43m200\u001b[39;49m\u001b[43m \u001b[49m\u001b[43m<\u001b[49m\u001b[43m=\u001b[49m\u001b[43m \u001b[49m\u001b[43m_response\u001b[49m\u001b[43m.\u001b[49m\u001b[43mstatus_code\u001b[49m\u001b[43m \u001b[49m\u001b[43m<\u001b[49m\u001b[43m \u001b[49m\u001b[32;43m300\u001b[39;49m\u001b[43m:\u001b[49m\n\u001b[32m    501\u001b[39m \u001b[43m            \u001b[49m\u001b[38;5;28;43;01mfor\u001b[39;49;00m\u001b[43m \u001b[49m\u001b[43m_text\u001b[49m\u001b[43m \u001b[49m\u001b[38;5;129;43;01min\u001b[39;49;00m\u001b[43m \u001b[49m\u001b[43m_response\u001b[49m\u001b[43m.\u001b[49m\u001b[43miter_lines\u001b[49m\u001b[43m(\u001b[49m\u001b[43m)\u001b[49m\u001b[43m:\u001b[49m\n",
      "\u001b[36mFile \u001b[39m\u001b[32m/opt/anaconda3/lib/python3.12/contextlib.py:137\u001b[39m, in \u001b[36m_GeneratorContextManager.__enter__\u001b[39m\u001b[34m(self)\u001b[39m\n\u001b[32m    135\u001b[39m \u001b[38;5;28;01mdel\u001b[39;00m \u001b[38;5;28mself\u001b[39m.args, \u001b[38;5;28mself\u001b[39m.kwds, \u001b[38;5;28mself\u001b[39m.func\n\u001b[32m    136\u001b[39m \u001b[38;5;28;01mtry\u001b[39;00m:\n\u001b[32m--> \u001b[39m\u001b[32m137\u001b[39m     \u001b[38;5;28;01mreturn\u001b[39;00m \u001b[38;5;28;43mnext\u001b[39;49m\u001b[43m(\u001b[49m\u001b[38;5;28;43mself\u001b[39;49m\u001b[43m.\u001b[49m\u001b[43mgen\u001b[49m\u001b[43m)\u001b[49m\n\u001b[32m    138\u001b[39m \u001b[38;5;28;01mexcept\u001b[39;00m \u001b[38;5;167;01mStopIteration\u001b[39;00m:\n\u001b[32m    139\u001b[39m     \u001b[38;5;28;01mraise\u001b[39;00m \u001b[38;5;167;01mRuntimeError\u001b[39;00m(\u001b[33m\"\u001b[39m\u001b[33mgenerator didn\u001b[39m\u001b[33m'\u001b[39m\u001b[33mt yield\u001b[39m\u001b[33m\"\u001b[39m) \u001b[38;5;28;01mfrom\u001b[39;00m\u001b[38;5;250m \u001b[39m\u001b[38;5;28;01mNone\u001b[39;00m\n",
      "\u001b[36mFile \u001b[39m\u001b[32m~/Documents/TenMS_Solution/venv/lib/python3.12/site-packages/cohere/core/http_client.py:251\u001b[39m, in \u001b[36mHttpClient.stream\u001b[39m\u001b[34m(self, path, method, base_url, params, json, data, content, files, headers, request_options, retries, omit)\u001b[39m\n\u001b[32m    244\u001b[39m base_url = \u001b[38;5;28mself\u001b[39m.get_base_url(base_url)\n\u001b[32m    245\u001b[39m timeout = (\n\u001b[32m    246\u001b[39m     request_options.get(\u001b[33m\"\u001b[39m\u001b[33mtimeout_in_seconds\u001b[39m\u001b[33m\"\u001b[39m)\n\u001b[32m    247\u001b[39m     \u001b[38;5;28;01mif\u001b[39;00m request_options \u001b[38;5;129;01mis\u001b[39;00m \u001b[38;5;129;01mnot\u001b[39;00m \u001b[38;5;28;01mNone\u001b[39;00m \u001b[38;5;129;01mand\u001b[39;00m request_options.get(\u001b[33m\"\u001b[39m\u001b[33mtimeout_in_seconds\u001b[39m\u001b[33m\"\u001b[39m) \u001b[38;5;129;01mis\u001b[39;00m \u001b[38;5;129;01mnot\u001b[39;00m \u001b[38;5;28;01mNone\u001b[39;00m\n\u001b[32m    248\u001b[39m     \u001b[38;5;28;01melse\u001b[39;00m \u001b[38;5;28mself\u001b[39m.base_timeout\n\u001b[32m    249\u001b[39m )\n\u001b[32m--> \u001b[39m\u001b[32m251\u001b[39m \u001b[43m\u001b[49m\u001b[38;5;28;43;01mwith\u001b[39;49;00m\u001b[43m \u001b[49m\u001b[38;5;28;43mself\u001b[39;49m\u001b[43m.\u001b[49m\u001b[43mhttpx_client\u001b[49m\u001b[43m.\u001b[49m\u001b[43mstream\u001b[49m\u001b[43m(\u001b[49m\n\u001b[32m    252\u001b[39m \u001b[43m    \u001b[49m\u001b[43mmethod\u001b[49m\u001b[43m=\u001b[49m\u001b[43mmethod\u001b[49m\u001b[43m,\u001b[49m\n\u001b[32m    253\u001b[39m \u001b[43m    \u001b[49m\u001b[43murl\u001b[49m\u001b[43m=\u001b[49m\u001b[43murllib\u001b[49m\u001b[43m.\u001b[49m\u001b[43mparse\u001b[49m\u001b[43m.\u001b[49m\u001b[43murljoin\u001b[49m\u001b[43m(\u001b[49m\u001b[33;43mf\u001b[39;49m\u001b[33;43m\"\u001b[39;49m\u001b[38;5;132;43;01m{\u001b[39;49;00m\u001b[43mbase_url\u001b[49m\u001b[38;5;132;43;01m}\u001b[39;49;00m\u001b[33;43m/\u001b[39;49m\u001b[33;43m\"\u001b[39;49m\u001b[43m,\u001b[49m\u001b[43m \u001b[49m\u001b[43mpath\u001b[49m\u001b[43m)\u001b[49m\u001b[43m,\u001b[49m\n\u001b[32m    254\u001b[39m \u001b[43m    \u001b[49m\u001b[43mheaders\u001b[49m\u001b[43m=\u001b[49m\u001b[43mjsonable_encoder\u001b[49m\u001b[43m(\u001b[49m\n\u001b[32m    255\u001b[39m \u001b[43m        \u001b[49m\u001b[43mremove_none_from_dict\u001b[49m\u001b[43m(\u001b[49m\n\u001b[32m    256\u001b[39m \u001b[43m            \u001b[49m\u001b[43m{\u001b[49m\n\u001b[32m    257\u001b[39m \u001b[43m                \u001b[49m\u001b[43m*\u001b[49m\u001b[43m*\u001b[49m\u001b[38;5;28;43mself\u001b[39;49m\u001b[43m.\u001b[49m\u001b[43mbase_headers\u001b[49m\u001b[43m,\u001b[49m\n\u001b[32m    258\u001b[39m \u001b[43m                \u001b[49m\u001b[43m*\u001b[49m\u001b[43m*\u001b[49m\u001b[43m(\u001b[49m\u001b[43mheaders\u001b[49m\u001b[43m \u001b[49m\u001b[38;5;28;43;01mif\u001b[39;49;00m\u001b[43m \u001b[49m\u001b[43mheaders\u001b[49m\u001b[43m \u001b[49m\u001b[38;5;129;43;01mis\u001b[39;49;00m\u001b[43m \u001b[49m\u001b[38;5;129;43;01mnot\u001b[39;49;00m\u001b[43m \u001b[49m\u001b[38;5;28;43;01mNone\u001b[39;49;00m\u001b[43m \u001b[49m\u001b[38;5;28;43;01melse\u001b[39;49;00m\u001b[43m \u001b[49m\u001b[43m{\u001b[49m\u001b[43m}\u001b[49m\u001b[43m)\u001b[49m\u001b[43m,\u001b[49m\n\u001b[32m    259\u001b[39m \u001b[43m                \u001b[49m\u001b[43m*\u001b[49m\u001b[43m*\u001b[49m\u001b[43m(\u001b[49m\u001b[43mrequest_options\u001b[49m\u001b[43m.\u001b[49m\u001b[43mget\u001b[49m\u001b[43m(\u001b[49m\u001b[33;43m\"\u001b[39;49m\u001b[33;43madditional_headers\u001b[39;49m\u001b[33;43m\"\u001b[39;49m\u001b[43m,\u001b[49m\u001b[43m \u001b[49m\u001b[43m{\u001b[49m\u001b[43m}\u001b[49m\u001b[43m)\u001b[49m\u001b[43m \u001b[49m\u001b[38;5;28;43;01mif\u001b[39;49;00m\u001b[43m \u001b[49m\u001b[43mrequest_options\u001b[49m\u001b[43m \u001b[49m\u001b[38;5;129;43;01mis\u001b[39;49;00m\u001b[43m \u001b[49m\u001b[38;5;129;43;01mnot\u001b[39;49;00m\u001b[43m \u001b[49m\u001b[38;5;28;43;01mNone\u001b[39;49;00m\u001b[43m \u001b[49m\u001b[38;5;28;43;01melse\u001b[39;49;00m\u001b[43m \u001b[49m\u001b[43m{\u001b[49m\u001b[43m}\u001b[49m\u001b[43m)\u001b[49m\u001b[43m,\u001b[49m\n\u001b[32m    260\u001b[39m \u001b[43m            \u001b[49m\u001b[43m}\u001b[49m\n\u001b[32m    261\u001b[39m \u001b[43m        \u001b[49m\u001b[43m)\u001b[49m\n\u001b[32m    262\u001b[39m \u001b[43m    \u001b[49m\u001b[43m)\u001b[49m\u001b[43m,\u001b[49m\n\u001b[32m    263\u001b[39m \u001b[43m    \u001b[49m\u001b[43mparams\u001b[49m\u001b[43m=\u001b[49m\u001b[43mencode_query\u001b[49m\u001b[43m(\u001b[49m\n\u001b[32m    264\u001b[39m \u001b[43m        \u001b[49m\u001b[43mjsonable_encoder\u001b[49m\u001b[43m(\u001b[49m\n\u001b[32m    265\u001b[39m \u001b[43m            \u001b[49m\u001b[43mremove_none_from_dict\u001b[49m\u001b[43m(\u001b[49m\n\u001b[32m    266\u001b[39m \u001b[43m                \u001b[49m\u001b[43mremove_omit_from_dict\u001b[49m\u001b[43m(\u001b[49m\n\u001b[32m    267\u001b[39m \u001b[43m                    \u001b[49m\u001b[43m{\u001b[49m\n\u001b[32m    268\u001b[39m \u001b[43m                        \u001b[49m\u001b[43m*\u001b[49m\u001b[43m*\u001b[49m\u001b[43m(\u001b[49m\u001b[43mparams\u001b[49m\u001b[43m \u001b[49m\u001b[38;5;28;43;01mif\u001b[39;49;00m\u001b[43m \u001b[49m\u001b[43mparams\u001b[49m\u001b[43m \u001b[49m\u001b[38;5;129;43;01mis\u001b[39;49;00m\u001b[43m \u001b[49m\u001b[38;5;129;43;01mnot\u001b[39;49;00m\u001b[43m \u001b[49m\u001b[38;5;28;43;01mNone\u001b[39;49;00m\u001b[43m \u001b[49m\u001b[38;5;28;43;01melse\u001b[39;49;00m\u001b[43m \u001b[49m\u001b[43m{\u001b[49m\u001b[43m}\u001b[49m\u001b[43m)\u001b[49m\u001b[43m,\u001b[49m\n\u001b[32m    269\u001b[39m \u001b[43m                        \u001b[49m\u001b[43m*\u001b[49m\u001b[43m*\u001b[49m\u001b[43m(\u001b[49m\n\u001b[32m    270\u001b[39m \u001b[43m                            \u001b[49m\u001b[43mrequest_options\u001b[49m\u001b[43m.\u001b[49m\u001b[43mget\u001b[49m\u001b[43m(\u001b[49m\u001b[33;43m\"\u001b[39;49m\u001b[33;43madditional_query_parameters\u001b[39;49m\u001b[33;43m\"\u001b[39;49m\u001b[43m,\u001b[49m\u001b[43m \u001b[49m\u001b[43m{\u001b[49m\u001b[43m}\u001b[49m\u001b[43m)\u001b[49m\n\u001b[32m    271\u001b[39m \u001b[43m                            \u001b[49m\u001b[38;5;28;43;01mif\u001b[39;49;00m\u001b[43m \u001b[49m\u001b[43mrequest_options\u001b[49m\u001b[43m \u001b[49m\u001b[38;5;129;43;01mis\u001b[39;49;00m\u001b[43m \u001b[49m\u001b[38;5;129;43;01mnot\u001b[39;49;00m\u001b[43m \u001b[49m\u001b[38;5;28;43;01mNone\u001b[39;49;00m\n\u001b[32m    272\u001b[39m \u001b[43m                            \u001b[49m\u001b[38;5;28;43;01melse\u001b[39;49;00m\u001b[43m \u001b[49m\u001b[43m{\u001b[49m\u001b[43m}\u001b[49m\n\u001b[32m    273\u001b[39m \u001b[43m                        \u001b[49m\u001b[43m)\u001b[49m\u001b[43m,\u001b[49m\n\u001b[32m    274\u001b[39m \u001b[43m                    \u001b[49m\u001b[43m}\u001b[49m\u001b[43m,\u001b[49m\n\u001b[32m    275\u001b[39m \u001b[43m                    \u001b[49m\u001b[43momit\u001b[49m\u001b[43m,\u001b[49m\n\u001b[32m    276\u001b[39m \u001b[43m                \u001b[49m\u001b[43m)\u001b[49m\n\u001b[32m    277\u001b[39m \u001b[43m            \u001b[49m\u001b[43m)\u001b[49m\n\u001b[32m    278\u001b[39m \u001b[43m        \u001b[49m\u001b[43m)\u001b[49m\n\u001b[32m    279\u001b[39m \u001b[43m    \u001b[49m\u001b[43m)\u001b[49m\u001b[43m,\u001b[49m\n\u001b[32m    280\u001b[39m \u001b[43m    \u001b[49m\u001b[43mjson\u001b[49m\u001b[43m=\u001b[49m\u001b[43mmaybe_filter_request_body\u001b[49m\u001b[43m(\u001b[49m\u001b[43mjson\u001b[49m\u001b[43m,\u001b[49m\u001b[43m \u001b[49m\u001b[43mrequest_options\u001b[49m\u001b[43m,\u001b[49m\u001b[43m \u001b[49m\u001b[43momit\u001b[49m\u001b[43m)\u001b[49m\u001b[43m,\u001b[49m\n\u001b[32m    281\u001b[39m \u001b[43m    \u001b[49m\u001b[43mdata\u001b[49m\u001b[43m=\u001b[49m\u001b[43mmaybe_filter_request_body\u001b[49m\u001b[43m(\u001b[49m\u001b[43mdata\u001b[49m\u001b[43m,\u001b[49m\u001b[43m \u001b[49m\u001b[43mrequest_options\u001b[49m\u001b[43m,\u001b[49m\u001b[43m \u001b[49m\u001b[43momit\u001b[49m\u001b[43m)\u001b[49m\u001b[43m,\u001b[49m\n\u001b[32m    282\u001b[39m \u001b[43m    \u001b[49m\u001b[43mcontent\u001b[49m\u001b[43m=\u001b[49m\u001b[43mcontent\u001b[49m\u001b[43m,\u001b[49m\n\u001b[32m    283\u001b[39m \u001b[43m    \u001b[49m\u001b[43mfiles\u001b[49m\u001b[43m=\u001b[49m\u001b[43mconvert_file_dict_to_httpx_tuples\u001b[49m\u001b[43m(\u001b[49m\u001b[43mremove_none_from_dict\u001b[49m\u001b[43m(\u001b[49m\u001b[43mfiles\u001b[49m\u001b[43m)\u001b[49m\u001b[43m)\u001b[49m\u001b[43m \u001b[49m\u001b[38;5;28;43;01mif\u001b[39;49;00m\u001b[43m \u001b[49m\u001b[43mfiles\u001b[49m\u001b[43m \u001b[49m\u001b[38;5;129;43;01mis\u001b[39;49;00m\u001b[43m \u001b[49m\u001b[38;5;129;43;01mnot\u001b[39;49;00m\u001b[43m \u001b[49m\u001b[38;5;28;43;01mNone\u001b[39;49;00m\u001b[43m \u001b[49m\u001b[38;5;28;43;01melse\u001b[39;49;00m\u001b[43m \u001b[49m\u001b[38;5;28;43;01mNone\u001b[39;49;00m\u001b[43m,\u001b[49m\n\u001b[32m    284\u001b[39m \u001b[43m    \u001b[49m\u001b[43mtimeout\u001b[49m\u001b[43m=\u001b[49m\u001b[43mtimeout\u001b[49m\u001b[43m,\u001b[49m\n\u001b[32m    285\u001b[39m \u001b[43m\u001b[49m\u001b[43m)\u001b[49m\u001b[43m \u001b[49m\u001b[38;5;28;43;01mas\u001b[39;49;00m\u001b[43m \u001b[49m\u001b[43mstream\u001b[49m\u001b[43m:\u001b[49m\n\u001b[32m    286\u001b[39m \u001b[43m    \u001b[49m\u001b[38;5;28;43;01myield\u001b[39;49;00m\u001b[43m \u001b[49m\u001b[43mstream\u001b[49m\n",
      "\u001b[36mFile \u001b[39m\u001b[32m/opt/anaconda3/lib/python3.12/contextlib.py:137\u001b[39m, in \u001b[36m_GeneratorContextManager.__enter__\u001b[39m\u001b[34m(self)\u001b[39m\n\u001b[32m    135\u001b[39m \u001b[38;5;28;01mdel\u001b[39;00m \u001b[38;5;28mself\u001b[39m.args, \u001b[38;5;28mself\u001b[39m.kwds, \u001b[38;5;28mself\u001b[39m.func\n\u001b[32m    136\u001b[39m \u001b[38;5;28;01mtry\u001b[39;00m:\n\u001b[32m--> \u001b[39m\u001b[32m137\u001b[39m     \u001b[38;5;28;01mreturn\u001b[39;00m \u001b[38;5;28;43mnext\u001b[39;49m\u001b[43m(\u001b[49m\u001b[38;5;28;43mself\u001b[39;49m\u001b[43m.\u001b[49m\u001b[43mgen\u001b[49m\u001b[43m)\u001b[49m\n\u001b[32m    138\u001b[39m \u001b[38;5;28;01mexcept\u001b[39;00m \u001b[38;5;167;01mStopIteration\u001b[39;00m:\n\u001b[32m    139\u001b[39m     \u001b[38;5;28;01mraise\u001b[39;00m \u001b[38;5;167;01mRuntimeError\u001b[39;00m(\u001b[33m\"\u001b[39m\u001b[33mgenerator didn\u001b[39m\u001b[33m'\u001b[39m\u001b[33mt yield\u001b[39m\u001b[33m\"\u001b[39m) \u001b[38;5;28;01mfrom\u001b[39;00m\u001b[38;5;250m \u001b[39m\u001b[38;5;28;01mNone\u001b[39;00m\n",
      "\u001b[36mFile \u001b[39m\u001b[32m~/Documents/TenMS_Solution/venv/lib/python3.12/site-packages/httpx/_client.py:868\u001b[39m, in \u001b[36mClient.stream\u001b[39m\u001b[34m(self, method, url, content, data, files, json, params, headers, cookies, auth, follow_redirects, timeout, extensions)\u001b[39m\n\u001b[32m    845\u001b[39m \u001b[38;5;250m\u001b[39m\u001b[33;03m\"\"\"\u001b[39;00m\n\u001b[32m    846\u001b[39m \u001b[33;03mAlternative to `httpx.request()` that streams the response body\u001b[39;00m\n\u001b[32m    847\u001b[39m \u001b[33;03minstead of loading it into memory at once.\u001b[39;00m\n\u001b[32m   (...)\u001b[39m\u001b[32m    853\u001b[39m \u001b[33;03m[0]: /quickstart#streaming-responses\u001b[39;00m\n\u001b[32m    854\u001b[39m \u001b[33;03m\"\"\"\u001b[39;00m\n\u001b[32m    855\u001b[39m request = \u001b[38;5;28mself\u001b[39m.build_request(\n\u001b[32m    856\u001b[39m     method=method,\n\u001b[32m    857\u001b[39m     url=url,\n\u001b[32m   (...)\u001b[39m\u001b[32m    866\u001b[39m     extensions=extensions,\n\u001b[32m    867\u001b[39m )\n\u001b[32m--> \u001b[39m\u001b[32m868\u001b[39m response = \u001b[38;5;28;43mself\u001b[39;49m\u001b[43m.\u001b[49m\u001b[43msend\u001b[49m\u001b[43m(\u001b[49m\n\u001b[32m    869\u001b[39m \u001b[43m    \u001b[49m\u001b[43mrequest\u001b[49m\u001b[43m=\u001b[49m\u001b[43mrequest\u001b[49m\u001b[43m,\u001b[49m\n\u001b[32m    870\u001b[39m \u001b[43m    \u001b[49m\u001b[43mauth\u001b[49m\u001b[43m=\u001b[49m\u001b[43mauth\u001b[49m\u001b[43m,\u001b[49m\n\u001b[32m    871\u001b[39m \u001b[43m    \u001b[49m\u001b[43mfollow_redirects\u001b[49m\u001b[43m=\u001b[49m\u001b[43mfollow_redirects\u001b[49m\u001b[43m,\u001b[49m\n\u001b[32m    872\u001b[39m \u001b[43m    \u001b[49m\u001b[43mstream\u001b[49m\u001b[43m=\u001b[49m\u001b[38;5;28;43;01mTrue\u001b[39;49;00m\u001b[43m,\u001b[49m\n\u001b[32m    873\u001b[39m \u001b[43m\u001b[49m\u001b[43m)\u001b[49m\n\u001b[32m    874\u001b[39m \u001b[38;5;28;01mtry\u001b[39;00m:\n\u001b[32m    875\u001b[39m     \u001b[38;5;28;01myield\u001b[39;00m response\n",
      "\u001b[36mFile \u001b[39m\u001b[32m~/Documents/TenMS_Solution/venv/lib/python3.12/site-packages/httpx/_client.py:914\u001b[39m, in \u001b[36mClient.send\u001b[39m\u001b[34m(self, request, stream, auth, follow_redirects)\u001b[39m\n\u001b[32m    910\u001b[39m \u001b[38;5;28mself\u001b[39m._set_timeout(request)\n\u001b[32m    912\u001b[39m auth = \u001b[38;5;28mself\u001b[39m._build_request_auth(request, auth)\n\u001b[32m--> \u001b[39m\u001b[32m914\u001b[39m response = \u001b[38;5;28;43mself\u001b[39;49m\u001b[43m.\u001b[49m\u001b[43m_send_handling_auth\u001b[49m\u001b[43m(\u001b[49m\n\u001b[32m    915\u001b[39m \u001b[43m    \u001b[49m\u001b[43mrequest\u001b[49m\u001b[43m,\u001b[49m\n\u001b[32m    916\u001b[39m \u001b[43m    \u001b[49m\u001b[43mauth\u001b[49m\u001b[43m=\u001b[49m\u001b[43mauth\u001b[49m\u001b[43m,\u001b[49m\n\u001b[32m    917\u001b[39m \u001b[43m    \u001b[49m\u001b[43mfollow_redirects\u001b[49m\u001b[43m=\u001b[49m\u001b[43mfollow_redirects\u001b[49m\u001b[43m,\u001b[49m\n\u001b[32m    918\u001b[39m \u001b[43m    \u001b[49m\u001b[43mhistory\u001b[49m\u001b[43m=\u001b[49m\u001b[43m[\u001b[49m\u001b[43m]\u001b[49m\u001b[43m,\u001b[49m\n\u001b[32m    919\u001b[39m \u001b[43m\u001b[49m\u001b[43m)\u001b[49m\n\u001b[32m    920\u001b[39m \u001b[38;5;28;01mtry\u001b[39;00m:\n\u001b[32m    921\u001b[39m     \u001b[38;5;28;01mif\u001b[39;00m \u001b[38;5;129;01mnot\u001b[39;00m stream:\n",
      "\u001b[36mFile \u001b[39m\u001b[32m~/Documents/TenMS_Solution/venv/lib/python3.12/site-packages/httpx/_client.py:942\u001b[39m, in \u001b[36mClient._send_handling_auth\u001b[39m\u001b[34m(self, request, auth, follow_redirects, history)\u001b[39m\n\u001b[32m    939\u001b[39m request = \u001b[38;5;28mnext\u001b[39m(auth_flow)\n\u001b[32m    941\u001b[39m \u001b[38;5;28;01mwhile\u001b[39;00m \u001b[38;5;28;01mTrue\u001b[39;00m:\n\u001b[32m--> \u001b[39m\u001b[32m942\u001b[39m     response = \u001b[38;5;28;43mself\u001b[39;49m\u001b[43m.\u001b[49m\u001b[43m_send_handling_redirects\u001b[49m\u001b[43m(\u001b[49m\n\u001b[32m    943\u001b[39m \u001b[43m        \u001b[49m\u001b[43mrequest\u001b[49m\u001b[43m,\u001b[49m\n\u001b[32m    944\u001b[39m \u001b[43m        \u001b[49m\u001b[43mfollow_redirects\u001b[49m\u001b[43m=\u001b[49m\u001b[43mfollow_redirects\u001b[49m\u001b[43m,\u001b[49m\n\u001b[32m    945\u001b[39m \u001b[43m        \u001b[49m\u001b[43mhistory\u001b[49m\u001b[43m=\u001b[49m\u001b[43mhistory\u001b[49m\u001b[43m,\u001b[49m\n\u001b[32m    946\u001b[39m \u001b[43m    \u001b[49m\u001b[43m)\u001b[49m\n\u001b[32m    947\u001b[39m     \u001b[38;5;28;01mtry\u001b[39;00m:\n\u001b[32m    948\u001b[39m         \u001b[38;5;28;01mtry\u001b[39;00m:\n",
      "\u001b[36mFile \u001b[39m\u001b[32m~/Documents/TenMS_Solution/venv/lib/python3.12/site-packages/httpx/_client.py:979\u001b[39m, in \u001b[36mClient._send_handling_redirects\u001b[39m\u001b[34m(self, request, follow_redirects, history)\u001b[39m\n\u001b[32m    976\u001b[39m \u001b[38;5;28;01mfor\u001b[39;00m hook \u001b[38;5;129;01min\u001b[39;00m \u001b[38;5;28mself\u001b[39m._event_hooks[\u001b[33m\"\u001b[39m\u001b[33mrequest\u001b[39m\u001b[33m\"\u001b[39m]:\n\u001b[32m    977\u001b[39m     hook(request)\n\u001b[32m--> \u001b[39m\u001b[32m979\u001b[39m response = \u001b[38;5;28;43mself\u001b[39;49m\u001b[43m.\u001b[49m\u001b[43m_send_single_request\u001b[49m\u001b[43m(\u001b[49m\u001b[43mrequest\u001b[49m\u001b[43m)\u001b[49m\n\u001b[32m    980\u001b[39m \u001b[38;5;28;01mtry\u001b[39;00m:\n\u001b[32m    981\u001b[39m     \u001b[38;5;28;01mfor\u001b[39;00m hook \u001b[38;5;129;01min\u001b[39;00m \u001b[38;5;28mself\u001b[39m._event_hooks[\u001b[33m\"\u001b[39m\u001b[33mresponse\u001b[39m\u001b[33m\"\u001b[39m]:\n",
      "\u001b[36mFile \u001b[39m\u001b[32m~/Documents/TenMS_Solution/venv/lib/python3.12/site-packages/httpx/_client.py:1014\u001b[39m, in \u001b[36mClient._send_single_request\u001b[39m\u001b[34m(self, request)\u001b[39m\n\u001b[32m   1009\u001b[39m     \u001b[38;5;28;01mraise\u001b[39;00m \u001b[38;5;167;01mRuntimeError\u001b[39;00m(\n\u001b[32m   1010\u001b[39m         \u001b[33m\"\u001b[39m\u001b[33mAttempted to send an async request with a sync Client instance.\u001b[39m\u001b[33m\"\u001b[39m\n\u001b[32m   1011\u001b[39m     )\n\u001b[32m   1013\u001b[39m \u001b[38;5;28;01mwith\u001b[39;00m request_context(request=request):\n\u001b[32m-> \u001b[39m\u001b[32m1014\u001b[39m     response = \u001b[43mtransport\u001b[49m\u001b[43m.\u001b[49m\u001b[43mhandle_request\u001b[49m\u001b[43m(\u001b[49m\u001b[43mrequest\u001b[49m\u001b[43m)\u001b[49m\n\u001b[32m   1016\u001b[39m \u001b[38;5;28;01massert\u001b[39;00m \u001b[38;5;28misinstance\u001b[39m(response.stream, SyncByteStream)\n\u001b[32m   1018\u001b[39m response.request = request\n",
      "\u001b[36mFile \u001b[39m\u001b[32m~/Documents/TenMS_Solution/venv/lib/python3.12/site-packages/httpx/_transports/default.py:250\u001b[39m, in \u001b[36mHTTPTransport.handle_request\u001b[39m\u001b[34m(self, request)\u001b[39m\n\u001b[32m    237\u001b[39m req = httpcore.Request(\n\u001b[32m    238\u001b[39m     method=request.method,\n\u001b[32m    239\u001b[39m     url=httpcore.URL(\n\u001b[32m   (...)\u001b[39m\u001b[32m    247\u001b[39m     extensions=request.extensions,\n\u001b[32m    248\u001b[39m )\n\u001b[32m    249\u001b[39m \u001b[38;5;28;01mwith\u001b[39;00m map_httpcore_exceptions():\n\u001b[32m--> \u001b[39m\u001b[32m250\u001b[39m     resp = \u001b[38;5;28;43mself\u001b[39;49m\u001b[43m.\u001b[49m\u001b[43m_pool\u001b[49m\u001b[43m.\u001b[49m\u001b[43mhandle_request\u001b[49m\u001b[43m(\u001b[49m\u001b[43mreq\u001b[49m\u001b[43m)\u001b[49m\n\u001b[32m    252\u001b[39m \u001b[38;5;28;01massert\u001b[39;00m \u001b[38;5;28misinstance\u001b[39m(resp.stream, typing.Iterable)\n\u001b[32m    254\u001b[39m \u001b[38;5;28;01mreturn\u001b[39;00m Response(\n\u001b[32m    255\u001b[39m     status_code=resp.status,\n\u001b[32m    256\u001b[39m     headers=resp.headers,\n\u001b[32m    257\u001b[39m     stream=ResponseStream(resp.stream),\n\u001b[32m    258\u001b[39m     extensions=resp.extensions,\n\u001b[32m    259\u001b[39m )\n",
      "\u001b[36mFile \u001b[39m\u001b[32m~/Documents/TenMS_Solution/venv/lib/python3.12/site-packages/httpcore/_sync/connection_pool.py:256\u001b[39m, in \u001b[36mConnectionPool.handle_request\u001b[39m\u001b[34m(self, request)\u001b[39m\n\u001b[32m    253\u001b[39m         closing = \u001b[38;5;28mself\u001b[39m._assign_requests_to_connections()\n\u001b[32m    255\u001b[39m     \u001b[38;5;28mself\u001b[39m._close_connections(closing)\n\u001b[32m--> \u001b[39m\u001b[32m256\u001b[39m     \u001b[38;5;28;01mraise\u001b[39;00m exc \u001b[38;5;28;01mfrom\u001b[39;00m\u001b[38;5;250m \u001b[39m\u001b[38;5;28;01mNone\u001b[39;00m\n\u001b[32m    258\u001b[39m \u001b[38;5;66;03m# Return the response. Note that in this case we still have to manage\u001b[39;00m\n\u001b[32m    259\u001b[39m \u001b[38;5;66;03m# the point at which the response is closed.\u001b[39;00m\n\u001b[32m    260\u001b[39m \u001b[38;5;28;01massert\u001b[39;00m \u001b[38;5;28misinstance\u001b[39m(response.stream, typing.Iterable)\n",
      "\u001b[36mFile \u001b[39m\u001b[32m~/Documents/TenMS_Solution/venv/lib/python3.12/site-packages/httpcore/_sync/connection_pool.py:236\u001b[39m, in \u001b[36mConnectionPool.handle_request\u001b[39m\u001b[34m(self, request)\u001b[39m\n\u001b[32m    232\u001b[39m connection = pool_request.wait_for_connection(timeout=timeout)\n\u001b[32m    234\u001b[39m \u001b[38;5;28;01mtry\u001b[39;00m:\n\u001b[32m    235\u001b[39m     \u001b[38;5;66;03m# Send the request on the assigned connection.\u001b[39;00m\n\u001b[32m--> \u001b[39m\u001b[32m236\u001b[39m     response = \u001b[43mconnection\u001b[49m\u001b[43m.\u001b[49m\u001b[43mhandle_request\u001b[49m\u001b[43m(\u001b[49m\n\u001b[32m    237\u001b[39m \u001b[43m        \u001b[49m\u001b[43mpool_request\u001b[49m\u001b[43m.\u001b[49m\u001b[43mrequest\u001b[49m\n\u001b[32m    238\u001b[39m \u001b[43m    \u001b[49m\u001b[43m)\u001b[49m\n\u001b[32m    239\u001b[39m \u001b[38;5;28;01mexcept\u001b[39;00m ConnectionNotAvailable:\n\u001b[32m    240\u001b[39m     \u001b[38;5;66;03m# In some cases a connection may initially be available to\u001b[39;00m\n\u001b[32m    241\u001b[39m     \u001b[38;5;66;03m# handle a request, but then become unavailable.\u001b[39;00m\n\u001b[32m    242\u001b[39m     \u001b[38;5;66;03m#\u001b[39;00m\n\u001b[32m    243\u001b[39m     \u001b[38;5;66;03m# In this case we clear the connection and try again.\u001b[39;00m\n\u001b[32m    244\u001b[39m     pool_request.clear_connection()\n",
      "\u001b[36mFile \u001b[39m\u001b[32m~/Documents/TenMS_Solution/venv/lib/python3.12/site-packages/httpcore/_sync/connection.py:103\u001b[39m, in \u001b[36mHTTPConnection.handle_request\u001b[39m\u001b[34m(self, request)\u001b[39m\n\u001b[32m    100\u001b[39m     \u001b[38;5;28mself\u001b[39m._connect_failed = \u001b[38;5;28;01mTrue\u001b[39;00m\n\u001b[32m    101\u001b[39m     \u001b[38;5;28;01mraise\u001b[39;00m exc\n\u001b[32m--> \u001b[39m\u001b[32m103\u001b[39m \u001b[38;5;28;01mreturn\u001b[39;00m \u001b[38;5;28;43mself\u001b[39;49m\u001b[43m.\u001b[49m\u001b[43m_connection\u001b[49m\u001b[43m.\u001b[49m\u001b[43mhandle_request\u001b[49m\u001b[43m(\u001b[49m\u001b[43mrequest\u001b[49m\u001b[43m)\u001b[49m\n",
      "\u001b[36mFile \u001b[39m\u001b[32m~/Documents/TenMS_Solution/venv/lib/python3.12/site-packages/httpcore/_sync/http11.py:136\u001b[39m, in \u001b[36mHTTP11Connection.handle_request\u001b[39m\u001b[34m(self, request)\u001b[39m\n\u001b[32m    134\u001b[39m     \u001b[38;5;28;01mwith\u001b[39;00m Trace(\u001b[33m\"\u001b[39m\u001b[33mresponse_closed\u001b[39m\u001b[33m\"\u001b[39m, logger, request) \u001b[38;5;28;01mas\u001b[39;00m trace:\n\u001b[32m    135\u001b[39m         \u001b[38;5;28mself\u001b[39m._response_closed()\n\u001b[32m--> \u001b[39m\u001b[32m136\u001b[39m \u001b[38;5;28;01mraise\u001b[39;00m exc\n",
      "\u001b[36mFile \u001b[39m\u001b[32m~/Documents/TenMS_Solution/venv/lib/python3.12/site-packages/httpcore/_sync/http11.py:106\u001b[39m, in \u001b[36mHTTP11Connection.handle_request\u001b[39m\u001b[34m(self, request)\u001b[39m\n\u001b[32m     95\u001b[39m     \u001b[38;5;28;01mpass\u001b[39;00m\n\u001b[32m     97\u001b[39m \u001b[38;5;28;01mwith\u001b[39;00m Trace(\n\u001b[32m     98\u001b[39m     \u001b[33m\"\u001b[39m\u001b[33mreceive_response_headers\u001b[39m\u001b[33m\"\u001b[39m, logger, request, kwargs\n\u001b[32m     99\u001b[39m ) \u001b[38;5;28;01mas\u001b[39;00m trace:\n\u001b[32m    100\u001b[39m     (\n\u001b[32m    101\u001b[39m         http_version,\n\u001b[32m    102\u001b[39m         status,\n\u001b[32m    103\u001b[39m         reason_phrase,\n\u001b[32m    104\u001b[39m         headers,\n\u001b[32m    105\u001b[39m         trailing_data,\n\u001b[32m--> \u001b[39m\u001b[32m106\u001b[39m     ) = \u001b[38;5;28;43mself\u001b[39;49m\u001b[43m.\u001b[49m\u001b[43m_receive_response_headers\u001b[49m\u001b[43m(\u001b[49m\u001b[43m*\u001b[49m\u001b[43m*\u001b[49m\u001b[43mkwargs\u001b[49m\u001b[43m)\u001b[49m\n\u001b[32m    107\u001b[39m     trace.return_value = (\n\u001b[32m    108\u001b[39m         http_version,\n\u001b[32m    109\u001b[39m         status,\n\u001b[32m    110\u001b[39m         reason_phrase,\n\u001b[32m    111\u001b[39m         headers,\n\u001b[32m    112\u001b[39m     )\n\u001b[32m    114\u001b[39m network_stream = \u001b[38;5;28mself\u001b[39m._network_stream\n",
      "\u001b[36mFile \u001b[39m\u001b[32m~/Documents/TenMS_Solution/venv/lib/python3.12/site-packages/httpcore/_sync/http11.py:177\u001b[39m, in \u001b[36mHTTP11Connection._receive_response_headers\u001b[39m\u001b[34m(self, request)\u001b[39m\n\u001b[32m    174\u001b[39m timeout = timeouts.get(\u001b[33m\"\u001b[39m\u001b[33mread\u001b[39m\u001b[33m\"\u001b[39m, \u001b[38;5;28;01mNone\u001b[39;00m)\n\u001b[32m    176\u001b[39m \u001b[38;5;28;01mwhile\u001b[39;00m \u001b[38;5;28;01mTrue\u001b[39;00m:\n\u001b[32m--> \u001b[39m\u001b[32m177\u001b[39m     event = \u001b[38;5;28;43mself\u001b[39;49m\u001b[43m.\u001b[49m\u001b[43m_receive_event\u001b[49m\u001b[43m(\u001b[49m\u001b[43mtimeout\u001b[49m\u001b[43m=\u001b[49m\u001b[43mtimeout\u001b[49m\u001b[43m)\u001b[49m\n\u001b[32m    178\u001b[39m     \u001b[38;5;28;01mif\u001b[39;00m \u001b[38;5;28misinstance\u001b[39m(event, h11.Response):\n\u001b[32m    179\u001b[39m         \u001b[38;5;28;01mbreak\u001b[39;00m\n",
      "\u001b[36mFile \u001b[39m\u001b[32m~/Documents/TenMS_Solution/venv/lib/python3.12/site-packages/httpcore/_sync/http11.py:217\u001b[39m, in \u001b[36mHTTP11Connection._receive_event\u001b[39m\u001b[34m(self, timeout)\u001b[39m\n\u001b[32m    214\u001b[39m     event = \u001b[38;5;28mself\u001b[39m._h11_state.next_event()\n\u001b[32m    216\u001b[39m \u001b[38;5;28;01mif\u001b[39;00m event \u001b[38;5;129;01mis\u001b[39;00m h11.NEED_DATA:\n\u001b[32m--> \u001b[39m\u001b[32m217\u001b[39m     data = \u001b[38;5;28;43mself\u001b[39;49m\u001b[43m.\u001b[49m\u001b[43m_network_stream\u001b[49m\u001b[43m.\u001b[49m\u001b[43mread\u001b[49m\u001b[43m(\u001b[49m\n\u001b[32m    218\u001b[39m \u001b[43m        \u001b[49m\u001b[38;5;28;43mself\u001b[39;49m\u001b[43m.\u001b[49m\u001b[43mREAD_NUM_BYTES\u001b[49m\u001b[43m,\u001b[49m\u001b[43m \u001b[49m\u001b[43mtimeout\u001b[49m\u001b[43m=\u001b[49m\u001b[43mtimeout\u001b[49m\n\u001b[32m    219\u001b[39m \u001b[43m    \u001b[49m\u001b[43m)\u001b[49m\n\u001b[32m    221\u001b[39m     \u001b[38;5;66;03m# If we feed this case through h11 we'll raise an exception like:\u001b[39;00m\n\u001b[32m    222\u001b[39m     \u001b[38;5;66;03m#\u001b[39;00m\n\u001b[32m    223\u001b[39m     \u001b[38;5;66;03m#     httpcore.RemoteProtocolError: can't handle event type\u001b[39;00m\n\u001b[32m   (...)\u001b[39m\u001b[32m    227\u001b[39m     \u001b[38;5;66;03m# perspective. Instead we handle this case distinctly and treat\u001b[39;00m\n\u001b[32m    228\u001b[39m     \u001b[38;5;66;03m# it as a ConnectError.\u001b[39;00m\n\u001b[32m    229\u001b[39m     \u001b[38;5;28;01mif\u001b[39;00m data == \u001b[33mb\u001b[39m\u001b[33m\"\u001b[39m\u001b[33m\"\u001b[39m \u001b[38;5;129;01mand\u001b[39;00m \u001b[38;5;28mself\u001b[39m._h11_state.their_state == h11.SEND_RESPONSE:\n",
      "\u001b[36mFile \u001b[39m\u001b[32m~/Documents/TenMS_Solution/venv/lib/python3.12/site-packages/httpcore/_backends/sync.py:128\u001b[39m, in \u001b[36mSyncStream.read\u001b[39m\u001b[34m(self, max_bytes, timeout)\u001b[39m\n\u001b[32m    126\u001b[39m \u001b[38;5;28;01mwith\u001b[39;00m map_exceptions(exc_map):\n\u001b[32m    127\u001b[39m     \u001b[38;5;28mself\u001b[39m._sock.settimeout(timeout)\n\u001b[32m--> \u001b[39m\u001b[32m128\u001b[39m     \u001b[38;5;28;01mreturn\u001b[39;00m \u001b[38;5;28;43mself\u001b[39;49m\u001b[43m.\u001b[49m\u001b[43m_sock\u001b[49m\u001b[43m.\u001b[49m\u001b[43mrecv\u001b[49m\u001b[43m(\u001b[49m\u001b[43mmax_bytes\u001b[49m\u001b[43m)\u001b[49m\n",
      "\u001b[36mFile \u001b[39m\u001b[32m/opt/anaconda3/lib/python3.12/ssl.py:1232\u001b[39m, in \u001b[36mSSLSocket.recv\u001b[39m\u001b[34m(self, buflen, flags)\u001b[39m\n\u001b[32m   1228\u001b[39m     \u001b[38;5;28;01mif\u001b[39;00m flags != \u001b[32m0\u001b[39m:\n\u001b[32m   1229\u001b[39m         \u001b[38;5;28;01mraise\u001b[39;00m \u001b[38;5;167;01mValueError\u001b[39;00m(\n\u001b[32m   1230\u001b[39m             \u001b[33m\"\u001b[39m\u001b[33mnon-zero flags not allowed in calls to recv() on \u001b[39m\u001b[38;5;132;01m%s\u001b[39;00m\u001b[33m\"\u001b[39m %\n\u001b[32m   1231\u001b[39m             \u001b[38;5;28mself\u001b[39m.\u001b[34m__class__\u001b[39m)\n\u001b[32m-> \u001b[39m\u001b[32m1232\u001b[39m     \u001b[38;5;28;01mreturn\u001b[39;00m \u001b[38;5;28;43mself\u001b[39;49m\u001b[43m.\u001b[49m\u001b[43mread\u001b[49m\u001b[43m(\u001b[49m\u001b[43mbuflen\u001b[49m\u001b[43m)\u001b[49m\n\u001b[32m   1233\u001b[39m \u001b[38;5;28;01melse\u001b[39;00m:\n\u001b[32m   1234\u001b[39m     \u001b[38;5;28;01mreturn\u001b[39;00m \u001b[38;5;28msuper\u001b[39m().recv(buflen, flags)\n",
      "\u001b[36mFile \u001b[39m\u001b[32m/opt/anaconda3/lib/python3.12/ssl.py:1105\u001b[39m, in \u001b[36mSSLSocket.read\u001b[39m\u001b[34m(self, len, buffer)\u001b[39m\n\u001b[32m   1103\u001b[39m         \u001b[38;5;28;01mreturn\u001b[39;00m \u001b[38;5;28mself\u001b[39m._sslobj.read(\u001b[38;5;28mlen\u001b[39m, buffer)\n\u001b[32m   1104\u001b[39m     \u001b[38;5;28;01melse\u001b[39;00m:\n\u001b[32m-> \u001b[39m\u001b[32m1105\u001b[39m         \u001b[38;5;28;01mreturn\u001b[39;00m \u001b[38;5;28;43mself\u001b[39;49m\u001b[43m.\u001b[49m\u001b[43m_sslobj\u001b[49m\u001b[43m.\u001b[49m\u001b[43mread\u001b[49m\u001b[43m(\u001b[49m\u001b[38;5;28;43mlen\u001b[39;49m\u001b[43m)\u001b[49m\n\u001b[32m   1106\u001b[39m \u001b[38;5;28;01mexcept\u001b[39;00m SSLError \u001b[38;5;28;01mas\u001b[39;00m x:\n\u001b[32m   1107\u001b[39m     \u001b[38;5;28;01mif\u001b[39;00m x.args[\u001b[32m0\u001b[39m] == SSL_ERROR_EOF \u001b[38;5;129;01mand\u001b[39;00m \u001b[38;5;28mself\u001b[39m.suppress_ragged_eofs:\n",
      "\u001b[31mKeyboardInterrupt\u001b[39m: "
     ]
    }
   ],
   "source": [
    "rag_chat_with_memory(query=\"বিয়ের সময় কল্যাণীর প্রকৃত বয়স কত ছিল?\", llm=llm_command_r) "
   ]
  },
  {
   "cell_type": "code",
   "execution_count": 333,
   "id": "fd371883",
   "metadata": {},
   "outputs": [
    {
     "data": {
      "text/plain": [
       "[AIMessage(content='প্রশ্নের উত্তরের জন্য প্রদত্ত তথ্যসূত্রে সরাসরি কোনো উল্লেখ নেই।'),\n",
       " HumanMessage(content='বিয়ের সময় কল্যাণীর প্রকৃত বয়স কত ছিল?'),\n",
       " AIMessage(content='তথ্যসূত্রে কল্যাণীর প্রকৃত বয়স সরাসরি উল্লিখিত নেই।'),\n",
       " HumanMessage(content='বিয়ের সময় কল্যাণীর প্রকৃত বয়স কত ছিল?')]"
      ]
     },
     "execution_count": 333,
     "metadata": {},
     "output_type": "execute_result"
    }
   ],
   "source": [
    "memory.chat_memory.messages[-4:]  # Show last 2 messages in memory"
   ]
  },
  {
   "cell_type": "code",
   "execution_count": 341,
   "id": "ef67351b",
   "metadata": {},
   "outputs": [
    {
     "name": "stdout",
     "output_type": "stream",
     "text": [
      "{\"timestamp\":\"2025-07-25T18:06:52.101285Z\",\"level\":\"WARN\",\"fields\":{\"message\":\"Reqwest(reqwest::Error { kind: Request, source: hyper_util::client::legacy::Error(SendRequest, hyper::Error(IncompleteMessage)) }). Retrying...\"},\"filename\":\"/Users/runner/work/xet-core/xet-core/cas_client/src/http_client.rs\",\"line_number\":242}\n",
      "{\"timestamp\":\"2025-07-25T18:06:52.101412Z\",\"level\":\"WARN\",\"fields\":{\"message\":\"Retry attempt #0. Sleeping 1.27884763s before the next attempt\"},\"filename\":\"/Users/runner/.cargo/registry/src/index.crates.io-1949cf8c6b5b557f/reqwest-retry-0.7.0/src/middleware.rs\",\"line_number\":171}\n"
     ]
    },
    {
     "name": "stderr",
     "output_type": "stream",
     "text": [
      "Cancellation requested; stopping current tasks.\n"
     ]
    },
    {
     "ename": "KeyboardInterrupt",
     "evalue": "",
     "output_type": "error",
     "traceback": [
      "\u001b[31m---------------------------------------------------------------------------\u001b[39m",
      "\u001b[31mKeyboardInterrupt\u001b[39m                         Traceback (most recent call last)",
      "\u001b[36mFile \u001b[39m\u001b[32m~/Documents/TenMS_Solution/venv/lib/python3.12/site-packages/huggingface_hub/file_download.py:627\u001b[39m, in \u001b[36mxet_get\u001b[39m\u001b[34m(incomplete_path, xet_file_data, headers, expected_size, displayed_filename, _tqdm_bar)\u001b[39m\n\u001b[32m    625\u001b[39m     progress.update(progress_bytes)\n\u001b[32m--> \u001b[39m\u001b[32m627\u001b[39m \u001b[43mdownload_files\u001b[49m\u001b[43m(\u001b[49m\n\u001b[32m    628\u001b[39m \u001b[43m    \u001b[49m\u001b[43mxet_download_info\u001b[49m\u001b[43m,\u001b[49m\n\u001b[32m    629\u001b[39m \u001b[43m    \u001b[49m\u001b[43mendpoint\u001b[49m\u001b[43m=\u001b[49m\u001b[43mconnection_info\u001b[49m\u001b[43m.\u001b[49m\u001b[43mendpoint\u001b[49m\u001b[43m,\u001b[49m\n\u001b[32m    630\u001b[39m \u001b[43m    \u001b[49m\u001b[43mtoken_info\u001b[49m\u001b[43m=\u001b[49m\u001b[43m(\u001b[49m\u001b[43mconnection_info\u001b[49m\u001b[43m.\u001b[49m\u001b[43maccess_token\u001b[49m\u001b[43m,\u001b[49m\u001b[43m \u001b[49m\u001b[43mconnection_info\u001b[49m\u001b[43m.\u001b[49m\u001b[43mexpiration_unix_epoch\u001b[49m\u001b[43m)\u001b[49m\u001b[43m,\u001b[49m\n\u001b[32m    631\u001b[39m \u001b[43m    \u001b[49m\u001b[43mtoken_refresher\u001b[49m\u001b[43m=\u001b[49m\u001b[43mtoken_refresher\u001b[49m\u001b[43m,\u001b[49m\n\u001b[32m    632\u001b[39m \u001b[43m    \u001b[49m\u001b[43mprogress_updater\u001b[49m\u001b[43m=\u001b[49m\u001b[43m[\u001b[49m\u001b[43mprogress_updater\u001b[49m\u001b[43m]\u001b[49m\u001b[43m,\u001b[49m\n\u001b[32m    633\u001b[39m \u001b[43m\u001b[49m\u001b[43m)\u001b[49m\n",
      "\u001b[31mKeyboardInterrupt\u001b[39m: ",
      "\nDuring handling of the above exception, another exception occurred:\n",
      "\u001b[31mKeyboardInterrupt\u001b[39m                         Traceback (most recent call last)",
      "\u001b[36mCell\u001b[39m\u001b[36m \u001b[39m\u001b[32mIn[341]\u001b[39m\u001b[32m, line 7\u001b[39m\n\u001b[32m      5\u001b[39m model_id = \u001b[33m\"\u001b[39m\u001b[33mQwen/Qwen1.5-1.8B-Chat\u001b[39m\u001b[33m\"\u001b[39m  \u001b[38;5;66;03m# or \"google/gemma-2b\"\u001b[39;00m\n\u001b[32m      6\u001b[39m tokenizer = AutoTokenizer.from_pretrained(model_id)\n\u001b[32m----> \u001b[39m\u001b[32m7\u001b[39m model = \u001b[43mAutoModelForCausalLM\u001b[49m\u001b[43m.\u001b[49m\u001b[43mfrom_pretrained\u001b[49m\u001b[43m(\u001b[49m\u001b[43mmodel_id\u001b[49m\u001b[43m)\u001b[49m\n\u001b[32m      9\u001b[39m \u001b[38;5;66;03m# Create a text generation pipeline\u001b[39;00m\n\u001b[32m     10\u001b[39m pipe = pipeline(\u001b[33m\"\u001b[39m\u001b[33mtext-generation\u001b[39m\u001b[33m\"\u001b[39m, model=model, tokenizer=tokenizer, max_new_tokens=\u001b[32m512\u001b[39m)\n",
      "\u001b[36mFile \u001b[39m\u001b[32m~/Documents/TenMS_Solution/venv/lib/python3.12/site-packages/transformers/models/auto/auto_factory.py:600\u001b[39m, in \u001b[36m_BaseAutoModelClass.from_pretrained\u001b[39m\u001b[34m(cls, pretrained_model_name_or_path, *model_args, **kwargs)\u001b[39m\n\u001b[32m    598\u001b[39m     \u001b[38;5;28;01mif\u001b[39;00m model_class.config_class == config.sub_configs.get(\u001b[33m\"\u001b[39m\u001b[33mtext_config\u001b[39m\u001b[33m\"\u001b[39m, \u001b[38;5;28;01mNone\u001b[39;00m):\n\u001b[32m    599\u001b[39m         config = config.get_text_config()\n\u001b[32m--> \u001b[39m\u001b[32m600\u001b[39m     \u001b[38;5;28;01mreturn\u001b[39;00m \u001b[43mmodel_class\u001b[49m\u001b[43m.\u001b[49m\u001b[43mfrom_pretrained\u001b[49m\u001b[43m(\u001b[49m\n\u001b[32m    601\u001b[39m \u001b[43m        \u001b[49m\u001b[43mpretrained_model_name_or_path\u001b[49m\u001b[43m,\u001b[49m\u001b[43m \u001b[49m\u001b[43m*\u001b[49m\u001b[43mmodel_args\u001b[49m\u001b[43m,\u001b[49m\u001b[43m \u001b[49m\u001b[43mconfig\u001b[49m\u001b[43m=\u001b[49m\u001b[43mconfig\u001b[49m\u001b[43m,\u001b[49m\u001b[43m \u001b[49m\u001b[43m*\u001b[49m\u001b[43m*\u001b[49m\u001b[43mhub_kwargs\u001b[49m\u001b[43m,\u001b[49m\u001b[43m \u001b[49m\u001b[43m*\u001b[49m\u001b[43m*\u001b[49m\u001b[43mkwargs\u001b[49m\n\u001b[32m    602\u001b[39m \u001b[43m    \u001b[49m\u001b[43m)\u001b[49m\n\u001b[32m    603\u001b[39m \u001b[38;5;28;01mraise\u001b[39;00m \u001b[38;5;167;01mValueError\u001b[39;00m(\n\u001b[32m    604\u001b[39m     \u001b[33mf\u001b[39m\u001b[33m\"\u001b[39m\u001b[33mUnrecognized configuration class \u001b[39m\u001b[38;5;132;01m{\u001b[39;00mconfig.\u001b[34m__class__\u001b[39m\u001b[38;5;132;01m}\u001b[39;00m\u001b[33m for this kind of AutoModel: \u001b[39m\u001b[38;5;132;01m{\u001b[39;00m\u001b[38;5;28mcls\u001b[39m.\u001b[34m__name__\u001b[39m\u001b[38;5;132;01m}\u001b[39;00m\u001b[33m.\u001b[39m\u001b[38;5;130;01m\\n\u001b[39;00m\u001b[33m\"\u001b[39m\n\u001b[32m    605\u001b[39m     \u001b[33mf\u001b[39m\u001b[33m\"\u001b[39m\u001b[33mModel type should be one of \u001b[39m\u001b[38;5;132;01m{\u001b[39;00m\u001b[33m'\u001b[39m\u001b[33m, \u001b[39m\u001b[33m'\u001b[39m.join(c.\u001b[34m__name__\u001b[39m\u001b[38;5;250m \u001b[39m\u001b[38;5;28;01mfor\u001b[39;00m\u001b[38;5;250m \u001b[39mc\u001b[38;5;250m \u001b[39m\u001b[38;5;129;01min\u001b[39;00m\u001b[38;5;250m \u001b[39m\u001b[38;5;28mcls\u001b[39m._model_mapping.keys())\u001b[38;5;132;01m}\u001b[39;00m\u001b[33m.\u001b[39m\u001b[33m\"\u001b[39m\n\u001b[32m    606\u001b[39m )\n",
      "\u001b[36mFile \u001b[39m\u001b[32m~/Documents/TenMS_Solution/venv/lib/python3.12/site-packages/transformers/modeling_utils.py:311\u001b[39m, in \u001b[36mrestore_default_torch_dtype.<locals>._wrapper\u001b[39m\u001b[34m(*args, **kwargs)\u001b[39m\n\u001b[32m    309\u001b[39m old_dtype = torch.get_default_dtype()\n\u001b[32m    310\u001b[39m \u001b[38;5;28;01mtry\u001b[39;00m:\n\u001b[32m--> \u001b[39m\u001b[32m311\u001b[39m     \u001b[38;5;28;01mreturn\u001b[39;00m \u001b[43mfunc\u001b[49m\u001b[43m(\u001b[49m\u001b[43m*\u001b[49m\u001b[43margs\u001b[49m\u001b[43m,\u001b[49m\u001b[43m \u001b[49m\u001b[43m*\u001b[49m\u001b[43m*\u001b[49m\u001b[43mkwargs\u001b[49m\u001b[43m)\u001b[49m\n\u001b[32m    312\u001b[39m \u001b[38;5;28;01mfinally\u001b[39;00m:\n\u001b[32m    313\u001b[39m     torch.set_default_dtype(old_dtype)\n",
      "\u001b[36mFile \u001b[39m\u001b[32m~/Documents/TenMS_Solution/venv/lib/python3.12/site-packages/transformers/modeling_utils.py:4680\u001b[39m, in \u001b[36mPreTrainedModel.from_pretrained\u001b[39m\u001b[34m(cls, pretrained_model_name_or_path, config, cache_dir, ignore_mismatched_sizes, force_download, local_files_only, token, revision, use_safetensors, weights_only, *model_args, **kwargs)\u001b[39m\n\u001b[32m   4670\u001b[39m \u001b[38;5;28;01mif\u001b[39;00m (\n\u001b[32m   4671\u001b[39m     gguf_file\n\u001b[32m   4672\u001b[39m     \u001b[38;5;129;01mand\u001b[39;00m device_map \u001b[38;5;129;01mis\u001b[39;00m \u001b[38;5;129;01mnot\u001b[39;00m \u001b[38;5;28;01mNone\u001b[39;00m\n\u001b[32m   4673\u001b[39m     \u001b[38;5;129;01mand\u001b[39;00m ((\u001b[38;5;28misinstance\u001b[39m(device_map, \u001b[38;5;28mdict\u001b[39m) \u001b[38;5;129;01mand\u001b[39;00m \u001b[33m\"\u001b[39m\u001b[33mdisk\u001b[39m\u001b[33m\"\u001b[39m \u001b[38;5;129;01min\u001b[39;00m device_map.values()) \u001b[38;5;129;01mor\u001b[39;00m \u001b[33m\"\u001b[39m\u001b[33mdisk\u001b[39m\u001b[33m\"\u001b[39m \u001b[38;5;129;01min\u001b[39;00m device_map)\n\u001b[32m   4674\u001b[39m ):\n\u001b[32m   4675\u001b[39m     \u001b[38;5;28;01mraise\u001b[39;00m \u001b[38;5;167;01mRuntimeError\u001b[39;00m(\n\u001b[32m   4676\u001b[39m         \u001b[33m\"\u001b[39m\u001b[33mOne or more modules is configured to be mapped to disk. Disk offload is not supported for models \u001b[39m\u001b[33m\"\u001b[39m\n\u001b[32m   4677\u001b[39m         \u001b[33m\"\u001b[39m\u001b[33mloaded from GGUF files.\u001b[39m\u001b[33m\"\u001b[39m\n\u001b[32m   4678\u001b[39m     )\n\u001b[32m-> \u001b[39m\u001b[32m4680\u001b[39m checkpoint_files, sharded_metadata = \u001b[43m_get_resolved_checkpoint_files\u001b[49m\u001b[43m(\u001b[49m\n\u001b[32m   4681\u001b[39m \u001b[43m    \u001b[49m\u001b[43mpretrained_model_name_or_path\u001b[49m\u001b[43m=\u001b[49m\u001b[43mpretrained_model_name_or_path\u001b[49m\u001b[43m,\u001b[49m\n\u001b[32m   4682\u001b[39m \u001b[43m    \u001b[49m\u001b[43msubfolder\u001b[49m\u001b[43m=\u001b[49m\u001b[43msubfolder\u001b[49m\u001b[43m,\u001b[49m\n\u001b[32m   4683\u001b[39m \u001b[43m    \u001b[49m\u001b[43mvariant\u001b[49m\u001b[43m=\u001b[49m\u001b[43mvariant\u001b[49m\u001b[43m,\u001b[49m\n\u001b[32m   4684\u001b[39m \u001b[43m    \u001b[49m\u001b[43mgguf_file\u001b[49m\u001b[43m=\u001b[49m\u001b[43mgguf_file\u001b[49m\u001b[43m,\u001b[49m\n\u001b[32m   4685\u001b[39m \u001b[43m    \u001b[49m\u001b[43mfrom_tf\u001b[49m\u001b[43m=\u001b[49m\u001b[43mfrom_tf\u001b[49m\u001b[43m,\u001b[49m\n\u001b[32m   4686\u001b[39m \u001b[43m    \u001b[49m\u001b[43mfrom_flax\u001b[49m\u001b[43m=\u001b[49m\u001b[43mfrom_flax\u001b[49m\u001b[43m,\u001b[49m\n\u001b[32m   4687\u001b[39m \u001b[43m    \u001b[49m\u001b[43muse_safetensors\u001b[49m\u001b[43m=\u001b[49m\u001b[43muse_safetensors\u001b[49m\u001b[43m,\u001b[49m\n\u001b[32m   4688\u001b[39m \u001b[43m    \u001b[49m\u001b[43mcache_dir\u001b[49m\u001b[43m=\u001b[49m\u001b[43mcache_dir\u001b[49m\u001b[43m,\u001b[49m\n\u001b[32m   4689\u001b[39m \u001b[43m    \u001b[49m\u001b[43mforce_download\u001b[49m\u001b[43m=\u001b[49m\u001b[43mforce_download\u001b[49m\u001b[43m,\u001b[49m\n\u001b[32m   4690\u001b[39m \u001b[43m    \u001b[49m\u001b[43mproxies\u001b[49m\u001b[43m=\u001b[49m\u001b[43mproxies\u001b[49m\u001b[43m,\u001b[49m\n\u001b[32m   4691\u001b[39m \u001b[43m    \u001b[49m\u001b[43mlocal_files_only\u001b[49m\u001b[43m=\u001b[49m\u001b[43mlocal_files_only\u001b[49m\u001b[43m,\u001b[49m\n\u001b[32m   4692\u001b[39m \u001b[43m    \u001b[49m\u001b[43mtoken\u001b[49m\u001b[43m=\u001b[49m\u001b[43mtoken\u001b[49m\u001b[43m,\u001b[49m\n\u001b[32m   4693\u001b[39m \u001b[43m    \u001b[49m\u001b[43muser_agent\u001b[49m\u001b[43m=\u001b[49m\u001b[43muser_agent\u001b[49m\u001b[43m,\u001b[49m\n\u001b[32m   4694\u001b[39m \u001b[43m    \u001b[49m\u001b[43mrevision\u001b[49m\u001b[43m=\u001b[49m\u001b[43mrevision\u001b[49m\u001b[43m,\u001b[49m\n\u001b[32m   4695\u001b[39m \u001b[43m    \u001b[49m\u001b[43mcommit_hash\u001b[49m\u001b[43m=\u001b[49m\u001b[43mcommit_hash\u001b[49m\u001b[43m,\u001b[49m\n\u001b[32m   4696\u001b[39m \u001b[43m    \u001b[49m\u001b[43mis_remote_code\u001b[49m\u001b[43m=\u001b[49m\u001b[38;5;28;43mcls\u001b[39;49m\u001b[43m.\u001b[49m\u001b[43m_auto_class\u001b[49m\u001b[43m \u001b[49m\u001b[38;5;129;43;01mis\u001b[39;49;00m\u001b[43m \u001b[49m\u001b[38;5;129;43;01mnot\u001b[39;49;00m\u001b[43m \u001b[49m\u001b[38;5;28;43;01mNone\u001b[39;49;00m\u001b[43m,\u001b[49m\n\u001b[32m   4697\u001b[39m \u001b[43m    \u001b[49m\u001b[43mtransformers_explicit_filename\u001b[49m\u001b[43m=\u001b[49m\u001b[43mtransformers_explicit_filename\u001b[49m\u001b[43m,\u001b[49m\n\u001b[32m   4698\u001b[39m \u001b[43m\u001b[49m\u001b[43m)\u001b[49m\n\u001b[32m   4700\u001b[39m is_sharded = sharded_metadata \u001b[38;5;129;01mis\u001b[39;00m \u001b[38;5;129;01mnot\u001b[39;00m \u001b[38;5;28;01mNone\u001b[39;00m\n\u001b[32m   4701\u001b[39m is_quantized = hf_quantizer \u001b[38;5;129;01mis\u001b[39;00m \u001b[38;5;129;01mnot\u001b[39;00m \u001b[38;5;28;01mNone\u001b[39;00m\n",
      "\u001b[36mFile \u001b[39m\u001b[32m~/Documents/TenMS_Solution/venv/lib/python3.12/site-packages/transformers/modeling_utils.py:1137\u001b[39m, in \u001b[36m_get_resolved_checkpoint_files\u001b[39m\u001b[34m(pretrained_model_name_or_path, subfolder, variant, gguf_file, from_tf, from_flax, use_safetensors, cache_dir, force_download, proxies, local_files_only, token, user_agent, revision, commit_hash, is_remote_code, transformers_explicit_filename)\u001b[39m\n\u001b[32m   1122\u001b[39m \u001b[38;5;28;01mtry\u001b[39;00m:\n\u001b[32m   1123\u001b[39m     \u001b[38;5;66;03m# Load from URL or cache if already cached\u001b[39;00m\n\u001b[32m   1124\u001b[39m     cached_file_kwargs = {\n\u001b[32m   1125\u001b[39m         \u001b[33m\"\u001b[39m\u001b[33mcache_dir\u001b[39m\u001b[33m\"\u001b[39m: cache_dir,\n\u001b[32m   1126\u001b[39m         \u001b[33m\"\u001b[39m\u001b[33mforce_download\u001b[39m\u001b[33m\"\u001b[39m: force_download,\n\u001b[32m   (...)\u001b[39m\u001b[32m   1135\u001b[39m         \u001b[33m\"\u001b[39m\u001b[33m_commit_hash\u001b[39m\u001b[33m\"\u001b[39m: commit_hash,\n\u001b[32m   1136\u001b[39m     }\n\u001b[32m-> \u001b[39m\u001b[32m1137\u001b[39m     resolved_archive_file = \u001b[43mcached_file\u001b[49m\u001b[43m(\u001b[49m\u001b[43mpretrained_model_name_or_path\u001b[49m\u001b[43m,\u001b[49m\u001b[43m \u001b[49m\u001b[43mfilename\u001b[49m\u001b[43m,\u001b[49m\u001b[43m \u001b[49m\u001b[43m*\u001b[49m\u001b[43m*\u001b[49m\u001b[43mcached_file_kwargs\u001b[49m\u001b[43m)\u001b[49m\n\u001b[32m   1139\u001b[39m     \u001b[38;5;66;03m# Since we set _raise_exceptions_for_missing_entries=False, we don't get an exception but a None\u001b[39;00m\n\u001b[32m   1140\u001b[39m     \u001b[38;5;66;03m# result when internet is up, the repo and revision exist, but the file does not.\u001b[39;00m\n\u001b[32m   1141\u001b[39m     \u001b[38;5;28;01mif\u001b[39;00m resolved_archive_file \u001b[38;5;129;01mis\u001b[39;00m \u001b[38;5;28;01mNone\u001b[39;00m \u001b[38;5;129;01mand\u001b[39;00m filename == _add_variant(SAFE_WEIGHTS_NAME, variant):\n\u001b[32m   1142\u001b[39m         \u001b[38;5;66;03m# Maybe the checkpoint is sharded, we try to grab the index name in this case.\u001b[39;00m\n",
      "\u001b[36mFile \u001b[39m\u001b[32m~/Documents/TenMS_Solution/venv/lib/python3.12/site-packages/transformers/utils/hub.py:312\u001b[39m, in \u001b[36mcached_file\u001b[39m\u001b[34m(path_or_repo_id, filename, **kwargs)\u001b[39m\n\u001b[32m    254\u001b[39m \u001b[38;5;28;01mdef\u001b[39;00m\u001b[38;5;250m \u001b[39m\u001b[34mcached_file\u001b[39m(\n\u001b[32m    255\u001b[39m     path_or_repo_id: Union[\u001b[38;5;28mstr\u001b[39m, os.PathLike],\n\u001b[32m    256\u001b[39m     filename: \u001b[38;5;28mstr\u001b[39m,\n\u001b[32m    257\u001b[39m     **kwargs,\n\u001b[32m    258\u001b[39m ) -> Optional[\u001b[38;5;28mstr\u001b[39m]:\n\u001b[32m    259\u001b[39m \u001b[38;5;250m    \u001b[39m\u001b[33;03m\"\"\"\u001b[39;00m\n\u001b[32m    260\u001b[39m \u001b[33;03m    Tries to locate a file in a local folder and repo, downloads and cache it if necessary.\u001b[39;00m\n\u001b[32m    261\u001b[39m \n\u001b[32m   (...)\u001b[39m\u001b[32m    310\u001b[39m \u001b[33;03m    ```\u001b[39;00m\n\u001b[32m    311\u001b[39m \u001b[33;03m    \"\"\"\u001b[39;00m\n\u001b[32m--> \u001b[39m\u001b[32m312\u001b[39m     file = \u001b[43mcached_files\u001b[49m\u001b[43m(\u001b[49m\u001b[43mpath_or_repo_id\u001b[49m\u001b[43m=\u001b[49m\u001b[43mpath_or_repo_id\u001b[49m\u001b[43m,\u001b[49m\u001b[43m \u001b[49m\u001b[43mfilenames\u001b[49m\u001b[43m=\u001b[49m\u001b[43m[\u001b[49m\u001b[43mfilename\u001b[49m\u001b[43m]\u001b[49m\u001b[43m,\u001b[49m\u001b[43m \u001b[49m\u001b[43m*\u001b[49m\u001b[43m*\u001b[49m\u001b[43mkwargs\u001b[49m\u001b[43m)\u001b[49m\n\u001b[32m    313\u001b[39m     file = file[\u001b[32m0\u001b[39m] \u001b[38;5;28;01mif\u001b[39;00m file \u001b[38;5;129;01mis\u001b[39;00m \u001b[38;5;129;01mnot\u001b[39;00m \u001b[38;5;28;01mNone\u001b[39;00m \u001b[38;5;28;01melse\u001b[39;00m file\n\u001b[32m    314\u001b[39m     \u001b[38;5;28;01mreturn\u001b[39;00m file\n",
      "\u001b[36mFile \u001b[39m\u001b[32m~/Documents/TenMS_Solution/venv/lib/python3.12/site-packages/transformers/utils/hub.py:470\u001b[39m, in \u001b[36mcached_files\u001b[39m\u001b[34m(path_or_repo_id, filenames, cache_dir, force_download, resume_download, proxies, token, revision, local_files_only, subfolder, repo_type, user_agent, _raise_exceptions_for_gated_repo, _raise_exceptions_for_missing_entries, _raise_exceptions_for_connection_errors, _commit_hash, **deprecated_kwargs)\u001b[39m\n\u001b[32m    467\u001b[39m \u001b[38;5;28;01mtry\u001b[39;00m:\n\u001b[32m    468\u001b[39m     \u001b[38;5;28;01mif\u001b[39;00m \u001b[38;5;28mlen\u001b[39m(full_filenames) == \u001b[32m1\u001b[39m:\n\u001b[32m    469\u001b[39m         \u001b[38;5;66;03m# This is slightly better for only 1 file\u001b[39;00m\n\u001b[32m--> \u001b[39m\u001b[32m470\u001b[39m         \u001b[43mhf_hub_download\u001b[49m\u001b[43m(\u001b[49m\n\u001b[32m    471\u001b[39m \u001b[43m            \u001b[49m\u001b[43mpath_or_repo_id\u001b[49m\u001b[43m,\u001b[49m\n\u001b[32m    472\u001b[39m \u001b[43m            \u001b[49m\u001b[43mfilenames\u001b[49m\u001b[43m[\u001b[49m\u001b[32;43m0\u001b[39;49m\u001b[43m]\u001b[49m\u001b[43m,\u001b[49m\n\u001b[32m    473\u001b[39m \u001b[43m            \u001b[49m\u001b[43msubfolder\u001b[49m\u001b[43m=\u001b[49m\u001b[38;5;28;43;01mNone\u001b[39;49;00m\u001b[43m \u001b[49m\u001b[38;5;28;43;01mif\u001b[39;49;00m\u001b[43m \u001b[49m\u001b[38;5;28;43mlen\u001b[39;49m\u001b[43m(\u001b[49m\u001b[43msubfolder\u001b[49m\u001b[43m)\u001b[49m\u001b[43m \u001b[49m\u001b[43m==\u001b[49m\u001b[43m \u001b[49m\u001b[32;43m0\u001b[39;49m\u001b[43m \u001b[49m\u001b[38;5;28;43;01melse\u001b[39;49;00m\u001b[43m \u001b[49m\u001b[43msubfolder\u001b[49m\u001b[43m,\u001b[49m\n\u001b[32m    474\u001b[39m \u001b[43m            \u001b[49m\u001b[43mrepo_type\u001b[49m\u001b[43m=\u001b[49m\u001b[43mrepo_type\u001b[49m\u001b[43m,\u001b[49m\n\u001b[32m    475\u001b[39m \u001b[43m            \u001b[49m\u001b[43mrevision\u001b[49m\u001b[43m=\u001b[49m\u001b[43mrevision\u001b[49m\u001b[43m,\u001b[49m\n\u001b[32m    476\u001b[39m \u001b[43m            \u001b[49m\u001b[43mcache_dir\u001b[49m\u001b[43m=\u001b[49m\u001b[43mcache_dir\u001b[49m\u001b[43m,\u001b[49m\n\u001b[32m    477\u001b[39m \u001b[43m            \u001b[49m\u001b[43muser_agent\u001b[49m\u001b[43m=\u001b[49m\u001b[43muser_agent\u001b[49m\u001b[43m,\u001b[49m\n\u001b[32m    478\u001b[39m \u001b[43m            \u001b[49m\u001b[43mforce_download\u001b[49m\u001b[43m=\u001b[49m\u001b[43mforce_download\u001b[49m\u001b[43m,\u001b[49m\n\u001b[32m    479\u001b[39m \u001b[43m            \u001b[49m\u001b[43mproxies\u001b[49m\u001b[43m=\u001b[49m\u001b[43mproxies\u001b[49m\u001b[43m,\u001b[49m\n\u001b[32m    480\u001b[39m \u001b[43m            \u001b[49m\u001b[43mresume_download\u001b[49m\u001b[43m=\u001b[49m\u001b[43mresume_download\u001b[49m\u001b[43m,\u001b[49m\n\u001b[32m    481\u001b[39m \u001b[43m            \u001b[49m\u001b[43mtoken\u001b[49m\u001b[43m=\u001b[49m\u001b[43mtoken\u001b[49m\u001b[43m,\u001b[49m\n\u001b[32m    482\u001b[39m \u001b[43m            \u001b[49m\u001b[43mlocal_files_only\u001b[49m\u001b[43m=\u001b[49m\u001b[43mlocal_files_only\u001b[49m\u001b[43m,\u001b[49m\n\u001b[32m    483\u001b[39m \u001b[43m        \u001b[49m\u001b[43m)\u001b[49m\n\u001b[32m    484\u001b[39m     \u001b[38;5;28;01melse\u001b[39;00m:\n\u001b[32m    485\u001b[39m         snapshot_download(\n\u001b[32m    486\u001b[39m             path_or_repo_id,\n\u001b[32m    487\u001b[39m             allow_patterns=full_filenames,\n\u001b[32m   (...)\u001b[39m\u001b[32m    496\u001b[39m             local_files_only=local_files_only,\n\u001b[32m    497\u001b[39m         )\n",
      "\u001b[36mFile \u001b[39m\u001b[32m~/Documents/TenMS_Solution/venv/lib/python3.12/site-packages/huggingface_hub/utils/_validators.py:114\u001b[39m, in \u001b[36mvalidate_hf_hub_args.<locals>._inner_fn\u001b[39m\u001b[34m(*args, **kwargs)\u001b[39m\n\u001b[32m    111\u001b[39m \u001b[38;5;28;01mif\u001b[39;00m check_use_auth_token:\n\u001b[32m    112\u001b[39m     kwargs = smoothly_deprecate_use_auth_token(fn_name=fn.\u001b[34m__name__\u001b[39m, has_token=has_token, kwargs=kwargs)\n\u001b[32m--> \u001b[39m\u001b[32m114\u001b[39m \u001b[38;5;28;01mreturn\u001b[39;00m \u001b[43mfn\u001b[49m\u001b[43m(\u001b[49m\u001b[43m*\u001b[49m\u001b[43margs\u001b[49m\u001b[43m,\u001b[49m\u001b[43m \u001b[49m\u001b[43m*\u001b[49m\u001b[43m*\u001b[49m\u001b[43mkwargs\u001b[49m\u001b[43m)\u001b[49m\n",
      "\u001b[36mFile \u001b[39m\u001b[32m~/Documents/TenMS_Solution/venv/lib/python3.12/site-packages/huggingface_hub/file_download.py:1008\u001b[39m, in \u001b[36mhf_hub_download\u001b[39m\u001b[34m(repo_id, filename, subfolder, repo_type, revision, library_name, library_version, cache_dir, local_dir, user_agent, force_download, proxies, etag_timeout, token, local_files_only, headers, endpoint, resume_download, force_filename, local_dir_use_symlinks)\u001b[39m\n\u001b[32m    988\u001b[39m     \u001b[38;5;28;01mreturn\u001b[39;00m _hf_hub_download_to_local_dir(\n\u001b[32m    989\u001b[39m         \u001b[38;5;66;03m# Destination\u001b[39;00m\n\u001b[32m    990\u001b[39m         local_dir=local_dir,\n\u001b[32m   (...)\u001b[39m\u001b[32m   1005\u001b[39m         local_files_only=local_files_only,\n\u001b[32m   1006\u001b[39m     )\n\u001b[32m   1007\u001b[39m \u001b[38;5;28;01melse\u001b[39;00m:\n\u001b[32m-> \u001b[39m\u001b[32m1008\u001b[39m     \u001b[38;5;28;01mreturn\u001b[39;00m \u001b[43m_hf_hub_download_to_cache_dir\u001b[49m\u001b[43m(\u001b[49m\n\u001b[32m   1009\u001b[39m \u001b[43m        \u001b[49m\u001b[38;5;66;43;03m# Destination\u001b[39;49;00m\n\u001b[32m   1010\u001b[39m \u001b[43m        \u001b[49m\u001b[43mcache_dir\u001b[49m\u001b[43m=\u001b[49m\u001b[43mcache_dir\u001b[49m\u001b[43m,\u001b[49m\n\u001b[32m   1011\u001b[39m \u001b[43m        \u001b[49m\u001b[38;5;66;43;03m# File info\u001b[39;49;00m\n\u001b[32m   1012\u001b[39m \u001b[43m        \u001b[49m\u001b[43mrepo_id\u001b[49m\u001b[43m=\u001b[49m\u001b[43mrepo_id\u001b[49m\u001b[43m,\u001b[49m\n\u001b[32m   1013\u001b[39m \u001b[43m        \u001b[49m\u001b[43mfilename\u001b[49m\u001b[43m=\u001b[49m\u001b[43mfilename\u001b[49m\u001b[43m,\u001b[49m\n\u001b[32m   1014\u001b[39m \u001b[43m        \u001b[49m\u001b[43mrepo_type\u001b[49m\u001b[43m=\u001b[49m\u001b[43mrepo_type\u001b[49m\u001b[43m,\u001b[49m\n\u001b[32m   1015\u001b[39m \u001b[43m        \u001b[49m\u001b[43mrevision\u001b[49m\u001b[43m=\u001b[49m\u001b[43mrevision\u001b[49m\u001b[43m,\u001b[49m\n\u001b[32m   1016\u001b[39m \u001b[43m        \u001b[49m\u001b[38;5;66;43;03m# HTTP info\u001b[39;49;00m\n\u001b[32m   1017\u001b[39m \u001b[43m        \u001b[49m\u001b[43mendpoint\u001b[49m\u001b[43m=\u001b[49m\u001b[43mendpoint\u001b[49m\u001b[43m,\u001b[49m\n\u001b[32m   1018\u001b[39m \u001b[43m        \u001b[49m\u001b[43metag_timeout\u001b[49m\u001b[43m=\u001b[49m\u001b[43metag_timeout\u001b[49m\u001b[43m,\u001b[49m\n\u001b[32m   1019\u001b[39m \u001b[43m        \u001b[49m\u001b[43mheaders\u001b[49m\u001b[43m=\u001b[49m\u001b[43mhf_headers\u001b[49m\u001b[43m,\u001b[49m\n\u001b[32m   1020\u001b[39m \u001b[43m        \u001b[49m\u001b[43mproxies\u001b[49m\u001b[43m=\u001b[49m\u001b[43mproxies\u001b[49m\u001b[43m,\u001b[49m\n\u001b[32m   1021\u001b[39m \u001b[43m        \u001b[49m\u001b[43mtoken\u001b[49m\u001b[43m=\u001b[49m\u001b[43mtoken\u001b[49m\u001b[43m,\u001b[49m\n\u001b[32m   1022\u001b[39m \u001b[43m        \u001b[49m\u001b[38;5;66;43;03m# Additional options\u001b[39;49;00m\n\u001b[32m   1023\u001b[39m \u001b[43m        \u001b[49m\u001b[43mlocal_files_only\u001b[49m\u001b[43m=\u001b[49m\u001b[43mlocal_files_only\u001b[49m\u001b[43m,\u001b[49m\n\u001b[32m   1024\u001b[39m \u001b[43m        \u001b[49m\u001b[43mforce_download\u001b[49m\u001b[43m=\u001b[49m\u001b[43mforce_download\u001b[49m\u001b[43m,\u001b[49m\n\u001b[32m   1025\u001b[39m \u001b[43m    \u001b[49m\u001b[43m)\u001b[49m\n",
      "\u001b[36mFile \u001b[39m\u001b[32m~/Documents/TenMS_Solution/venv/lib/python3.12/site-packages/huggingface_hub/file_download.py:1169\u001b[39m, in \u001b[36m_hf_hub_download_to_cache_dir\u001b[39m\u001b[34m(cache_dir, repo_id, filename, repo_type, revision, endpoint, etag_timeout, headers, proxies, token, local_files_only, force_download)\u001b[39m\n\u001b[32m   1166\u001b[39m \u001b[38;5;66;03m# Local file doesn't exist or etag isn't a match => retrieve file from remote (or cache)\u001b[39;00m\n\u001b[32m   1168\u001b[39m \u001b[38;5;28;01mwith\u001b[39;00m WeakFileLock(lock_path):\n\u001b[32m-> \u001b[39m\u001b[32m1169\u001b[39m     \u001b[43m_download_to_tmp_and_move\u001b[49m\u001b[43m(\u001b[49m\n\u001b[32m   1170\u001b[39m \u001b[43m        \u001b[49m\u001b[43mincomplete_path\u001b[49m\u001b[43m=\u001b[49m\u001b[43mPath\u001b[49m\u001b[43m(\u001b[49m\u001b[43mblob_path\u001b[49m\u001b[43m \u001b[49m\u001b[43m+\u001b[49m\u001b[43m \u001b[49m\u001b[33;43m\"\u001b[39;49m\u001b[33;43m.incomplete\u001b[39;49m\u001b[33;43m\"\u001b[39;49m\u001b[43m)\u001b[49m\u001b[43m,\u001b[49m\n\u001b[32m   1171\u001b[39m \u001b[43m        \u001b[49m\u001b[43mdestination_path\u001b[49m\u001b[43m=\u001b[49m\u001b[43mPath\u001b[49m\u001b[43m(\u001b[49m\u001b[43mblob_path\u001b[49m\u001b[43m)\u001b[49m\u001b[43m,\u001b[49m\n\u001b[32m   1172\u001b[39m \u001b[43m        \u001b[49m\u001b[43murl_to_download\u001b[49m\u001b[43m=\u001b[49m\u001b[43murl_to_download\u001b[49m\u001b[43m,\u001b[49m\n\u001b[32m   1173\u001b[39m \u001b[43m        \u001b[49m\u001b[43mproxies\u001b[49m\u001b[43m=\u001b[49m\u001b[43mproxies\u001b[49m\u001b[43m,\u001b[49m\n\u001b[32m   1174\u001b[39m \u001b[43m        \u001b[49m\u001b[43mheaders\u001b[49m\u001b[43m=\u001b[49m\u001b[43mheaders\u001b[49m\u001b[43m,\u001b[49m\n\u001b[32m   1175\u001b[39m \u001b[43m        \u001b[49m\u001b[43mexpected_size\u001b[49m\u001b[43m=\u001b[49m\u001b[43mexpected_size\u001b[49m\u001b[43m,\u001b[49m\n\u001b[32m   1176\u001b[39m \u001b[43m        \u001b[49m\u001b[43mfilename\u001b[49m\u001b[43m=\u001b[49m\u001b[43mfilename\u001b[49m\u001b[43m,\u001b[49m\n\u001b[32m   1177\u001b[39m \u001b[43m        \u001b[49m\u001b[43mforce_download\u001b[49m\u001b[43m=\u001b[49m\u001b[43mforce_download\u001b[49m\u001b[43m,\u001b[49m\n\u001b[32m   1178\u001b[39m \u001b[43m        \u001b[49m\u001b[43metag\u001b[49m\u001b[43m=\u001b[49m\u001b[43metag\u001b[49m\u001b[43m,\u001b[49m\n\u001b[32m   1179\u001b[39m \u001b[43m        \u001b[49m\u001b[43mxet_file_data\u001b[49m\u001b[43m=\u001b[49m\u001b[43mxet_file_data\u001b[49m\u001b[43m,\u001b[49m\n\u001b[32m   1180\u001b[39m \u001b[43m    \u001b[49m\u001b[43m)\u001b[49m\n\u001b[32m   1181\u001b[39m     \u001b[38;5;28;01mif\u001b[39;00m \u001b[38;5;129;01mnot\u001b[39;00m os.path.exists(pointer_path):\n\u001b[32m   1182\u001b[39m         _create_symlink(blob_path, pointer_path, new_blob=\u001b[38;5;28;01mTrue\u001b[39;00m)\n",
      "\u001b[36mFile \u001b[39m\u001b[32m~/Documents/TenMS_Solution/venv/lib/python3.12/site-packages/huggingface_hub/file_download.py:1721\u001b[39m, in \u001b[36m_download_to_tmp_and_move\u001b[39m\u001b[34m(incomplete_path, destination_path, url_to_download, proxies, headers, expected_size, filename, force_download, etag, xet_file_data)\u001b[39m\n\u001b[32m   1719\u001b[39m \u001b[38;5;28;01mif\u001b[39;00m xet_file_data \u001b[38;5;129;01mis\u001b[39;00m \u001b[38;5;129;01mnot\u001b[39;00m \u001b[38;5;28;01mNone\u001b[39;00m \u001b[38;5;129;01mand\u001b[39;00m is_xet_available():\n\u001b[32m   1720\u001b[39m     logger.debug(\u001b[33m\"\u001b[39m\u001b[33mXet Storage is enabled for this repo. Downloading file from Xet Storage..\u001b[39m\u001b[33m\"\u001b[39m)\n\u001b[32m-> \u001b[39m\u001b[32m1721\u001b[39m     \u001b[43mxet_get\u001b[49m\u001b[43m(\u001b[49m\n\u001b[32m   1722\u001b[39m \u001b[43m        \u001b[49m\u001b[43mincomplete_path\u001b[49m\u001b[43m=\u001b[49m\u001b[43mincomplete_path\u001b[49m\u001b[43m,\u001b[49m\n\u001b[32m   1723\u001b[39m \u001b[43m        \u001b[49m\u001b[43mxet_file_data\u001b[49m\u001b[43m=\u001b[49m\u001b[43mxet_file_data\u001b[49m\u001b[43m,\u001b[49m\n\u001b[32m   1724\u001b[39m \u001b[43m        \u001b[49m\u001b[43mheaders\u001b[49m\u001b[43m=\u001b[49m\u001b[43mheaders\u001b[49m\u001b[43m,\u001b[49m\n\u001b[32m   1725\u001b[39m \u001b[43m        \u001b[49m\u001b[43mexpected_size\u001b[49m\u001b[43m=\u001b[49m\u001b[43mexpected_size\u001b[49m\u001b[43m,\u001b[49m\n\u001b[32m   1726\u001b[39m \u001b[43m        \u001b[49m\u001b[43mdisplayed_filename\u001b[49m\u001b[43m=\u001b[49m\u001b[43mfilename\u001b[49m\u001b[43m,\u001b[49m\n\u001b[32m   1727\u001b[39m \u001b[43m    \u001b[49m\u001b[43m)\u001b[49m\n\u001b[32m   1728\u001b[39m \u001b[38;5;28;01melse\u001b[39;00m:\n\u001b[32m   1729\u001b[39m     \u001b[38;5;28;01mif\u001b[39;00m xet_file_data \u001b[38;5;129;01mis\u001b[39;00m \u001b[38;5;129;01mnot\u001b[39;00m \u001b[38;5;28;01mNone\u001b[39;00m \u001b[38;5;129;01mand\u001b[39;00m \u001b[38;5;129;01mnot\u001b[39;00m constants.HF_HUB_DISABLE_XET:\n",
      "\u001b[36mFile \u001b[39m\u001b[32m~/Documents/TenMS_Solution/venv/lib/python3.12/site-packages/huggingface_hub/file_download.py:622\u001b[39m, in \u001b[36mxet_get\u001b[39m\u001b[34m(incomplete_path, xet_file_data, headers, expected_size, displayed_filename, _tqdm_bar)\u001b[39m\n\u001b[32m    611\u001b[39m     displayed_filename = \u001b[33mf\u001b[39m\u001b[33m\"\u001b[39m\u001b[38;5;132;01m{\u001b[39;00mdisplayed_filename[:\u001b[32m40\u001b[39m]\u001b[38;5;132;01m}\u001b[39;00m\u001b[33m(…)\u001b[39m\u001b[33m\"\u001b[39m\n\u001b[32m    613\u001b[39m progress_cm = _get_progress_bar_context(\n\u001b[32m    614\u001b[39m     desc=displayed_filename,\n\u001b[32m    615\u001b[39m     log_level=logger.getEffectiveLevel(),\n\u001b[32m   (...)\u001b[39m\u001b[32m    619\u001b[39m     _tqdm_bar=_tqdm_bar,\n\u001b[32m    620\u001b[39m )\n\u001b[32m--> \u001b[39m\u001b[32m622\u001b[39m \u001b[38;5;28;01mwith\u001b[39;00m progress_cm \u001b[38;5;28;01mas\u001b[39;00m progress:\n\u001b[32m    624\u001b[39m     \u001b[38;5;28;01mdef\u001b[39;00m\u001b[38;5;250m \u001b[39m\u001b[34mprogress_updater\u001b[39m(progress_bytes: \u001b[38;5;28mfloat\u001b[39m):\n\u001b[32m    625\u001b[39m         progress.update(progress_bytes)\n",
      "\u001b[36mFile \u001b[39m\u001b[32m~/Documents/TenMS_Solution/venv/lib/python3.12/site-packages/tqdm/std.py:1138\u001b[39m, in \u001b[36mtqdm.__exit__\u001b[39m\u001b[34m(self, exc_type, exc_value, traceback)\u001b[39m\n\u001b[32m   1135\u001b[39m \u001b[38;5;28;01mdef\u001b[39;00m\u001b[38;5;250m \u001b[39m\u001b[34m__enter__\u001b[39m(\u001b[38;5;28mself\u001b[39m):\n\u001b[32m   1136\u001b[39m     \u001b[38;5;28;01mreturn\u001b[39;00m \u001b[38;5;28mself\u001b[39m\n\u001b[32m-> \u001b[39m\u001b[32m1138\u001b[39m \u001b[38;5;28;01mdef\u001b[39;00m\u001b[38;5;250m \u001b[39m\u001b[34m__exit__\u001b[39m(\u001b[38;5;28mself\u001b[39m, exc_type, exc_value, traceback):\n\u001b[32m   1139\u001b[39m     \u001b[38;5;28;01mtry\u001b[39;00m:\n\u001b[32m   1140\u001b[39m         \u001b[38;5;28mself\u001b[39m.close()\n",
      "\u001b[31mKeyboardInterrupt\u001b[39m: "
     ]
    }
   ],
   "source": [
    "from transformers import pipeline, AutoTokenizer, AutoModelForCausalLM\n",
    "from langchain.llms import HuggingFacePipeline\n",
    "\n",
    "# Load Hugging Face model and tokenizer\n",
    "model_id = \"Qwen/Qwen1.5-1.8B-Chat\"  \n",
    "tokenizer = AutoTokenizer.from_pretrained(model_id)\n",
    "model = AutoModelForCausalLM.from_pretrained(model_id)\n",
    "\n",
    "# Create a text generation pipeline\n",
    "pipe = pipeline(\"text-generation\", model=model, tokenizer=tokenizer, max_new_tokens=512)\n",
    "\n",
    "# Wrap in LangChain-compatible LLM\n",
    "llm_qwen = HuggingFacePipeline(pipeline=pipe)\n"
   ]
  },
  {
   "cell_type": "code",
   "execution_count": null,
   "id": "2a977bac",
   "metadata": {},
   "outputs": [],
   "source": [
    "rag_chat_with_memory(\"অনুপমের ভাষায় সুপুরুষ কাকে বলা হয়েছে?\", llm=llm_qwen)"
   ]
  }
 ],
 "metadata": {
  "kernelspec": {
   "display_name": "venv (3.12.7)",
   "language": "python",
   "name": "python3"
  },
  "language_info": {
   "codemirror_mode": {
    "name": "ipython",
    "version": 3
   },
   "file_extension": ".py",
   "mimetype": "text/x-python",
   "name": "python",
   "nbconvert_exporter": "python",
   "pygments_lexer": "ipython3",
   "version": "3.12.7"
  }
 },
 "nbformat": 4,
 "nbformat_minor": 5
}
